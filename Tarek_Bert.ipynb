{
  "nbformat": 4,
  "nbformat_minor": 0,
  "metadata": {
    "accelerator": "TPU",
    "colab": {
      "name": "Tarek_Bert.ipynb",
      "provenance": [],
      "collapsed_sections": [],
      "toc_visible": true
    },
    "kernelspec": {
      "display_name": "Python 3",
      "language": "python",
      "name": "python3"
    },
    "language_info": {
      "codemirror_mode": {
        "name": "ipython",
        "version": 3
      },
      "file_extension": ".py",
      "mimetype": "text/x-python",
      "name": "python",
      "nbconvert_exporter": "python",
      "pygments_lexer": "ipython3",
      "version": "3.6.8"
    },
    "widgets": {
      "application/vnd.jupyter.widget-state+json": {
        "4c25bd32512048ffa4c3441ccfc6dd9e": {
          "model_module": "@jupyter-widgets/controls",
          "model_name": "HBoxModel",
          "state": {
            "_view_name": "HBoxView",
            "_dom_classes": [],
            "_model_name": "HBoxModel",
            "_view_module": "@jupyter-widgets/controls",
            "_model_module_version": "1.5.0",
            "_view_count": null,
            "_view_module_version": "1.5.0",
            "box_style": "",
            "layout": "IPY_MODEL_0fe7794aea5241008afae05fe8fddbdd",
            "_model_module": "@jupyter-widgets/controls",
            "children": [
              "IPY_MODEL_abf8ba1a01354cd89fe95b91676ca22c",
              "IPY_MODEL_48320f275add4939acaa6e50fac74a0f"
            ]
          }
        },
        "0fe7794aea5241008afae05fe8fddbdd": {
          "model_module": "@jupyter-widgets/base",
          "model_name": "LayoutModel",
          "state": {
            "_view_name": "LayoutView",
            "grid_template_rows": null,
            "right": null,
            "justify_content": null,
            "_view_module": "@jupyter-widgets/base",
            "overflow": null,
            "_model_module_version": "1.2.0",
            "_view_count": null,
            "flex_flow": null,
            "width": null,
            "min_width": null,
            "border": null,
            "align_items": null,
            "bottom": null,
            "_model_module": "@jupyter-widgets/base",
            "top": null,
            "grid_column": null,
            "overflow_y": null,
            "overflow_x": null,
            "grid_auto_flow": null,
            "grid_area": null,
            "grid_template_columns": null,
            "flex": null,
            "_model_name": "LayoutModel",
            "justify_items": null,
            "grid_row": null,
            "max_height": null,
            "align_content": null,
            "visibility": null,
            "align_self": null,
            "height": null,
            "min_height": null,
            "padding": null,
            "grid_auto_rows": null,
            "grid_gap": null,
            "max_width": null,
            "order": null,
            "_view_module_version": "1.2.0",
            "grid_template_areas": null,
            "object_position": null,
            "object_fit": null,
            "grid_auto_columns": null,
            "margin": null,
            "display": null,
            "left": null
          }
        },
        "abf8ba1a01354cd89fe95b91676ca22c": {
          "model_module": "@jupyter-widgets/controls",
          "model_name": "FloatProgressModel",
          "state": {
            "_view_name": "ProgressView",
            "style": "IPY_MODEL_06afde2da14c4f2b93787cfa5e28c9e5",
            "_dom_classes": [],
            "description": "Downloading: 100%",
            "_model_name": "FloatProgressModel",
            "bar_style": "success",
            "max": 995526,
            "_view_module": "@jupyter-widgets/controls",
            "_model_module_version": "1.5.0",
            "value": 995526,
            "_view_count": null,
            "_view_module_version": "1.5.0",
            "orientation": "horizontal",
            "min": 0,
            "description_tooltip": null,
            "_model_module": "@jupyter-widgets/controls",
            "layout": "IPY_MODEL_bebad88b6a2d4033ada4f86721222ee5"
          }
        },
        "48320f275add4939acaa6e50fac74a0f": {
          "model_module": "@jupyter-widgets/controls",
          "model_name": "HTMLModel",
          "state": {
            "_view_name": "HTMLView",
            "style": "IPY_MODEL_ba54bcc87267449db226b3ff52616d07",
            "_dom_classes": [],
            "description": "",
            "_model_name": "HTMLModel",
            "placeholder": "​",
            "_view_module": "@jupyter-widgets/controls",
            "_model_module_version": "1.5.0",
            "value": " 996k/996k [00:19&lt;00:00, 51.4kB/s]",
            "_view_count": null,
            "_view_module_version": "1.5.0",
            "description_tooltip": null,
            "_model_module": "@jupyter-widgets/controls",
            "layout": "IPY_MODEL_bff874e55f84403cbcd2baa2d29e0cb1"
          }
        },
        "06afde2da14c4f2b93787cfa5e28c9e5": {
          "model_module": "@jupyter-widgets/controls",
          "model_name": "ProgressStyleModel",
          "state": {
            "_view_name": "StyleView",
            "_model_name": "ProgressStyleModel",
            "description_width": "initial",
            "_view_module": "@jupyter-widgets/base",
            "_model_module_version": "1.5.0",
            "_view_count": null,
            "_view_module_version": "1.2.0",
            "bar_color": null,
            "_model_module": "@jupyter-widgets/controls"
          }
        },
        "bebad88b6a2d4033ada4f86721222ee5": {
          "model_module": "@jupyter-widgets/base",
          "model_name": "LayoutModel",
          "state": {
            "_view_name": "LayoutView",
            "grid_template_rows": null,
            "right": null,
            "justify_content": null,
            "_view_module": "@jupyter-widgets/base",
            "overflow": null,
            "_model_module_version": "1.2.0",
            "_view_count": null,
            "flex_flow": null,
            "width": null,
            "min_width": null,
            "border": null,
            "align_items": null,
            "bottom": null,
            "_model_module": "@jupyter-widgets/base",
            "top": null,
            "grid_column": null,
            "overflow_y": null,
            "overflow_x": null,
            "grid_auto_flow": null,
            "grid_area": null,
            "grid_template_columns": null,
            "flex": null,
            "_model_name": "LayoutModel",
            "justify_items": null,
            "grid_row": null,
            "max_height": null,
            "align_content": null,
            "visibility": null,
            "align_self": null,
            "height": null,
            "min_height": null,
            "padding": null,
            "grid_auto_rows": null,
            "grid_gap": null,
            "max_width": null,
            "order": null,
            "_view_module_version": "1.2.0",
            "grid_template_areas": null,
            "object_position": null,
            "object_fit": null,
            "grid_auto_columns": null,
            "margin": null,
            "display": null,
            "left": null
          }
        },
        "ba54bcc87267449db226b3ff52616d07": {
          "model_module": "@jupyter-widgets/controls",
          "model_name": "DescriptionStyleModel",
          "state": {
            "_view_name": "StyleView",
            "_model_name": "DescriptionStyleModel",
            "description_width": "",
            "_view_module": "@jupyter-widgets/base",
            "_model_module_version": "1.5.0",
            "_view_count": null,
            "_view_module_version": "1.2.0",
            "_model_module": "@jupyter-widgets/controls"
          }
        },
        "bff874e55f84403cbcd2baa2d29e0cb1": {
          "model_module": "@jupyter-widgets/base",
          "model_name": "LayoutModel",
          "state": {
            "_view_name": "LayoutView",
            "grid_template_rows": null,
            "right": null,
            "justify_content": null,
            "_view_module": "@jupyter-widgets/base",
            "overflow": null,
            "_model_module_version": "1.2.0",
            "_view_count": null,
            "flex_flow": null,
            "width": null,
            "min_width": null,
            "border": null,
            "align_items": null,
            "bottom": null,
            "_model_module": "@jupyter-widgets/base",
            "top": null,
            "grid_column": null,
            "overflow_y": null,
            "overflow_x": null,
            "grid_auto_flow": null,
            "grid_area": null,
            "grid_template_columns": null,
            "flex": null,
            "_model_name": "LayoutModel",
            "justify_items": null,
            "grid_row": null,
            "max_height": null,
            "align_content": null,
            "visibility": null,
            "align_self": null,
            "height": null,
            "min_height": null,
            "padding": null,
            "grid_auto_rows": null,
            "grid_gap": null,
            "max_width": null,
            "order": null,
            "_view_module_version": "1.2.0",
            "grid_template_areas": null,
            "object_position": null,
            "object_fit": null,
            "grid_auto_columns": null,
            "margin": null,
            "display": null,
            "left": null
          }
        },
        "401cdfb662bf4617884cb2552113d2c4": {
          "model_module": "@jupyter-widgets/controls",
          "model_name": "HBoxModel",
          "state": {
            "_view_name": "HBoxView",
            "_dom_classes": [],
            "_model_name": "HBoxModel",
            "_view_module": "@jupyter-widgets/controls",
            "_model_module_version": "1.5.0",
            "_view_count": null,
            "_view_module_version": "1.5.0",
            "box_style": "",
            "layout": "IPY_MODEL_88778a8cf82945039f30a7df46444868",
            "_model_module": "@jupyter-widgets/controls",
            "children": [
              "IPY_MODEL_6a64cd19244f41489246ba36c79373f6",
              "IPY_MODEL_744903d2f64b4b6998c186e5345fe0dc"
            ]
          }
        },
        "88778a8cf82945039f30a7df46444868": {
          "model_module": "@jupyter-widgets/base",
          "model_name": "LayoutModel",
          "state": {
            "_view_name": "LayoutView",
            "grid_template_rows": null,
            "right": null,
            "justify_content": null,
            "_view_module": "@jupyter-widgets/base",
            "overflow": null,
            "_model_module_version": "1.2.0",
            "_view_count": null,
            "flex_flow": null,
            "width": null,
            "min_width": null,
            "border": null,
            "align_items": null,
            "bottom": null,
            "_model_module": "@jupyter-widgets/base",
            "top": null,
            "grid_column": null,
            "overflow_y": null,
            "overflow_x": null,
            "grid_auto_flow": null,
            "grid_area": null,
            "grid_template_columns": null,
            "flex": null,
            "_model_name": "LayoutModel",
            "justify_items": null,
            "grid_row": null,
            "max_height": null,
            "align_content": null,
            "visibility": null,
            "align_self": null,
            "height": null,
            "min_height": null,
            "padding": null,
            "grid_auto_rows": null,
            "grid_gap": null,
            "max_width": null,
            "order": null,
            "_view_module_version": "1.2.0",
            "grid_template_areas": null,
            "object_position": null,
            "object_fit": null,
            "grid_auto_columns": null,
            "margin": null,
            "display": null,
            "left": null
          }
        },
        "6a64cd19244f41489246ba36c79373f6": {
          "model_module": "@jupyter-widgets/controls",
          "model_name": "FloatProgressModel",
          "state": {
            "_view_name": "ProgressView",
            "style": "IPY_MODEL_6f3621c9a291473ea4307f933465e84f",
            "_dom_classes": [],
            "description": "Downloading: 100%",
            "_model_name": "FloatProgressModel",
            "bar_style": "success",
            "max": 466,
            "_view_module": "@jupyter-widgets/controls",
            "_model_module_version": "1.5.0",
            "value": 466,
            "_view_count": null,
            "_view_module_version": "1.5.0",
            "orientation": "horizontal",
            "min": 0,
            "description_tooltip": null,
            "_model_module": "@jupyter-widgets/controls",
            "layout": "IPY_MODEL_1e8d649eab504d75803697802b7e19a1"
          }
        },
        "744903d2f64b4b6998c186e5345fe0dc": {
          "model_module": "@jupyter-widgets/controls",
          "model_name": "HTMLModel",
          "state": {
            "_view_name": "HTMLView",
            "style": "IPY_MODEL_338a1f6efe1a44819e1eff4aba01956f",
            "_dom_classes": [],
            "description": "",
            "_model_name": "HTMLModel",
            "placeholder": "​",
            "_view_module": "@jupyter-widgets/controls",
            "_model_module_version": "1.5.0",
            "value": " 466/466 [00:00&lt;00:00, 1.98kB/s]",
            "_view_count": null,
            "_view_module_version": "1.5.0",
            "description_tooltip": null,
            "_model_module": "@jupyter-widgets/controls",
            "layout": "IPY_MODEL_3c758b889c044ae5843aed56a668f8dd"
          }
        },
        "6f3621c9a291473ea4307f933465e84f": {
          "model_module": "@jupyter-widgets/controls",
          "model_name": "ProgressStyleModel",
          "state": {
            "_view_name": "StyleView",
            "_model_name": "ProgressStyleModel",
            "description_width": "initial",
            "_view_module": "@jupyter-widgets/base",
            "_model_module_version": "1.5.0",
            "_view_count": null,
            "_view_module_version": "1.2.0",
            "bar_color": null,
            "_model_module": "@jupyter-widgets/controls"
          }
        },
        "1e8d649eab504d75803697802b7e19a1": {
          "model_module": "@jupyter-widgets/base",
          "model_name": "LayoutModel",
          "state": {
            "_view_name": "LayoutView",
            "grid_template_rows": null,
            "right": null,
            "justify_content": null,
            "_view_module": "@jupyter-widgets/base",
            "overflow": null,
            "_model_module_version": "1.2.0",
            "_view_count": null,
            "flex_flow": null,
            "width": null,
            "min_width": null,
            "border": null,
            "align_items": null,
            "bottom": null,
            "_model_module": "@jupyter-widgets/base",
            "top": null,
            "grid_column": null,
            "overflow_y": null,
            "overflow_x": null,
            "grid_auto_flow": null,
            "grid_area": null,
            "grid_template_columns": null,
            "flex": null,
            "_model_name": "LayoutModel",
            "justify_items": null,
            "grid_row": null,
            "max_height": null,
            "align_content": null,
            "visibility": null,
            "align_self": null,
            "height": null,
            "min_height": null,
            "padding": null,
            "grid_auto_rows": null,
            "grid_gap": null,
            "max_width": null,
            "order": null,
            "_view_module_version": "1.2.0",
            "grid_template_areas": null,
            "object_position": null,
            "object_fit": null,
            "grid_auto_columns": null,
            "margin": null,
            "display": null,
            "left": null
          }
        },
        "338a1f6efe1a44819e1eff4aba01956f": {
          "model_module": "@jupyter-widgets/controls",
          "model_name": "DescriptionStyleModel",
          "state": {
            "_view_name": "StyleView",
            "_model_name": "DescriptionStyleModel",
            "description_width": "",
            "_view_module": "@jupyter-widgets/base",
            "_model_module_version": "1.5.0",
            "_view_count": null,
            "_view_module_version": "1.2.0",
            "_model_module": "@jupyter-widgets/controls"
          }
        },
        "3c758b889c044ae5843aed56a668f8dd": {
          "model_module": "@jupyter-widgets/base",
          "model_name": "LayoutModel",
          "state": {
            "_view_name": "LayoutView",
            "grid_template_rows": null,
            "right": null,
            "justify_content": null,
            "_view_module": "@jupyter-widgets/base",
            "overflow": null,
            "_model_module_version": "1.2.0",
            "_view_count": null,
            "flex_flow": null,
            "width": null,
            "min_width": null,
            "border": null,
            "align_items": null,
            "bottom": null,
            "_model_module": "@jupyter-widgets/base",
            "top": null,
            "grid_column": null,
            "overflow_y": null,
            "overflow_x": null,
            "grid_auto_flow": null,
            "grid_area": null,
            "grid_template_columns": null,
            "flex": null,
            "_model_name": "LayoutModel",
            "justify_items": null,
            "grid_row": null,
            "max_height": null,
            "align_content": null,
            "visibility": null,
            "align_self": null,
            "height": null,
            "min_height": null,
            "padding": null,
            "grid_auto_rows": null,
            "grid_gap": null,
            "max_width": null,
            "order": null,
            "_view_module_version": "1.2.0",
            "grid_template_areas": null,
            "object_position": null,
            "object_fit": null,
            "grid_auto_columns": null,
            "margin": null,
            "display": null,
            "left": null
          }
        },
        "f9e1831d8a884b22aa6bdd88d790f585": {
          "model_module": "@jupyter-widgets/controls",
          "model_name": "HBoxModel",
          "state": {
            "_view_name": "HBoxView",
            "_dom_classes": [],
            "_model_name": "HBoxModel",
            "_view_module": "@jupyter-widgets/controls",
            "_model_module_version": "1.5.0",
            "_view_count": null,
            "_view_module_version": "1.5.0",
            "box_style": "",
            "layout": "IPY_MODEL_189bfab99494461aa1bd175814298888",
            "_model_module": "@jupyter-widgets/controls",
            "children": [
              "IPY_MODEL_28556f70d4ba4ada837300aec3b185f8",
              "IPY_MODEL_860e9b8924de4ef08e740cadff549d56"
            ]
          }
        },
        "189bfab99494461aa1bd175814298888": {
          "model_module": "@jupyter-widgets/base",
          "model_name": "LayoutModel",
          "state": {
            "_view_name": "LayoutView",
            "grid_template_rows": null,
            "right": null,
            "justify_content": null,
            "_view_module": "@jupyter-widgets/base",
            "overflow": null,
            "_model_module_version": "1.2.0",
            "_view_count": null,
            "flex_flow": null,
            "width": null,
            "min_width": null,
            "border": null,
            "align_items": null,
            "bottom": null,
            "_model_module": "@jupyter-widgets/base",
            "top": null,
            "grid_column": null,
            "overflow_y": null,
            "overflow_x": null,
            "grid_auto_flow": null,
            "grid_area": null,
            "grid_template_columns": null,
            "flex": null,
            "_model_name": "LayoutModel",
            "justify_items": null,
            "grid_row": null,
            "max_height": null,
            "align_content": null,
            "visibility": null,
            "align_self": null,
            "height": null,
            "min_height": null,
            "padding": null,
            "grid_auto_rows": null,
            "grid_gap": null,
            "max_width": null,
            "order": null,
            "_view_module_version": "1.2.0",
            "grid_template_areas": null,
            "object_position": null,
            "object_fit": null,
            "grid_auto_columns": null,
            "margin": null,
            "display": null,
            "left": null
          }
        },
        "28556f70d4ba4ada837300aec3b185f8": {
          "model_module": "@jupyter-widgets/controls",
          "model_name": "FloatProgressModel",
          "state": {
            "_view_name": "ProgressView",
            "style": "IPY_MODEL_d98a995e551942bd94a69c481fc99ab8",
            "_dom_classes": [],
            "description": "Downloading: 100%",
            "_model_name": "FloatProgressModel",
            "bar_style": "success",
            "max": 910749124,
            "_view_module": "@jupyter-widgets/controls",
            "_model_module_version": "1.5.0",
            "value": 910749124,
            "_view_count": null,
            "_view_module_version": "1.5.0",
            "orientation": "horizontal",
            "min": 0,
            "description_tooltip": null,
            "_model_module": "@jupyter-widgets/controls",
            "layout": "IPY_MODEL_7e967a11f7cd4be6af26ba1d7e8381f2"
          }
        },
        "860e9b8924de4ef08e740cadff549d56": {
          "model_module": "@jupyter-widgets/controls",
          "model_name": "HTMLModel",
          "state": {
            "_view_name": "HTMLView",
            "style": "IPY_MODEL_0ab8b7693bcd46caa7b54fc245c51593",
            "_dom_classes": [],
            "description": "",
            "_model_name": "HTMLModel",
            "placeholder": "​",
            "_view_module": "@jupyter-widgets/controls",
            "_model_module_version": "1.5.0",
            "value": " 911M/911M [00:17&lt;00:00, 51.5MB/s]",
            "_view_count": null,
            "_view_module_version": "1.5.0",
            "description_tooltip": null,
            "_model_module": "@jupyter-widgets/controls",
            "layout": "IPY_MODEL_cef4df31325e48dabd9d8bc8cd40e00c"
          }
        },
        "d98a995e551942bd94a69c481fc99ab8": {
          "model_module": "@jupyter-widgets/controls",
          "model_name": "ProgressStyleModel",
          "state": {
            "_view_name": "StyleView",
            "_model_name": "ProgressStyleModel",
            "description_width": "initial",
            "_view_module": "@jupyter-widgets/base",
            "_model_module_version": "1.5.0",
            "_view_count": null,
            "_view_module_version": "1.2.0",
            "bar_color": null,
            "_model_module": "@jupyter-widgets/controls"
          }
        },
        "7e967a11f7cd4be6af26ba1d7e8381f2": {
          "model_module": "@jupyter-widgets/base",
          "model_name": "LayoutModel",
          "state": {
            "_view_name": "LayoutView",
            "grid_template_rows": null,
            "right": null,
            "justify_content": null,
            "_view_module": "@jupyter-widgets/base",
            "overflow": null,
            "_model_module_version": "1.2.0",
            "_view_count": null,
            "flex_flow": null,
            "width": null,
            "min_width": null,
            "border": null,
            "align_items": null,
            "bottom": null,
            "_model_module": "@jupyter-widgets/base",
            "top": null,
            "grid_column": null,
            "overflow_y": null,
            "overflow_x": null,
            "grid_auto_flow": null,
            "grid_area": null,
            "grid_template_columns": null,
            "flex": null,
            "_model_name": "LayoutModel",
            "justify_items": null,
            "grid_row": null,
            "max_height": null,
            "align_content": null,
            "visibility": null,
            "align_self": null,
            "height": null,
            "min_height": null,
            "padding": null,
            "grid_auto_rows": null,
            "grid_gap": null,
            "max_width": null,
            "order": null,
            "_view_module_version": "1.2.0",
            "grid_template_areas": null,
            "object_position": null,
            "object_fit": null,
            "grid_auto_columns": null,
            "margin": null,
            "display": null,
            "left": null
          }
        },
        "0ab8b7693bcd46caa7b54fc245c51593": {
          "model_module": "@jupyter-widgets/controls",
          "model_name": "DescriptionStyleModel",
          "state": {
            "_view_name": "StyleView",
            "_model_name": "DescriptionStyleModel",
            "description_width": "",
            "_view_module": "@jupyter-widgets/base",
            "_model_module_version": "1.5.0",
            "_view_count": null,
            "_view_module_version": "1.2.0",
            "_model_module": "@jupyter-widgets/controls"
          }
        },
        "cef4df31325e48dabd9d8bc8cd40e00c": {
          "model_module": "@jupyter-widgets/base",
          "model_name": "LayoutModel",
          "state": {
            "_view_name": "LayoutView",
            "grid_template_rows": null,
            "right": null,
            "justify_content": null,
            "_view_module": "@jupyter-widgets/base",
            "overflow": null,
            "_model_module_version": "1.2.0",
            "_view_count": null,
            "flex_flow": null,
            "width": null,
            "min_width": null,
            "border": null,
            "align_items": null,
            "bottom": null,
            "_model_module": "@jupyter-widgets/base",
            "top": null,
            "grid_column": null,
            "overflow_y": null,
            "overflow_x": null,
            "grid_auto_flow": null,
            "grid_area": null,
            "grid_template_columns": null,
            "flex": null,
            "_model_name": "LayoutModel",
            "justify_items": null,
            "grid_row": null,
            "max_height": null,
            "align_content": null,
            "visibility": null,
            "align_self": null,
            "height": null,
            "min_height": null,
            "padding": null,
            "grid_auto_rows": null,
            "grid_gap": null,
            "max_width": null,
            "order": null,
            "_view_module_version": "1.2.0",
            "grid_template_areas": null,
            "object_position": null,
            "object_fit": null,
            "grid_auto_columns": null,
            "margin": null,
            "display": null,
            "left": null
          }
        }
      }
    }
  },
  "cells": [
    {
      "cell_type": "markdown",
      "metadata": {
        "id": "NTO2POc8ya2j"
      },
      "source": [
        "#  <font size = 40 font color = 'Grey'> TRAINING DATASET GATHERING "
      ]
    },
    {
      "cell_type": "markdown",
      "metadata": {
        "id": "mhJVVmmDMJCu"
      },
      "source": [
        "# Getting DataSet from kaggle \n"
      ]
    },
    {
      "cell_type": "code",
      "metadata": {
        "id": "W1FDwGewMJCu"
      },
      "source": [
        "### Install kaggle with pip command \n",
        "! pip install -q kaggle"
      ],
      "execution_count": 1,
      "outputs": []
    },
    {
      "cell_type": "code",
      "metadata": {
        "colab": {
          "resources": {
            "http://localhost:8080/nbextensions/google.colab/files.js": {
              "data": "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",
              "ok": true,
              "headers": [
                [
                  "content-type",
                  "application/javascript"
                ]
              ],
              "status": 200,
              "status_text": ""
            }
          },
          "base_uri": "https://localhost:8080/",
          "height": 90
        },
        "id": "v-6JF7_sMJCv",
        "outputId": "42fca881-0909-403e-89e3-22c52aa3a114"
      },
      "source": [
        "###\n",
        "# Upload kaggle.json file \n",
        "###\n",
        "\n",
        "\n",
        "from google.colab import files\n",
        "\n",
        "files.upload()"
      ],
      "execution_count": 2,
      "outputs": [
        {
          "output_type": "display_data",
          "data": {
            "text/html": [
              "\n",
              "     <input type=\"file\" id=\"files-c2c33cdc-7547-45f1-8e8a-2c03b2496007\" name=\"files[]\" multiple disabled\n",
              "        style=\"border:none\" />\n",
              "     <output id=\"result-c2c33cdc-7547-45f1-8e8a-2c03b2496007\">\n",
              "      Upload widget is only available when the cell has been executed in the\n",
              "      current browser session. Please rerun this cell to enable.\n",
              "      </output>\n",
              "      <script src=\"/nbextensions/google.colab/files.js\"></script> "
            ],
            "text/plain": [
              "<IPython.core.display.HTML object>"
            ]
          },
          "metadata": {
            "tags": []
          }
        },
        {
          "output_type": "stream",
          "text": [
            "Saving kaggle.json to kaggle.json\n"
          ],
          "name": "stdout"
        },
        {
          "output_type": "execute_result",
          "data": {
            "text/plain": [
              "{'kaggle.json': b'{\"username\":\"omarhazem\",\"key\":\"368217b482d6cf4014b780c5a868b960\"}'}"
            ]
          },
          "metadata": {
            "tags": []
          },
          "execution_count": 2
        }
      ]
    },
    {
      "cell_type": "code",
      "metadata": {
        "id": "sPxhCDhjMJCv"
      },
      "source": [
        "! mkdir ~/.kaggle  # make directory \n",
        "! cp kaggle.json ~/.kaggle/ # copy kaggle.json to previous mentioned directory \n",
        "! chmod 600 ~/.kaggle/kaggle.json # set read / write permission "
      ],
      "execution_count": 3,
      "outputs": []
    },
    {
      "cell_type": "code",
      "metadata": {
        "colab": {
          "base_uri": "https://localhost:8080/"
        },
        "id": "K8AUp1vyMJCv",
        "outputId": "2333580e-310a-481f-b08d-1569a5e7a8c1"
      },
      "source": [
        " ! kaggle datasets list # test kaggle "
      ],
      "execution_count": 4,
      "outputs": [
        {
          "output_type": "stream",
          "text": [
            "Warning: Looks like you're using an outdated API Version, please consider updating (server 1.5.10 / client 1.5.4)\n",
            "ref                                                            title                                                size  lastUpdated          downloadCount  \n",
            "-------------------------------------------------------------  --------------------------------------------------  -----  -------------------  -------------  \n",
            "utkarshxy/who-worldhealth-statistics-2020-complete             World Health 2020 🌏 | For Geospatial Analysis         1MB  2021-01-06 16:22:50           1110  \n",
            "gpreda/pfizer-vaccine-tweets                                   Pfizer Vaccine Tweets                               416KB  2021-01-07 12:08:56            825  \n",
            "google/android-smartphones-high-accuracy-datasets              Android smartphones high accuracy GNSS datasets       1GB  2020-12-23 01:51:11            154  \n",
            "ashkhagan/women-representation-in-city-property-sanfrancisco   Women Representation in City Property SanFrancisco    3KB  2020-12-13 05:18:14            176  \n",
            "arashnic/covid19-case-surveillance-public-use-dataset          Covid-19 Case Surveillance Public Use Dataset        46MB  2020-12-21 02:24:21            577  \n",
            "arashnic/mind-news-dataset                                     MIND: Microsoft News Recommendation Dataset          51MB  2020-12-21 00:22:50             67  \n",
            "rowhitswami/all-indian-companies-registration-data-1900-2019   Indian Companies Registration Data [1857 - 2020]    112MB  2020-12-12 03:59:01            200  \n",
            "sakshigoyal7/credit-card-customers                             Credit Card customers                               379KB  2020-11-19 07:38:44          14532  \n",
            "arashnic/hr-analytics-job-change-of-data-scientists            HR Analytics: Job Change of Data Scientists         295KB  2020-12-07 00:25:10           2738  \n",
            "shashwatwork/impact-of-covid19-pandemic-on-the-global-economy  Impact of Covid-19 Pandemic on the Global Economy     1MB  2020-11-29 14:16:30           1701  \n",
            "alexgude/california-traffic-collision-data-from-switrs         California Traffic Collision Data from SWITRS         1GB  2020-11-22 16:51:55           2286  \n",
            "sootersaalu/amazon-top-50-bestselling-books-2009-2019          Amazon Top 50 Bestselling Books 2009 - 2019          15KB  2020-10-13 09:39:21          11703  \n",
            "mrmorj/dataset-of-songs-in-spotify                             Dataset of songs in Spotify                           3MB  2020-12-06 09:46:55           1151  \n",
            "yamaerenay/spotify-dataset-19212020-160k-tracks                Spotify Dataset 1921-2020, 160k+ Tracks              16MB  2020-11-25 21:14:12          14086  \n",
            "szymonjanowski/internet-articles-data-with-users-engagement    Internet news data with readers engagement            3MB  2020-11-21 17:09:57           3651  \n",
            "babyoda/women-entrepreneurship-and-labor-force                 Women Entrepreneurship and Labor Force                1KB  2020-11-21 08:38:51           5440  \n",
            "google/tinyquickdraw                                           QuickDraw Sketches                                   11GB  2018-04-18 19:38:04           2689  \n",
            "datasnaek/youtube-new                                          Trending YouTube Video Statistics                   201MB  2019-06-03 00:56:47         122761  \n",
            "zynicide/wine-reviews                                          Wine Reviews                                         51MB  2017-11-27 17:08:04         124756  \n",
            "datasnaek/chess                                                Chess Game Dataset (Lichess)                          3MB  2017-09-04 03:09:09          13159  \n"
          ],
          "name": "stdout"
        }
      ]
    },
    {
      "cell_type": "code",
      "metadata": {
        "colab": {
          "base_uri": "https://localhost:8080/"
        },
        "id": "rnoao4seMJCw",
        "outputId": "ebe0af58-6b48-4042-a38f-b5b9fb444824"
      },
      "source": [
        "!kaggle datasets download -d yeayates21/jigsaw-multilingual-aug-mix # Download the dataset "
      ],
      "execution_count": 5,
      "outputs": [
        {
          "output_type": "stream",
          "text": [
            "Downloading jigsaw-multilingual-aug-mix.zip to /content\n",
            " 76% 49.0M/64.7M [00:00<00:00, 74.7MB/s]\n",
            "100% 64.7M/64.7M [00:00<00:00, 101MB/s] \n"
          ],
          "name": "stdout"
        }
      ]
    },
    {
      "cell_type": "code",
      "metadata": {
        "colab": {
          "base_uri": "https://localhost:8080/"
        },
        "id": "ZqsZcjbuMJCw",
        "outputId": "c63f63d5-e649-4ae6-b3af-7af55efbbe77"
      },
      "source": [
        "! unzip  /content/jigsaw-multilingual-aug-mix.zip # unzip the dataset "
      ],
      "execution_count": 6,
      "outputs": [
        {
          "output_type": "stream",
          "text": [
            "Archive:  /content/jigsaw-multilingual-aug-mix.zip\n",
            "  inflating: jigsaw_mjy_train_val_openaug_523200.csv  \n",
            "  inflating: train_augmented1605_downsample.csv  \n"
          ],
          "name": "stdout"
        }
      ]
    },
    {
      "cell_type": "markdown",
      "metadata": {
        "id": "chD-VSXXvuXn"
      },
      "source": [
        "# Exploring the Dataset "
      ]
    },
    {
      "cell_type": "code",
      "metadata": {
        "id": "GD1Zl-71u7e3"
      },
      "source": [
        "import pandas as pd # Importing pandas  \n",
        "My_dataset = pd.read_csv('/content/jigsaw_mjy_train_val_openaug_523200.csv') # reading Dataset"
      ],
      "execution_count": 7,
      "outputs": []
    },
    {
      "cell_type": "code",
      "metadata": {
        "colab": {
          "base_uri": "https://localhost:8080/",
          "height": 204
        },
        "id": "XFiWITKtvFw5",
        "outputId": "da4918b9-c519-4508-af33-1102b192db73"
      },
      "source": [
        "My_dataset.head(5) # get first 5 enteries"
      ],
      "execution_count": 8,
      "outputs": [
        {
          "output_type": "execute_result",
          "data": {
            "text/html": [
              "<div>\n",
              "<style scoped>\n",
              "    .dataframe tbody tr th:only-of-type {\n",
              "        vertical-align: middle;\n",
              "    }\n",
              "\n",
              "    .dataframe tbody tr th {\n",
              "        vertical-align: top;\n",
              "    }\n",
              "\n",
              "    .dataframe thead th {\n",
              "        text-align: right;\n",
              "    }\n",
              "</style>\n",
              "<table border=\"1\" class=\"dataframe\">\n",
              "  <thead>\n",
              "    <tr style=\"text-align: right;\">\n",
              "      <th></th>\n",
              "      <th>Unnamed: 0</th>\n",
              "      <th>comment_text</th>\n",
              "      <th>toxic</th>\n",
              "    </tr>\n",
              "  </thead>\n",
              "  <tbody>\n",
              "    <tr>\n",
              "      <th>0</th>\n",
              "      <td>1418409</td>\n",
              "      <td>No surprise at all. Trump cares little about a...</td>\n",
              "      <td>1.0</td>\n",
              "    </tr>\n",
              "    <tr>\n",
              "      <th>1</th>\n",
              "      <td>312318</td>\n",
              "      <td>What an ugly, racist thing to say.  I don't kn...</td>\n",
              "      <td>1.0</td>\n",
              "    </tr>\n",
              "    <tr>\n",
              "      <th>2</th>\n",
              "      <td>711046</td>\n",
              "      <td>because it is STILL illegal</td>\n",
              "      <td>0.0</td>\n",
              "    </tr>\n",
              "    <tr>\n",
              "      <th>3</th>\n",
              "      <td>696866</td>\n",
              "      <td>Pleah.  Voyeurism is pathetic any time, but vo...</td>\n",
              "      <td>1.0</td>\n",
              "    </tr>\n",
              "    <tr>\n",
              "      <th>4</th>\n",
              "      <td>1225444</td>\n",
              "      <td>Мне жаль, но так оно и есть.</td>\n",
              "      <td>0.0</td>\n",
              "    </tr>\n",
              "  </tbody>\n",
              "</table>\n",
              "</div>"
            ],
            "text/plain": [
              "   Unnamed: 0                                       comment_text  toxic\n",
              "0     1418409  No surprise at all. Trump cares little about a...    1.0\n",
              "1      312318  What an ugly, racist thing to say.  I don't kn...    1.0\n",
              "2      711046                        because it is STILL illegal    0.0\n",
              "3      696866  Pleah.  Voyeurism is pathetic any time, but vo...    1.0\n",
              "4     1225444                       Мне жаль, но так оно и есть.    0.0"
            ]
          },
          "metadata": {
            "tags": []
          },
          "execution_count": 8
        }
      ]
    },
    {
      "cell_type": "code",
      "metadata": {
        "colab": {
          "base_uri": "https://localhost:8080/",
          "height": 297
        },
        "id": "lQT-BgK8rTNs",
        "outputId": "959aa468-4cd0-4d65-b603-26acaedc2cc6"
      },
      "source": [
        "My_dataset.describe()"
      ],
      "execution_count": 9,
      "outputs": [
        {
          "output_type": "execute_result",
          "data": {
            "text/html": [
              "<div>\n",
              "<style scoped>\n",
              "    .dataframe tbody tr th:only-of-type {\n",
              "        vertical-align: middle;\n",
              "    }\n",
              "\n",
              "    .dataframe tbody tr th {\n",
              "        vertical-align: top;\n",
              "    }\n",
              "\n",
              "    .dataframe thead th {\n",
              "        text-align: right;\n",
              "    }\n",
              "</style>\n",
              "<table border=\"1\" class=\"dataframe\">\n",
              "  <thead>\n",
              "    <tr style=\"text-align: right;\">\n",
              "      <th></th>\n",
              "      <th>Unnamed: 0</th>\n",
              "      <th>toxic</th>\n",
              "    </tr>\n",
              "  </thead>\n",
              "  <tbody>\n",
              "    <tr>\n",
              "      <th>count</th>\n",
              "      <td>5.312000e+05</td>\n",
              "      <td>531200.000000</td>\n",
              "    </tr>\n",
              "    <tr>\n",
              "      <th>mean</th>\n",
              "      <td>7.126769e+05</td>\n",
              "      <td>0.494785</td>\n",
              "    </tr>\n",
              "    <tr>\n",
              "      <th>std</th>\n",
              "      <td>5.000058e+05</td>\n",
              "      <td>0.499973</td>\n",
              "    </tr>\n",
              "    <tr>\n",
              "      <th>min</th>\n",
              "      <td>0.000000e+00</td>\n",
              "      <td>0.000000</td>\n",
              "    </tr>\n",
              "    <tr>\n",
              "      <th>25%</th>\n",
              "      <td>2.597188e+05</td>\n",
              "      <td>0.000000</td>\n",
              "    </tr>\n",
              "    <tr>\n",
              "      <th>50%</th>\n",
              "      <td>6.692715e+05</td>\n",
              "      <td>0.000000</td>\n",
              "    </tr>\n",
              "    <tr>\n",
              "      <th>75%</th>\n",
              "      <td>1.085969e+06</td>\n",
              "      <td>1.000000</td>\n",
              "    </tr>\n",
              "    <tr>\n",
              "      <th>max</th>\n",
              "      <td>1.902185e+06</td>\n",
              "      <td>1.000000</td>\n",
              "    </tr>\n",
              "  </tbody>\n",
              "</table>\n",
              "</div>"
            ],
            "text/plain": [
              "         Unnamed: 0          toxic\n",
              "count  5.312000e+05  531200.000000\n",
              "mean   7.126769e+05       0.494785\n",
              "std    5.000058e+05       0.499973\n",
              "min    0.000000e+00       0.000000\n",
              "25%    2.597188e+05       0.000000\n",
              "50%    6.692715e+05       0.000000\n",
              "75%    1.085969e+06       1.000000\n",
              "max    1.902185e+06       1.000000"
            ]
          },
          "metadata": {
            "tags": []
          },
          "execution_count": 9
        }
      ]
    },
    {
      "cell_type": "code",
      "metadata": {
        "colab": {
          "base_uri": "https://localhost:8080/"
        },
        "id": "S9Dtng5hwCeE",
        "outputId": "b47f2178-adac-4d40-f07d-f3e142eca198"
      },
      "source": [
        "My_dataset.columns"
      ],
      "execution_count": 10,
      "outputs": [
        {
          "output_type": "execute_result",
          "data": {
            "text/plain": [
              "Index(['Unnamed: 0', 'comment_text', 'toxic'], dtype='object')"
            ]
          },
          "metadata": {
            "tags": []
          },
          "execution_count": 10
        }
      ]
    },
    {
      "cell_type": "code",
      "metadata": {
        "id": "LGniExX8wVcq"
      },
      "source": [
        "My_dataset.drop('Unnamed: 0' , axis='columns', inplace=True)"
      ],
      "execution_count": 11,
      "outputs": []
    },
    {
      "cell_type": "code",
      "metadata": {
        "colab": {
          "base_uri": "https://localhost:8080/",
          "height": 204
        },
        "id": "lH1EfI1xwbOR",
        "outputId": "ee311d3d-a3b2-40a3-8eb7-9bc8384fcada"
      },
      "source": [
        "My_dataset.head(5) # get first 5 enteries"
      ],
      "execution_count": 12,
      "outputs": [
        {
          "output_type": "execute_result",
          "data": {
            "text/html": [
              "<div>\n",
              "<style scoped>\n",
              "    .dataframe tbody tr th:only-of-type {\n",
              "        vertical-align: middle;\n",
              "    }\n",
              "\n",
              "    .dataframe tbody tr th {\n",
              "        vertical-align: top;\n",
              "    }\n",
              "\n",
              "    .dataframe thead th {\n",
              "        text-align: right;\n",
              "    }\n",
              "</style>\n",
              "<table border=\"1\" class=\"dataframe\">\n",
              "  <thead>\n",
              "    <tr style=\"text-align: right;\">\n",
              "      <th></th>\n",
              "      <th>comment_text</th>\n",
              "      <th>toxic</th>\n",
              "    </tr>\n",
              "  </thead>\n",
              "  <tbody>\n",
              "    <tr>\n",
              "      <th>0</th>\n",
              "      <td>No surprise at all. Trump cares little about a...</td>\n",
              "      <td>1.0</td>\n",
              "    </tr>\n",
              "    <tr>\n",
              "      <th>1</th>\n",
              "      <td>What an ugly, racist thing to say.  I don't kn...</td>\n",
              "      <td>1.0</td>\n",
              "    </tr>\n",
              "    <tr>\n",
              "      <th>2</th>\n",
              "      <td>because it is STILL illegal</td>\n",
              "      <td>0.0</td>\n",
              "    </tr>\n",
              "    <tr>\n",
              "      <th>3</th>\n",
              "      <td>Pleah.  Voyeurism is pathetic any time, but vo...</td>\n",
              "      <td>1.0</td>\n",
              "    </tr>\n",
              "    <tr>\n",
              "      <th>4</th>\n",
              "      <td>Мне жаль, но так оно и есть.</td>\n",
              "      <td>0.0</td>\n",
              "    </tr>\n",
              "  </tbody>\n",
              "</table>\n",
              "</div>"
            ],
            "text/plain": [
              "                                        comment_text  toxic\n",
              "0  No surprise at all. Trump cares little about a...    1.0\n",
              "1  What an ugly, racist thing to say.  I don't kn...    1.0\n",
              "2                        because it is STILL illegal    0.0\n",
              "3  Pleah.  Voyeurism is pathetic any time, but vo...    1.0\n",
              "4                       Мне жаль, но так оно и есть.    0.0"
            ]
          },
          "metadata": {
            "tags": []
          },
          "execution_count": 12
        }
      ]
    },
    {
      "cell_type": "markdown",
      "metadata": {
        "id": "LFfXn6wxyjnP"
      },
      "source": [
        "## Dataset Analysis "
      ]
    },
    {
      "cell_type": "code",
      "metadata": {
        "colab": {
          "base_uri": "https://localhost:8080/",
          "height": 271
        },
        "id": "t9FZ9ob1wiFL",
        "outputId": "17c92043-52a9-4b4f-f3fa-6637d5d06b69"
      },
      "source": [
        "# draw bar chart \n",
        "My_dataset.toxic.value_counts().plot(kind = 'bar') ; "
      ],
      "execution_count": 13,
      "outputs": [
        {
          "output_type": "display_data",
          "data": {
            "image/png": "[encoded data removed]",
            "text/plain": [
              "<Figure size 432x288 with 1 Axes>"
            ]
          },
          "metadata": {
            "tags": [],
            "needs_background": "light"
          }
        }
      ]
    },
    {
      "cell_type": "code",
      "metadata": {
        "colab": {
          "base_uri": "https://localhost:8080/",
          "height": 248
        },
        "id": "tNzZQ6iuww6m",
        "outputId": "259989a0-51f7-4c49-e50d-5c410d642bc7"
      },
      "source": [
        "# Draw pie chart\n",
        "My_dataset.toxic.value_counts().plot(kind = 'pie',autopct='%.2f') ; \n"
      ],
      "execution_count": 14,
      "outputs": [
        {
          "output_type": "display_data",
          "data": {
            "image/png": "[encoded data removed]",
            "text/plain": [
              "<Figure size 432x288 with 1 Axes>"
            ]
          },
          "metadata": {
            "tags": []
          }
        }
      ]
    },
    {
      "cell_type": "code",
      "metadata": {
        "colab": {
          "base_uri": "https://localhost:8080/"
        },
        "id": "ac7nAgEZxF6u",
        "outputId": "b2273fbe-a09e-43bf-8558-6cb66994b484"
      },
      "source": [
        "#Get shape / size of dataset\n",
        "My_dataset.shape"
      ],
      "execution_count": 15,
      "outputs": [
        {
          "output_type": "execute_result",
          "data": {
            "text/plain": [
              "(531200, 2)"
            ]
          },
          "metadata": {
            "tags": []
          },
          "execution_count": 15
        }
      ]
    },
    {
      "cell_type": "code",
      "metadata": {
        "colab": {
          "base_uri": "https://localhost:8080/",
          "height": 979
        },
        "id": "noHnciFwxTIE",
        "outputId": "123dd07d-6df2-49b6-81e6-147287c9994c"
      },
      "source": [
        "My_dataset.head(30)"
      ],
      "execution_count": 16,
      "outputs": [
        {
          "output_type": "execute_result",
          "data": {
            "text/html": [
              "<div>\n",
              "<style scoped>\n",
              "    .dataframe tbody tr th:only-of-type {\n",
              "        vertical-align: middle;\n",
              "    }\n",
              "\n",
              "    .dataframe tbody tr th {\n",
              "        vertical-align: top;\n",
              "    }\n",
              "\n",
              "    .dataframe thead th {\n",
              "        text-align: right;\n",
              "    }\n",
              "</style>\n",
              "<table border=\"1\" class=\"dataframe\">\n",
              "  <thead>\n",
              "    <tr style=\"text-align: right;\">\n",
              "      <th></th>\n",
              "      <th>comment_text</th>\n",
              "      <th>toxic</th>\n",
              "    </tr>\n",
              "  </thead>\n",
              "  <tbody>\n",
              "    <tr>\n",
              "      <th>0</th>\n",
              "      <td>No surprise at all. Trump cares little about a...</td>\n",
              "      <td>1.0</td>\n",
              "    </tr>\n",
              "    <tr>\n",
              "      <th>1</th>\n",
              "      <td>What an ugly, racist thing to say.  I don't kn...</td>\n",
              "      <td>1.0</td>\n",
              "    </tr>\n",
              "    <tr>\n",
              "      <th>2</th>\n",
              "      <td>because it is STILL illegal</td>\n",
              "      <td>0.0</td>\n",
              "    </tr>\n",
              "    <tr>\n",
              "      <th>3</th>\n",
              "      <td>Pleah.  Voyeurism is pathetic any time, but vo...</td>\n",
              "      <td>1.0</td>\n",
              "    </tr>\n",
              "    <tr>\n",
              "      <th>4</th>\n",
              "      <td>Мне жаль, но так оно и есть.</td>\n",
              "      <td>0.0</td>\n",
              "    </tr>\n",
              "    <tr>\n",
              "      <th>5</th>\n",
              "      <td>Sağol baba çok sağol</td>\n",
              "      <td>0.0</td>\n",
              "    </tr>\n",
              "    <tr>\n",
              "      <th>6</th>\n",
              "      <td>All of Canada has seen real estate increase bu...</td>\n",
              "      <td>0.0</td>\n",
              "    </tr>\n",
              "    <tr>\n",
              "      <th>7</th>\n",
              "      <td>Are you one of Hillary's mad lovers?</td>\n",
              "      <td>1.0</td>\n",
              "    </tr>\n",
              "    <tr>\n",
              "      <th>8</th>\n",
              "      <td>Наш президент – жирный вонючий пиндос</td>\n",
              "      <td>1.0</td>\n",
              "    </tr>\n",
              "    <tr>\n",
              "      <th>9</th>\n",
              "      <td>I was wrong in stating he takes hormones--ther...</td>\n",
              "      <td>1.0</td>\n",
              "    </tr>\n",
              "    <tr>\n",
              "      <th>10</th>\n",
              "      <td>Muito bem, então... Quanto me vai custar?</td>\n",
              "      <td>0.0</td>\n",
              "    </tr>\n",
              "    <tr>\n",
              "      <th>11</th>\n",
              "      <td>Patrick Brown won the PC party leadership by f...</td>\n",
              "      <td>0.0</td>\n",
              "    </tr>\n",
              "    <tr>\n",
              "      <th>12</th>\n",
              "      <td>Damned if you do, damned if you don't. This ty...</td>\n",
              "      <td>1.0</td>\n",
              "    </tr>\n",
              "    <tr>\n",
              "      <th>13</th>\n",
              "      <td>Serviu com ele naquela organização específica?</td>\n",
              "      <td>0.0</td>\n",
              "    </tr>\n",
              "    <tr>\n",
              "      <th>14</th>\n",
              "      <td>Я никогда ни на секунду не думала, что ты буде...</td>\n",
              "      <td>1.0</td>\n",
              "    </tr>\n",
              "    <tr>\n",
              "      <th>15</th>\n",
              "      <td>Porra, teu pai luta como o Diabo...</td>\n",
              "      <td>1.0</td>\n",
              "    </tr>\n",
              "    <tr>\n",
              "      <th>16</th>\n",
              "      <td>МУЗЫКА НА ТВ: Wonderwall by Oasis</td>\n",
              "      <td>0.0</td>\n",
              "    </tr>\n",
              "    <tr>\n",
              "      <th>17</th>\n",
              "      <td>Não como metade destas malditas que pensam que...</td>\n",
              "      <td>1.0</td>\n",
              "    </tr>\n",
              "    <tr>\n",
              "      <th>18</th>\n",
              "      <td>Ainda podemos negociar?</td>\n",
              "      <td>0.0</td>\n",
              "    </tr>\n",
              "    <tr>\n",
              "      <th>19</th>\n",
              "      <td>Ta mère est vachement belle, Suzi.</td>\n",
              "      <td>1.0</td>\n",
              "    </tr>\n",
              "    <tr>\n",
              "      <th>20</th>\n",
              "      <td>Ronnie, kıçını olgun bir karnıbahar gibi hisse...</td>\n",
              "      <td>1.0</td>\n",
              "    </tr>\n",
              "    <tr>\n",
              "      <th>21</th>\n",
              "      <td>Acho que chegou o momento...</td>\n",
              "      <td>0.0</td>\n",
              "    </tr>\n",
              "    <tr>\n",
              "      <th>22</th>\n",
              "      <td>Stai giocando?</td>\n",
              "      <td>0.0</td>\n",
              "    </tr>\n",
              "    <tr>\n",
              "      <th>23</th>\n",
              "      <td>Credi che si meritasse di morire per la sua st...</td>\n",
              "      <td>1.0</td>\n",
              "    </tr>\n",
              "    <tr>\n",
              "      <th>24</th>\n",
              "      <td>Vur şu orospu çocuğunu, Davis'e doğrulttu!</td>\n",
              "      <td>1.0</td>\n",
              "    </tr>\n",
              "    <tr>\n",
              "      <th>25</th>\n",
              "      <td>- Sei ancora più cazzaro di quello che dicono ...</td>\n",
              "      <td>1.0</td>\n",
              "    </tr>\n",
              "    <tr>\n",
              "      <th>26</th>\n",
              "      <td>- Mas, isto é demais...</td>\n",
              "      <td>0.0</td>\n",
              "    </tr>\n",
              "    <tr>\n",
              "      <th>27</th>\n",
              "      <td>The scumbag left wants free speech to be only ...</td>\n",
              "      <td>1.0</td>\n",
              "    </tr>\n",
              "    <tr>\n",
              "      <th>28</th>\n",
              "      <td>Siz kim oluyonuz da bu bok çukurunu bizden önc...</td>\n",
              "      <td>1.0</td>\n",
              "    </tr>\n",
              "    <tr>\n",
              "      <th>29</th>\n",
              "      <td>Biz kafası çalışmayan fahişeler günlerimizi bö...</td>\n",
              "      <td>1.0</td>\n",
              "    </tr>\n",
              "  </tbody>\n",
              "</table>\n",
              "</div>"
            ],
            "text/plain": [
              "                                         comment_text  toxic\n",
              "0   No surprise at all. Trump cares little about a...    1.0\n",
              "1   What an ugly, racist thing to say.  I don't kn...    1.0\n",
              "2                         because it is STILL illegal    0.0\n",
              "3   Pleah.  Voyeurism is pathetic any time, but vo...    1.0\n",
              "4                        Мне жаль, но так оно и есть.    0.0\n",
              "5                                Sağol baba çok sağol    0.0\n",
              "6   All of Canada has seen real estate increase bu...    0.0\n",
              "7                Are you one of Hillary's mad lovers?    1.0\n",
              "8               Наш президент – жирный вонючий пиндос    1.0\n",
              "9   I was wrong in stating he takes hormones--ther...    1.0\n",
              "10          Muito bem, então... Quanto me vai custar?    0.0\n",
              "11  Patrick Brown won the PC party leadership by f...    0.0\n",
              "12  Damned if you do, damned if you don't. This ty...    1.0\n",
              "13     Serviu com ele naquela organização específica?    0.0\n",
              "14  Я никогда ни на секунду не думала, что ты буде...    1.0\n",
              "15                Porra, teu pai luta como o Diabo...    1.0\n",
              "16                  МУЗЫКА НА ТВ: Wonderwall by Oasis    0.0\n",
              "17  Não como metade destas malditas que pensam que...    1.0\n",
              "18                            Ainda podemos negociar?    0.0\n",
              "19                 Ta mère est vachement belle, Suzi.    1.0\n",
              "20  Ronnie, kıçını olgun bir karnıbahar gibi hisse...    1.0\n",
              "21                       Acho que chegou o momento...    0.0\n",
              "22                                     Stai giocando?    0.0\n",
              "23  Credi che si meritasse di morire per la sua st...    1.0\n",
              "24         Vur şu orospu çocuğunu, Davis'e doğrulttu!    1.0\n",
              "25  - Sei ancora più cazzaro di quello che dicono ...    1.0\n",
              "26                            - Mas, isto é demais...    0.0\n",
              "27  The scumbag left wants free speech to be only ...    1.0\n",
              "28  Siz kim oluyonuz da bu bok çukurunu bizden önc...    1.0\n",
              "29  Biz kafası çalışmayan fahişeler günlerimizi bö...    1.0"
            ]
          },
          "metadata": {
            "tags": []
          },
          "execution_count": 16
        }
      ]
    },
    {
      "cell_type": "markdown",
      "metadata": {
        "id": "yZsSQmjv2sQZ"
      },
      "source": [
        "\n",
        "\n",
        "# Doing Necessary Imports "
      ]
    },
    {
      "cell_type": "code",
      "metadata": {
        "id": "L2RZjFCf2sQf",
        "colab": {
          "base_uri": "https://localhost:8080/"
        },
        "outputId": "7d4b1759-9ccf-4e0c-a390-8a56c6771d23"
      },
      "source": [
        "\n",
        "# Import to list directories \n",
        "import os\n",
        "\n",
        "print(os.getcwd())\n",
        "print(os.listdir(os.getcwd()))\n",
        "\n",
        "### import for time and time monitoring \n",
        "import time\n",
        "## Imports for Metrics operations \n",
        "import numpy as np \n",
        "## Imports for dataframes and .csv managment\n",
        "import pandas as pd \n",
        "\n",
        "# TensorFlow library  Imports\n",
        "import tensorflow as tf\n",
        "print(\"tf version: \", tf.__version__)\n",
        "\n",
        "\n",
        "os.system('pip install swish-activation')\n",
        "\n",
        "\n",
        "import swish_package\n",
        "from swish_package import swish\n",
        "\n",
        "\n",
        "\n",
        "# Keras (backended with Tensorflow) Imports\n",
        "from tensorflow import keras\n",
        "from tensorflow.keras import backend as K\n",
        "from tensorflow.keras.models import Sequential, Model\n",
        "from tensorflow.keras.layers import Dense, Dropout, Input\n",
        "from tensorflow.keras.optimizers import Adam\n",
        "from tensorflow.keras.callbacks import EarlyStopping, ModelCheckpoint, LearningRateScheduler\n",
        "from tensorflow.keras.callbacks import CSVLogger\n",
        "\n",
        "# Sklearn package for machine learining models \n",
        "## WILL BE USED TO SPLIT  TRAIN_VAL DATASETS\n",
        "from sklearn import metrics\n",
        "from sklearn.model_selection import train_test_split\n",
        "\n",
        "# Garbage Collectors\n",
        "import gc\n",
        "import sys\n",
        "\n",
        "## Install Transformers \n",
        "os.system('pip install transformers==2.10')\n",
        "\n",
        "\n",
        "\n",
        "# Import Transformers to get Tokenizer for bert and bert models\n",
        "\n",
        "import transformers\n",
        "from transformers import DistilBertTokenizer, TFDistilBertModel \n"
      ],
      "execution_count": 17,
      "outputs": [
        {
          "output_type": "stream",
          "text": [
            "/content\n",
            "['.config', 'train_augmented1605_downsample.csv', 'jigsaw-multilingual-aug-mix.zip', 'jigsaw_mjy_train_val_openaug_523200.csv', 'kaggle.json', 'sample_data']\n",
            "tf version:  2.4.0\n"
          ],
          "name": "stdout"
        }
      ]
    },
    {
      "cell_type": "markdown",
      "metadata": {
        "id": "CeSaM5th2sRC"
      },
      "source": [
        "#  <font size = 40 font color = 'Grey'> MODELING"
      ]
    },
    {
      "cell_type": "markdown",
      "metadata": {
        "id": "EbaesNMvzWUe"
      },
      "source": [
        "#Intialize TPUs\n",
        "<font color ='Orange'>In this part of code <br>\n",
        "- TPUs is connected and intialized \n",
        "- Tensorflows's Training strategy is set to TPUStrategy to allow tpus to carry on training \n",
        "\n",
        "<img src = https://cloud.google.com/images/products/tpu/google-cloud-ai.png>\n"
      ]
    },
    {
      "cell_type": "code",
      "metadata": {
        "colab": {
          "base_uri": "https://localhost:8080/"
        },
        "id": "iNmjy_PFy9-I",
        "outputId": "13f27ebd-ce27-4468-a12f-63a58b41ecd4"
      },
      "source": [
        "try:\n",
        "    tpu = tf.distribute.cluster_resolver.TPUClusterResolver();\n",
        "    tf.config.experimental_connect_to_cluster(tpu);\n",
        "    tf.tpu.experimental.initialize_tpu_system(tpu);\n",
        "    strategy = tf.distribute.TPUStrategy(tpu);\n",
        "except ValueError:\n",
        "    tpu = None\n",
        "    strategy = tf.distribute.MirroredStrategy()\n",
        "      "
      ],
      "execution_count": 18,
      "outputs": [
        {
          "output_type": "stream",
          "text": [
            "INFO:absl:Entering into master device scope: /job:worker/replica:0/task:0/device:CPU:0\n"
          ],
          "name": "stderr"
        },
        {
          "output_type": "stream",
          "text": [
            "INFO:tensorflow:Initializing the TPU system: grpc://10.30.109.218:8470\n"
          ],
          "name": "stdout"
        },
        {
          "output_type": "stream",
          "text": [
            "INFO:tensorflow:Initializing the TPU system: grpc://10.30.109.218:8470\n"
          ],
          "name": "stderr"
        },
        {
          "output_type": "stream",
          "text": [
            "INFO:tensorflow:Clearing out eager caches\n"
          ],
          "name": "stdout"
        },
        {
          "output_type": "stream",
          "text": [
            "INFO:tensorflow:Clearing out eager caches\n"
          ],
          "name": "stderr"
        },
        {
          "output_type": "stream",
          "text": [
            "INFO:tensorflow:Finished initializing TPU system.\n"
          ],
          "name": "stdout"
        },
        {
          "output_type": "stream",
          "text": [
            "INFO:tensorflow:Finished initializing TPU system.\n"
          ],
          "name": "stderr"
        },
        {
          "output_type": "stream",
          "text": [
            "INFO:tensorflow:Found TPU system:\n"
          ],
          "name": "stdout"
        },
        {
          "output_type": "stream",
          "text": [
            "INFO:tensorflow:Found TPU system:\n"
          ],
          "name": "stderr"
        },
        {
          "output_type": "stream",
          "text": [
            "INFO:tensorflow:*** Num TPU Cores: 8\n"
          ],
          "name": "stdout"
        },
        {
          "output_type": "stream",
          "text": [
            "INFO:tensorflow:*** Num TPU Cores: 8\n"
          ],
          "name": "stderr"
        },
        {
          "output_type": "stream",
          "text": [
            "INFO:tensorflow:*** Num TPU Workers: 1\n"
          ],
          "name": "stdout"
        },
        {
          "output_type": "stream",
          "text": [
            "INFO:tensorflow:*** Num TPU Workers: 1\n"
          ],
          "name": "stderr"
        },
        {
          "output_type": "stream",
          "text": [
            "INFO:tensorflow:*** Num TPU Cores Per Worker: 8\n"
          ],
          "name": "stdout"
        },
        {
          "output_type": "stream",
          "text": [
            "INFO:tensorflow:*** Num TPU Cores Per Worker: 8\n"
          ],
          "name": "stderr"
        },
        {
          "output_type": "stream",
          "text": [
            "INFO:tensorflow:*** Available Device: _DeviceAttributes(/job:localhost/replica:0/task:0/device:CPU:0, CPU, 0, 0)\n"
          ],
          "name": "stdout"
        },
        {
          "output_type": "stream",
          "text": [
            "INFO:tensorflow:*** Available Device: _DeviceAttributes(/job:localhost/replica:0/task:0/device:CPU:0, CPU, 0, 0)\n"
          ],
          "name": "stderr"
        },
        {
          "output_type": "stream",
          "text": [
            "INFO:tensorflow:*** Available Device: _DeviceAttributes(/job:worker/replica:0/task:0/device:CPU:0, CPU, 0, 0)\n"
          ],
          "name": "stdout"
        },
        {
          "output_type": "stream",
          "text": [
            "INFO:tensorflow:*** Available Device: _DeviceAttributes(/job:worker/replica:0/task:0/device:CPU:0, CPU, 0, 0)\n"
          ],
          "name": "stderr"
        },
        {
          "output_type": "stream",
          "text": [
            "INFO:tensorflow:*** Available Device: _DeviceAttributes(/job:worker/replica:0/task:0/device:TPU:0, TPU, 0, 0)\n"
          ],
          "name": "stdout"
        },
        {
          "output_type": "stream",
          "text": [
            "INFO:tensorflow:*** Available Device: _DeviceAttributes(/job:worker/replica:0/task:0/device:TPU:0, TPU, 0, 0)\n"
          ],
          "name": "stderr"
        },
        {
          "output_type": "stream",
          "text": [
            "INFO:tensorflow:*** Available Device: _DeviceAttributes(/job:worker/replica:0/task:0/device:TPU:1, TPU, 0, 0)\n"
          ],
          "name": "stdout"
        },
        {
          "output_type": "stream",
          "text": [
            "INFO:tensorflow:*** Available Device: _DeviceAttributes(/job:worker/replica:0/task:0/device:TPU:1, TPU, 0, 0)\n"
          ],
          "name": "stderr"
        },
        {
          "output_type": "stream",
          "text": [
            "INFO:tensorflow:*** Available Device: _DeviceAttributes(/job:worker/replica:0/task:0/device:TPU:2, TPU, 0, 0)\n"
          ],
          "name": "stdout"
        },
        {
          "output_type": "stream",
          "text": [
            "INFO:tensorflow:*** Available Device: _DeviceAttributes(/job:worker/replica:0/task:0/device:TPU:2, TPU, 0, 0)\n"
          ],
          "name": "stderr"
        },
        {
          "output_type": "stream",
          "text": [
            "INFO:tensorflow:*** Available Device: _DeviceAttributes(/job:worker/replica:0/task:0/device:TPU:3, TPU, 0, 0)\n"
          ],
          "name": "stdout"
        },
        {
          "output_type": "stream",
          "text": [
            "INFO:tensorflow:*** Available Device: _DeviceAttributes(/job:worker/replica:0/task:0/device:TPU:3, TPU, 0, 0)\n"
          ],
          "name": "stderr"
        },
        {
          "output_type": "stream",
          "text": [
            "INFO:tensorflow:*** Available Device: _DeviceAttributes(/job:worker/replica:0/task:0/device:TPU:4, TPU, 0, 0)\n"
          ],
          "name": "stdout"
        },
        {
          "output_type": "stream",
          "text": [
            "INFO:tensorflow:*** Available Device: _DeviceAttributes(/job:worker/replica:0/task:0/device:TPU:4, TPU, 0, 0)\n"
          ],
          "name": "stderr"
        },
        {
          "output_type": "stream",
          "text": [
            "INFO:tensorflow:*** Available Device: _DeviceAttributes(/job:worker/replica:0/task:0/device:TPU:5, TPU, 0, 0)\n"
          ],
          "name": "stdout"
        },
        {
          "output_type": "stream",
          "text": [
            "INFO:tensorflow:*** Available Device: _DeviceAttributes(/job:worker/replica:0/task:0/device:TPU:5, TPU, 0, 0)\n"
          ],
          "name": "stderr"
        },
        {
          "output_type": "stream",
          "text": [
            "INFO:tensorflow:*** Available Device: _DeviceAttributes(/job:worker/replica:0/task:0/device:TPU:6, TPU, 0, 0)\n"
          ],
          "name": "stdout"
        },
        {
          "output_type": "stream",
          "text": [
            "INFO:tensorflow:*** Available Device: _DeviceAttributes(/job:worker/replica:0/task:0/device:TPU:6, TPU, 0, 0)\n"
          ],
          "name": "stderr"
        },
        {
          "output_type": "stream",
          "text": [
            "INFO:tensorflow:*** Available Device: _DeviceAttributes(/job:worker/replica:0/task:0/device:TPU:7, TPU, 0, 0)\n"
          ],
          "name": "stdout"
        },
        {
          "output_type": "stream",
          "text": [
            "INFO:tensorflow:*** Available Device: _DeviceAttributes(/job:worker/replica:0/task:0/device:TPU:7, TPU, 0, 0)\n"
          ],
          "name": "stderr"
        },
        {
          "output_type": "stream",
          "text": [
            "INFO:tensorflow:*** Available Device: _DeviceAttributes(/job:worker/replica:0/task:0/device:TPU_SYSTEM:0, TPU_SYSTEM, 0, 0)\n"
          ],
          "name": "stdout"
        },
        {
          "output_type": "stream",
          "text": [
            "INFO:tensorflow:*** Available Device: _DeviceAttributes(/job:worker/replica:0/task:0/device:TPU_SYSTEM:0, TPU_SYSTEM, 0, 0)\n"
          ],
          "name": "stderr"
        },
        {
          "output_type": "stream",
          "text": [
            "INFO:tensorflow:*** Available Device: _DeviceAttributes(/job:worker/replica:0/task:0/device:XLA_CPU:0, XLA_CPU, 0, 0)\n"
          ],
          "name": "stdout"
        },
        {
          "output_type": "stream",
          "text": [
            "INFO:tensorflow:*** Available Device: _DeviceAttributes(/job:worker/replica:0/task:0/device:XLA_CPU:0, XLA_CPU, 0, 0)\n"
          ],
          "name": "stderr"
        }
      ]
    },
    {
      "cell_type": "markdown",
      "metadata": {
        "id": "MPP802IC03lJ"
      },
      "source": [
        "#Defining Paramter and Hyperparameters \n",
        "<font color ='Orange'>In this part of code <br>\n",
        "- Parameters is set to be used in upcoming parts\n",
        "- HyperParameters is set to be used in upcoming parts\n"
      ]
    },
    {
      "cell_type": "code",
      "metadata": {
        "id": "CIybJRBj04RH"
      },
      "source": [
        "# Configuration\n",
        "num_of_rep = strategy.num_replicas_in_sync\n",
        "BATCH_SIZE = 32 * num_of_rep\n",
        "EPOCHS = 14\n",
        "MAX_LEN = 196\n",
        "opt = Adam(lr=1e-5)\n",
        "loss = 'binary_crossentropy'\n",
        "metrics=['accuracy']"
      ],
      "execution_count": 19,
      "outputs": []
    },
    {
      "cell_type": "markdown",
      "metadata": {
        "id": "UlVNcXzpyRGp"
      },
      "source": [
        "# BERT Tokenizer\n",
        "<font color ='Orange'>In this part of code <br>\n",
        "\n",
        "- To feed our text to BERT : \n",
        " -  It must be split into tokens.<br> \n",
        " - And then these tokens must be mapped to their index in the tokenizer vocabulary.<br>\n",
        " - The tokenization must be performed by the tokenizer included with BERT which is bert uncased .\n",
        "<img src = 'https://jalammar.github.io/images/distilBERT/bert-distilbert-input-tokenization.png'>"
      ]
    },
    {
      "cell_type": "code",
      "metadata": {
        "id": "IQjw0wfc24_a",
        "colab": {
          "base_uri": "https://localhost:8080/",
          "height": 66,
          "referenced_widgets": [
            "4c25bd32512048ffa4c3441ccfc6dd9e",
            "0fe7794aea5241008afae05fe8fddbdd",
            "abf8ba1a01354cd89fe95b91676ca22c",
            "48320f275add4939acaa6e50fac74a0f",
            "06afde2da14c4f2b93787cfa5e28c9e5",
            "bebad88b6a2d4033ada4f86721222ee5",
            "ba54bcc87267449db226b3ff52616d07",
            "bff874e55f84403cbcd2baa2d29e0cb1"
          ]
        },
        "outputId": "a3596ac7-a761-4084-8f1d-2622d9ced893"
      },
      "source": [
        "tokenizer = DistilBertTokenizer.from_pretrained('distilbert-base-multilingual-cased')"
      ],
      "execution_count": 20,
      "outputs": [
        {
          "output_type": "display_data",
          "data": {
            "application/vnd.jupyter.widget-view+json": {
              "model_id": "4c25bd32512048ffa4c3441ccfc6dd9e",
              "version_minor": 0,
              "version_major": 2
            },
            "text/plain": [
              "HBox(children=(FloatProgress(value=0.0, description='Downloading', max=995526.0, style=ProgressStyle(descripti…"
            ]
          },
          "metadata": {
            "tags": []
          }
        },
        {
          "output_type": "stream",
          "text": [
            "\n"
          ],
          "name": "stdout"
        }
      ]
    },
    {
      "cell_type": "markdown",
      "metadata": {
        "id": "t3nm3SHl3BCA"
      },
      "source": [
        "# Preparing Data for Model \n",
        "<font color ='Orange'>In this part of code <br>\n",
        "\n",
        "- Define our training features(scentences) and labels(toxic or not)\n",
        "- Create validation set and training set \n",
        "\n"
      ]
    },
    {
      "cell_type": "code",
      "metadata": {
        "id": "e6T-PIeE4c1F"
      },
      "source": [
        "def encode(scentences, tokenizer, max_length):\n",
        "    encode = tokenizer.batch_encode_plus(scentences,return_attention_masks=False, \n",
        "        return_token_type_ids=False, pad_to_max_length=True, max_length=max_length\n",
        "    )\n",
        "    encoding_id = np.array(encode['input_ids'])\n",
        "    return encoding_id\n",
        "\n",
        "train = pd.read_csv('/content/jigsaw_mjy_train_val_openaug_523200.csv')\n",
        "x_train = encode(train.comment_text.values, tokenizer,MAX_LEN)\n",
        "y_train = train.toxic.values\n",
        "\n",
        "x_train, x_valid, y_train, y_valid = train_test_split(x_train, y_train, \n",
        "                                                      test_size=0.20)\n",
        "\n",
        "train_dataset = (\n",
        "    tf.data.Dataset.from_tensor_slices((x_train, y_train)).repeat().shuffle(2048).batch(BATCH_SIZE).prefetch(tf.data.experimental.AUTOTUNE)\n",
        ")\n",
        "\n",
        "valid_dataset = (\n",
        "    tf.data.Dataset.from_tensor_slices((x_valid, y_valid)).batch(BATCH_SIZE).cache().prefetch(tf.data.experimental.AUTOTUNE)\n",
        "    )\n"
      ],
      "execution_count": 21,
      "outputs": []
    },
    {
      "cell_type": "markdown",
      "metadata": {
        "id": "hwrYM8fZ4lXU"
      },
      "source": [
        "# Creating the Model  \n",
        "<font color ='Orange'>In this part of code <br>\n",
        "- Create Input Layer of length 196 which is  Max length \n",
        "- Create pretrained bert Transformer layer   \n",
        "- get cls token from transformer layer and feed to an output layer of one node (Which is our prediction either <br>\n",
        " - One if Toxic <br> \n",
        "  - zero if not  )\n",
        "\n",
        "<img src = http://www.mccormickml.com/assets/BERT/CLS_token_500x606.png >\n"
      ]
    },
    {
      "cell_type": "code",
      "metadata": {
        "colab": {
          "base_uri": "https://localhost:8080/",
          "height": 387,
          "referenced_widgets": [
            "401cdfb662bf4617884cb2552113d2c4",
            "88778a8cf82945039f30a7df46444868",
            "6a64cd19244f41489246ba36c79373f6",
            "744903d2f64b4b6998c186e5345fe0dc",
            "6f3621c9a291473ea4307f933465e84f",
            "1e8d649eab504d75803697802b7e19a1",
            "338a1f6efe1a44819e1eff4aba01956f",
            "3c758b889c044ae5843aed56a668f8dd",
            "f9e1831d8a884b22aa6bdd88d790f585",
            "189bfab99494461aa1bd175814298888",
            "28556f70d4ba4ada837300aec3b185f8",
            "860e9b8924de4ef08e740cadff549d56",
            "d98a995e551942bd94a69c481fc99ab8",
            "7e967a11f7cd4be6af26ba1d7e8381f2",
            "0ab8b7693bcd46caa7b54fc245c51593",
            "cef4df31325e48dabd9d8bc8cd40e00c"
          ]
        },
        "id": "K2E6KPR65zwf",
        "outputId": "48f5a36f-0954-4b46-f0d0-350586a7362d"
      },
      "source": [
        "with strategy.scope():\n",
        "    transformer_layer = TFDistilBertModel.from_pretrained('distilbert-base-multilingual-cased')# get pre-trained bert transformer\n",
        "    input_word_ids = Input(shape=(MAX_LEN,), dtype=tf.int32, name=\"input_word_ids\") # Keras Input layer \n",
        "    sequence_output = transformer_layer(input_word_ids)[0] # Get the seq output from Transformer layer provided\n",
        "    cls_token = sequence_output[:, 0, :] # get cls tokkens from each scentence to feed to output\n",
        "    out = Dense(1, activation='sigmoid')(cls_token) # create output layer with one node <Binary Classification>\n",
        "    model = Model(inputs=input_word_ids, outputs=out) # Create Model\n",
        "    model.compile(optimizer=opt, \n",
        "                  loss=loss, metrics=metrics) # Compile model\n",
        "model.summary()"
      ],
      "execution_count": 22,
      "outputs": [
        {
          "output_type": "display_data",
          "data": {
            "application/vnd.jupyter.widget-view+json": {
              "model_id": "401cdfb662bf4617884cb2552113d2c4",
              "version_minor": 0,
              "version_major": 2
            },
            "text/plain": [
              "HBox(children=(FloatProgress(value=0.0, description='Downloading', max=466.0, style=ProgressStyle(description_…"
            ]
          },
          "metadata": {
            "tags": []
          }
        },
        {
          "output_type": "stream",
          "text": [
            "\n"
          ],
          "name": "stdout"
        },
        {
          "output_type": "display_data",
          "data": {
            "application/vnd.jupyter.widget-view+json": {
              "model_id": "f9e1831d8a884b22aa6bdd88d790f585",
              "version_minor": 0,
              "version_major": 2
            },
            "text/plain": [
              "HBox(children=(FloatProgress(value=0.0, description='Downloading', max=910749124.0, style=ProgressStyle(descri…"
            ]
          },
          "metadata": {
            "tags": []
          }
        },
        {
          "output_type": "stream",
          "text": [
            "\n",
            "Model: \"model\"\n",
            "_________________________________________________________________\n",
            "Layer (type)                 Output Shape              Param #   \n",
            "=================================================================\n",
            "input_word_ids (InputLayer)  [(None, 196)]             0         \n",
            "_________________________________________________________________\n",
            "tf_distil_bert_model (TFDist ((None, 196, 768),)       134734080 \n",
            "_________________________________________________________________\n",
            "tf.__operators__.getitem (Sl (None, 768)               0         \n",
            "_________________________________________________________________\n",
            "dense (Dense)                (None, 1)                 769       \n",
            "=================================================================\n",
            "Total params: 134,734,849\n",
            "Trainable params: 134,734,849\n",
            "Non-trainable params: 0\n",
            "_________________________________________________________________\n"
          ],
          "name": "stdout"
        }
      ]
    },
    {
      "cell_type": "markdown",
      "metadata": {
        "id": "wtSNyQCt6ntT"
      },
      "source": [
        "# Training  the Model  \n",
        "<font color ='Orange'>In this part of code <br>\n",
        "- Train the model \n",
        "\n",
        "\n"
      ]
    },
    {
      "cell_type": "code",
      "metadata": {
        "colab": {
          "base_uri": "https://localhost:8080/"
        },
        "id": "tDmU2_zL6oNS",
        "outputId": "6da02742-a24e-4690-d4a1-cca4f2b0bb1e"
      },
      "source": [
        "train_history = model.fit(\n",
        "    train_dataset,\n",
        "    steps_per_epoch=x_train.shape[0] // BATCH_SIZE,\n",
        "    validation_data=valid_dataset,\n",
        "    epochs=EPOCHS\n",
        ")"
      ],
      "execution_count": 23,
      "outputs": [
        {
          "output_type": "stream",
          "text": [
            "Epoch 1/14\n",
            "1660/1660 [==============================] - 393s 211ms/step - loss: 0.3488 - accuracy: 0.8357 - val_loss: 0.2047 - val_accuracy: 0.9188\n",
            "Epoch 2/14\n",
            "1660/1660 [==============================] - 343s 207ms/step - loss: 0.1992 - accuracy: 0.9207 - val_loss: 0.1873 - val_accuracy: 0.9271\n",
            "Epoch 3/14\n",
            "1660/1660 [==============================] - 343s 207ms/step - loss: 0.1710 - accuracy: 0.9331 - val_loss: 0.1869 - val_accuracy: 0.9271\n",
            "Epoch 4/14\n",
            "1660/1660 [==============================] - 344s 207ms/step - loss: 0.1508 - accuracy: 0.9416 - val_loss: 0.1899 - val_accuracy: 0.9288\n",
            "Epoch 5/14\n",
            "1660/1660 [==============================] - 343s 206ms/step - loss: 0.1329 - accuracy: 0.9494 - val_loss: 0.1924 - val_accuracy: 0.9313\n",
            "Epoch 6/14\n",
            "1660/1660 [==============================] - 343s 207ms/step - loss: 0.1156 - accuracy: 0.9563 - val_loss: 0.2136 - val_accuracy: 0.9273\n",
            "Epoch 7/14\n",
            "1660/1660 [==============================] - 343s 206ms/step - loss: 0.0991 - accuracy: 0.9628 - val_loss: 0.2233 - val_accuracy: 0.9283\n",
            "Epoch 8/14\n",
            "1660/1660 [==============================] - 343s 207ms/step - loss: 0.0850 - accuracy: 0.9685 - val_loss: 0.2377 - val_accuracy: 0.9291\n",
            "Epoch 9/14\n",
            "1660/1660 [==============================] - 343s 207ms/step - loss: 0.0726 - accuracy: 0.9733 - val_loss: 0.2543 - val_accuracy: 0.9271\n",
            "Epoch 10/14\n",
            "1660/1660 [==============================] - 343s 207ms/step - loss: 0.0609 - accuracy: 0.9777 - val_loss: 0.2842 - val_accuracy: 0.9284\n",
            "Epoch 11/14\n",
            "1660/1660 [==============================] - 343s 207ms/step - loss: 0.0507 - accuracy: 0.9815 - val_loss: 0.2928 - val_accuracy: 0.9246\n",
            "Epoch 12/14\n",
            "1660/1660 [==============================] - 344s 207ms/step - loss: 0.0448 - accuracy: 0.9838 - val_loss: 0.3054 - val_accuracy: 0.9260\n",
            "Epoch 13/14\n",
            "1660/1660 [==============================] - 343s 207ms/step - loss: 0.0371 - accuracy: 0.9866 - val_loss: 0.3245 - val_accuracy: 0.9252\n",
            "Epoch 14/14\n",
            "1660/1660 [==============================] - 344s 207ms/step - loss: 0.0323 - accuracy: 0.9882 - val_loss: 0.3423 - val_accuracy: 0.9262\n"
          ],
          "name": "stdout"
        }
      ]
    },
    {
      "cell_type": "markdown",
      "metadata": {
        "id": "lsOjn24q_BSS"
      },
      "source": [
        "#  <font size = 40 font color = 'Grey'> TESTING MODEL\n",
        "## <font color = 'orange'> In this part of code : \n",
        "- Different Datasets is used for testing\n",
        "- Every Dataset is analyzed and tested \n",
        "- Calculate accuracy for each test dataset"
      ]
    },
    {
      "cell_type": "markdown",
      "metadata": {
        "id": "0p0c9PcyHee7"
      },
      "source": [
        "## Dataset Found at \n",
        "https://www.kaggle.com/c/jigsaw-multilingual-toxic-comment-classification"
      ]
    },
    {
      "cell_type": "code",
      "metadata": {
        "colab": {
          "base_uri": "https://localhost:8080/"
        },
        "id": "JpGD6BVPqwYl",
        "outputId": "9a611eba-3363-4e57-874c-78266f8042e2"
      },
      "source": [
        "!kaggle competitions download -c jigsaw-multilingual-toxic-comment-classification "
      ],
      "execution_count": 24,
      "outputs": [
        {
          "output_type": "stream",
          "text": [
            "Warning: Looks like you're using an outdated API Version, please consider updating (server 1.5.10 / client 1.5.4)\n",
            "Downloading jigsaw-toxic-comment-train.csv.zip to /content\n",
            " 67% 25.0M/37.3M [00:01<00:01, 12.3MB/s]\n",
            "100% 37.3M/37.3M [00:02<00:00, 18.9MB/s]\n",
            "Downloading sample_submission.csv to /content\n",
            "  0% 0.00/612k [00:00<?, ?B/s]\n",
            "100% 612k/612k [00:00<00:00, 83.2MB/s]\n",
            "Downloading validation.csv.zip to /content\n",
            "  0% 0.00/1.35M [00:00<?, ?B/s]\n",
            "100% 1.35M/1.35M [00:00<00:00, 189MB/s]\n",
            "Downloading jigsaw-unintended-bias-train.csv.zip to /content\n",
            " 96% 281M/292M [00:03<00:00, 110MB/s]\n",
            "100% 292M/292M [00:04<00:00, 64.1MB/s]\n",
            "Downloading test-processed-seqlen128.csv.zip to /content\n",
            " 84% 25.0M/29.8M [00:00<00:00, 81.7MB/s]\n",
            "100% 29.8M/29.8M [00:00<00:00, 85.4MB/s]\n",
            "Downloading validation-processed-seqlen128.csv.zip to /content\n",
            "  0% 0.00/3.44M [00:00<?, ?B/s]\n",
            "100% 3.44M/3.44M [00:00<00:00, 104MB/s]\n",
            "Downloading test.csv.zip to /content\n",
            " 40% 5.00M/12.4M [00:00<00:00, 41.1MB/s]\n",
            "100% 12.4M/12.4M [00:00<00:00, 60.7MB/s]\n",
            "Downloading jigsaw-unintended-bias-train-processed-seqlen128.csv.zip to /content\n",
            " 99% 645M/650M [00:06<00:00, 91.5MB/s]\n",
            "100% 650M/650M [00:06<00:00, 108MB/s] \n",
            "Downloading jigsaw-toxic-comment-train-processed-seqlen128.csv.zip to /content\n",
            " 79% 63.0M/79.6M [00:01<00:00, 49.3MB/s]\n",
            "100% 79.6M/79.6M [00:01<00:00, 63.3MB/s]\n"
          ],
          "name": "stdout"
        }
      ]
    },
    {
      "cell_type": "code",
      "metadata": {
        "colab": {
          "base_uri": "https://localhost:8080/"
        },
        "id": "N1SIeJhPti0j",
        "outputId": "6dcd7719-a897-429a-a3f2-bf5105c486cf"
      },
      "source": [
        "! unzip /content/jigsaw-toxic-comment-train.csv.zip"
      ],
      "execution_count": 25,
      "outputs": [
        {
          "output_type": "stream",
          "text": [
            "Archive:  /content/jigsaw-toxic-comment-train.csv.zip\n",
            "  inflating: jigsaw-toxic-comment-train.csv  \n"
          ],
          "name": "stdout"
        }
      ]
    },
    {
      "cell_type": "markdown",
      "metadata": {
        "id": "HuTE3SZHHoGk"
      },
      "source": [
        "# First Testing set : \n",
        " ## - jigsaw-toxic-comment-train.csv "
      ]
    },
    {
      "cell_type": "code",
      "metadata": {
        "id": "7t0x55yIsha0"
      },
      "source": [
        "test_set = pd.read_csv('jigsaw-toxic-comment-train.csv')"
      ],
      "execution_count": 99,
      "outputs": []
    },
    {
      "cell_type": "code",
      "metadata": {
        "colab": {
          "base_uri": "https://localhost:8080/",
          "height": 289
        },
        "id": "VtRWnU4sstzi",
        "outputId": "ccf2c6ca-d155-4fe1-d0f2-9e8760918e4e"
      },
      "source": [
        "test_set.head(5)\n"
      ],
      "execution_count": 100,
      "outputs": [
        {
          "output_type": "execute_result",
          "data": {
            "text/html": [
              "<div>\n",
              "<style scoped>\n",
              "    .dataframe tbody tr th:only-of-type {\n",
              "        vertical-align: middle;\n",
              "    }\n",
              "\n",
              "    .dataframe tbody tr th {\n",
              "        vertical-align: top;\n",
              "    }\n",
              "\n",
              "    .dataframe thead th {\n",
              "        text-align: right;\n",
              "    }\n",
              "</style>\n",
              "<table border=\"1\" class=\"dataframe\">\n",
              "  <thead>\n",
              "    <tr style=\"text-align: right;\">\n",
              "      <th></th>\n",
              "      <th>id</th>\n",
              "      <th>comment_text</th>\n",
              "      <th>toxic</th>\n",
              "      <th>severe_toxic</th>\n",
              "      <th>obscene</th>\n",
              "      <th>threat</th>\n",
              "      <th>insult</th>\n",
              "      <th>identity_hate</th>\n",
              "    </tr>\n",
              "  </thead>\n",
              "  <tbody>\n",
              "    <tr>\n",
              "      <th>0</th>\n",
              "      <td>0000997932d777bf</td>\n",
              "      <td>Explanation\\nWhy the edits made under my usern...</td>\n",
              "      <td>0</td>\n",
              "      <td>0</td>\n",
              "      <td>0</td>\n",
              "      <td>0</td>\n",
              "      <td>0</td>\n",
              "      <td>0</td>\n",
              "    </tr>\n",
              "    <tr>\n",
              "      <th>1</th>\n",
              "      <td>000103f0d9cfb60f</td>\n",
              "      <td>D'aww! He matches this background colour I'm s...</td>\n",
              "      <td>0</td>\n",
              "      <td>0</td>\n",
              "      <td>0</td>\n",
              "      <td>0</td>\n",
              "      <td>0</td>\n",
              "      <td>0</td>\n",
              "    </tr>\n",
              "    <tr>\n",
              "      <th>2</th>\n",
              "      <td>000113f07ec002fd</td>\n",
              "      <td>Hey man, I'm really not trying to edit war. It...</td>\n",
              "      <td>0</td>\n",
              "      <td>0</td>\n",
              "      <td>0</td>\n",
              "      <td>0</td>\n",
              "      <td>0</td>\n",
              "      <td>0</td>\n",
              "    </tr>\n",
              "    <tr>\n",
              "      <th>3</th>\n",
              "      <td>0001b41b1c6bb37e</td>\n",
              "      <td>\"\\nMore\\nI can't make any real suggestions on ...</td>\n",
              "      <td>0</td>\n",
              "      <td>0</td>\n",
              "      <td>0</td>\n",
              "      <td>0</td>\n",
              "      <td>0</td>\n",
              "      <td>0</td>\n",
              "    </tr>\n",
              "    <tr>\n",
              "      <th>4</th>\n",
              "      <td>0001d958c54c6e35</td>\n",
              "      <td>You, sir, are my hero. Any chance you remember...</td>\n",
              "      <td>0</td>\n",
              "      <td>0</td>\n",
              "      <td>0</td>\n",
              "      <td>0</td>\n",
              "      <td>0</td>\n",
              "      <td>0</td>\n",
              "    </tr>\n",
              "  </tbody>\n",
              "</table>\n",
              "</div>"
            ],
            "text/plain": [
              "                 id  ... identity_hate\n",
              "0  0000997932d777bf  ...             0\n",
              "1  000103f0d9cfb60f  ...             0\n",
              "2  000113f07ec002fd  ...             0\n",
              "3  0001b41b1c6bb37e  ...             0\n",
              "4  0001d958c54c6e35  ...             0\n",
              "\n",
              "[5 rows x 8 columns]"
            ]
          },
          "metadata": {
            "tags": []
          },
          "execution_count": 100
        }
      ]
    },
    {
      "cell_type": "markdown",
      "metadata": {
        "id": "riGnXMkSIERq"
      },
      "source": [
        "### <font color = 'Orange'>Problem & Solution : \n",
        "- The problem in this dataset is that ic contains multiple labels while we need only one label either toxic or not \n",
        "- The Solution :\n",
        " - Add All the labels together and create new column for the summation \n",
        " -then if the value in the entry is > 0 it is replaced by 1 else it is kept zero as it is "
      ]
    },
    {
      "cell_type": "code",
      "metadata": {
        "id": "H67R0vOBH-8Z"
      },
      "source": [
        "test_set[\"Combined\"] =test_set['toxic']+test_set['severe_toxic']+\\\n",
        "test_set['obscene']+test_set['threat']\t+test_set['insult']\t+ test_set['identity_hate']"
      ],
      "execution_count": 101,
      "outputs": []
    },
    {
      "cell_type": "code",
      "metadata": {
        "colab": {
          "base_uri": "https://localhost:8080/"
        },
        "id": "l_J9dLtbAXZ4",
        "outputId": "b8abeb66-5d20-4234-d63f-66abb55a1972"
      },
      "source": [
        "test_set['Combined']"
      ],
      "execution_count": 102,
      "outputs": [
        {
          "output_type": "execute_result",
          "data": {
            "text/plain": [
              "0         0\n",
              "1         0\n",
              "2         0\n",
              "3         0\n",
              "4         0\n",
              "         ..\n",
              "223544    0\n",
              "223545    0\n",
              "223546    0\n",
              "223547    3\n",
              "223548    0\n",
              "Name: Combined, Length: 223549, dtype: int64"
            ]
          },
          "metadata": {
            "tags": []
          },
          "execution_count": 102
        }
      ]
    },
    {
      "cell_type": "code",
      "metadata": {
        "id": "oV0xGn1bA3Wv"
      },
      "source": [
        "test_set['Combined'] = test_set['Combined'].replace([1,2,3,4,5,6], 1)"
      ],
      "execution_count": 103,
      "outputs": []
    },
    {
      "cell_type": "code",
      "metadata": {
        "colab": {
          "base_uri": "https://localhost:8080/",
          "height": 411
        },
        "id": "7Ou-OQ-4BMN3",
        "outputId": "6315b0fc-94f4-45f6-871c-d7f6a3cf37c0"
      },
      "source": [
        "test_set.head()"
      ],
      "execution_count": 104,
      "outputs": [
        {
          "output_type": "execute_result",
          "data": {
            "text/html": [
              "<div>\n",
              "<style scoped>\n",
              "    .dataframe tbody tr th:only-of-type {\n",
              "        vertical-align: middle;\n",
              "    }\n",
              "\n",
              "    .dataframe tbody tr th {\n",
              "        vertical-align: top;\n",
              "    }\n",
              "\n",
              "    .dataframe thead th {\n",
              "        text-align: right;\n",
              "    }\n",
              "</style>\n",
              "<table border=\"1\" class=\"dataframe\">\n",
              "  <thead>\n",
              "    <tr style=\"text-align: right;\">\n",
              "      <th></th>\n",
              "      <th>id</th>\n",
              "      <th>comment_text</th>\n",
              "      <th>toxic</th>\n",
              "      <th>severe_toxic</th>\n",
              "      <th>obscene</th>\n",
              "      <th>threat</th>\n",
              "      <th>insult</th>\n",
              "      <th>identity_hate</th>\n",
              "      <th>Combined</th>\n",
              "    </tr>\n",
              "  </thead>\n",
              "  <tbody>\n",
              "    <tr>\n",
              "      <th>0</th>\n",
              "      <td>0000997932d777bf</td>\n",
              "      <td>Explanation\\nWhy the edits made under my usern...</td>\n",
              "      <td>0</td>\n",
              "      <td>0</td>\n",
              "      <td>0</td>\n",
              "      <td>0</td>\n",
              "      <td>0</td>\n",
              "      <td>0</td>\n",
              "      <td>0</td>\n",
              "    </tr>\n",
              "    <tr>\n",
              "      <th>1</th>\n",
              "      <td>000103f0d9cfb60f</td>\n",
              "      <td>D'aww! He matches this background colour I'm s...</td>\n",
              "      <td>0</td>\n",
              "      <td>0</td>\n",
              "      <td>0</td>\n",
              "      <td>0</td>\n",
              "      <td>0</td>\n",
              "      <td>0</td>\n",
              "      <td>0</td>\n",
              "    </tr>\n",
              "    <tr>\n",
              "      <th>2</th>\n",
              "      <td>000113f07ec002fd</td>\n",
              "      <td>Hey man, I'm really not trying to edit war. It...</td>\n",
              "      <td>0</td>\n",
              "      <td>0</td>\n",
              "      <td>0</td>\n",
              "      <td>0</td>\n",
              "      <td>0</td>\n",
              "      <td>0</td>\n",
              "      <td>0</td>\n",
              "    </tr>\n",
              "    <tr>\n",
              "      <th>3</th>\n",
              "      <td>0001b41b1c6bb37e</td>\n",
              "      <td>\"\\nMore\\nI can't make any real suggestions on ...</td>\n",
              "      <td>0</td>\n",
              "      <td>0</td>\n",
              "      <td>0</td>\n",
              "      <td>0</td>\n",
              "      <td>0</td>\n",
              "      <td>0</td>\n",
              "      <td>0</td>\n",
              "    </tr>\n",
              "    <tr>\n",
              "      <th>4</th>\n",
              "      <td>0001d958c54c6e35</td>\n",
              "      <td>You, sir, are my hero. Any chance you remember...</td>\n",
              "      <td>0</td>\n",
              "      <td>0</td>\n",
              "      <td>0</td>\n",
              "      <td>0</td>\n",
              "      <td>0</td>\n",
              "      <td>0</td>\n",
              "      <td>0</td>\n",
              "    </tr>\n",
              "  </tbody>\n",
              "</table>\n",
              "</div>"
            ],
            "text/plain": [
              "                 id  ... Combined\n",
              "0  0000997932d777bf  ...        0\n",
              "1  000103f0d9cfb60f  ...        0\n",
              "2  000113f07ec002fd  ...        0\n",
              "3  0001b41b1c6bb37e  ...        0\n",
              "4  0001d958c54c6e35  ...        0\n",
              "\n",
              "[5 rows x 9 columns]"
            ]
          },
          "metadata": {
            "tags": []
          },
          "execution_count": 104
        }
      ]
    },
    {
      "cell_type": "code",
      "metadata": {
        "id": "5nK9ZBlABW4q"
      },
      "source": [
        "# Create a Dataset with only comments and label\n",
        "test_set=test_set[['comment_text' ,'Combined']]"
      ],
      "execution_count": 105,
      "outputs": []
    },
    {
      "cell_type": "code",
      "metadata": {
        "colab": {
          "base_uri": "https://localhost:8080/",
          "height": 419
        },
        "id": "--Bu9Lm8BhdA",
        "outputId": "b79561f4-984e-45a4-ee66-4b6da7944bf1"
      },
      "source": [
        "test_set"
      ],
      "execution_count": 106,
      "outputs": [
        {
          "output_type": "execute_result",
          "data": {
            "text/html": [
              "<div>\n",
              "<style scoped>\n",
              "    .dataframe tbody tr th:only-of-type {\n",
              "        vertical-align: middle;\n",
              "    }\n",
              "\n",
              "    .dataframe tbody tr th {\n",
              "        vertical-align: top;\n",
              "    }\n",
              "\n",
              "    .dataframe thead th {\n",
              "        text-align: right;\n",
              "    }\n",
              "</style>\n",
              "<table border=\"1\" class=\"dataframe\">\n",
              "  <thead>\n",
              "    <tr style=\"text-align: right;\">\n",
              "      <th></th>\n",
              "      <th>comment_text</th>\n",
              "      <th>Combined</th>\n",
              "    </tr>\n",
              "  </thead>\n",
              "  <tbody>\n",
              "    <tr>\n",
              "      <th>0</th>\n",
              "      <td>Explanation\\nWhy the edits made under my usern...</td>\n",
              "      <td>0</td>\n",
              "    </tr>\n",
              "    <tr>\n",
              "      <th>1</th>\n",
              "      <td>D'aww! He matches this background colour I'm s...</td>\n",
              "      <td>0</td>\n",
              "    </tr>\n",
              "    <tr>\n",
              "      <th>2</th>\n",
              "      <td>Hey man, I'm really not trying to edit war. It...</td>\n",
              "      <td>0</td>\n",
              "    </tr>\n",
              "    <tr>\n",
              "      <th>3</th>\n",
              "      <td>\"\\nMore\\nI can't make any real suggestions on ...</td>\n",
              "      <td>0</td>\n",
              "    </tr>\n",
              "    <tr>\n",
              "      <th>4</th>\n",
              "      <td>You, sir, are my hero. Any chance you remember...</td>\n",
              "      <td>0</td>\n",
              "    </tr>\n",
              "    <tr>\n",
              "      <th>...</th>\n",
              "      <td>...</td>\n",
              "      <td>...</td>\n",
              "    </tr>\n",
              "    <tr>\n",
              "      <th>223544</th>\n",
              "      <td>:Jerome, I see you never got around to this…! ...</td>\n",
              "      <td>0</td>\n",
              "    </tr>\n",
              "    <tr>\n",
              "      <th>223545</th>\n",
              "      <td>==Lucky bastard== \\n http://wikimediafoundatio...</td>\n",
              "      <td>0</td>\n",
              "    </tr>\n",
              "    <tr>\n",
              "      <th>223546</th>\n",
              "      <td>==shame on you all!!!== \\n\\n You want to speak...</td>\n",
              "      <td>0</td>\n",
              "    </tr>\n",
              "    <tr>\n",
              "      <th>223547</th>\n",
              "      <td>MEL GIBSON IS A NAZI BITCH WHO MAKES SHITTY MO...</td>\n",
              "      <td>1</td>\n",
              "    </tr>\n",
              "    <tr>\n",
              "      <th>223548</th>\n",
              "      <td>\" \\n\\n == Unicorn lair discovery == \\n\\n Suppo...</td>\n",
              "      <td>0</td>\n",
              "    </tr>\n",
              "  </tbody>\n",
              "</table>\n",
              "<p>223549 rows × 2 columns</p>\n",
              "</div>"
            ],
            "text/plain": [
              "                                             comment_text  Combined\n",
              "0       Explanation\\nWhy the edits made under my usern...         0\n",
              "1       D'aww! He matches this background colour I'm s...         0\n",
              "2       Hey man, I'm really not trying to edit war. It...         0\n",
              "3       \"\\nMore\\nI can't make any real suggestions on ...         0\n",
              "4       You, sir, are my hero. Any chance you remember...         0\n",
              "...                                                   ...       ...\n",
              "223544  :Jerome, I see you never got around to this…! ...         0\n",
              "223545  ==Lucky bastard== \\n http://wikimediafoundatio...         0\n",
              "223546  ==shame on you all!!!== \\n\\n You want to speak...         0\n",
              "223547  MEL GIBSON IS A NAZI BITCH WHO MAKES SHITTY MO...         1\n",
              "223548  \" \\n\\n == Unicorn lair discovery == \\n\\n Suppo...         0\n",
              "\n",
              "[223549 rows x 2 columns]"
            ]
          },
          "metadata": {
            "tags": []
          },
          "execution_count": 106
        }
      ]
    },
    {
      "cell_type": "markdown",
      "metadata": {
        "id": "L5TxBsP8I3qk"
      },
      "source": [
        "## Dataset Analysis "
      ]
    },
    {
      "cell_type": "code",
      "metadata": {
        "colab": {
          "base_uri": "https://localhost:8080/",
          "height": 248
        },
        "id": "XoKdJgpNBnAF",
        "outputId": "90359ec8-b271-45e0-81c3-2ec11e27f6db"
      },
      "source": [
        "test_set['Combined'].value_counts().plot(kind = 'pie',autopct='%.2f') ; "
      ],
      "execution_count": 107,
      "outputs": [
        {
          "output_type": "display_data",
          "data": {
            "image/png": "[encoded data removed]",
            "text/plain": [
              "<Figure size 432x288 with 1 Axes>"
            ]
          },
          "metadata": {
            "tags": []
          }
        }
      ]
    },
    {
      "cell_type": "code",
      "metadata": {
        "id": "Au25sx60vBAi",
        "colab": {
          "base_uri": "https://localhost:8080/"
        },
        "outputId": "dbd6761a-370f-419a-b733-ab02dc490b2d"
      },
      "source": [
        "test_set.shape"
      ],
      "execution_count": 108,
      "outputs": [
        {
          "output_type": "execute_result",
          "data": {
            "text/plain": [
              "(223549, 2)"
            ]
          },
          "metadata": {
            "tags": []
          },
          "execution_count": 108
        }
      ]
    },
    {
      "cell_type": "code",
      "metadata": {
        "colab": {
          "base_uri": "https://localhost:8080/",
          "height": 265
        },
        "id": "Jcz8x0mHEIzI",
        "outputId": "94fae845-d3b8-427a-8278-f6b597897401"
      },
      "source": [
        "test_set.Combined.value_counts().plot(kind = 'barh') ;\n"
      ],
      "execution_count": 109,
      "outputs": [
        {
          "output_type": "display_data",
          "data": {
            "image/png": "[encoded data removed]",
            "text/plain": [
              "<Figure size 432x288 with 1 Axes>"
            ]
          },
          "metadata": {
            "tags": [],
            "needs_background": "light"
          }
        }
      ]
    },
    {
      "cell_type": "markdown",
      "metadata": {
        "id": "gTrIB1V3I-Lo"
      },
      "source": [
        "## Dataset Testing with the Model "
      ]
    },
    {
      "cell_type": "code",
      "metadata": {
        "id": "w0FI_8uCEYhJ"
      },
      "source": [
        "x_test = encode(test_set.comment_text.values, tokenizer, MAX_LEN)"
      ],
      "execution_count": 110,
      "outputs": []
    },
    {
      "cell_type": "code",
      "metadata": {
        "id": "g6wDmWEgEYhM"
      },
      "source": [
        "\n",
        "test_dataset = (\n",
        "      tf.data.Dataset\n",
        "      .from_tensor_slices(x_test)\n",
        "      .batch(BATCH_SIZE)\n",
        "  )\n"
      ],
      "execution_count": 111,
      "outputs": []
    },
    {
      "cell_type": "code",
      "metadata": {
        "colab": {
          "base_uri": "https://localhost:8080/"
        },
        "id": "QJZhRqTIEYhN",
        "outputId": "7b5e75e8-70b9-4979-d17e-a8b001b9eac6"
      },
      "source": [
        " pr = model.predict(test_dataset , verbose=1 )\n",
        " "
      ],
      "execution_count": 112,
      "outputs": [
        {
          "output_type": "stream",
          "text": [
            "874/874 [==============================] - 46s 52ms/step\n"
          ],
          "name": "stdout"
        }
      ]
    },
    {
      "cell_type": "code",
      "metadata": {
        "id": "ri3CX43pGPOR"
      },
      "source": [
        "test_set[\"predicted\"]= pr "
      ],
      "execution_count": 113,
      "outputs": []
    },
    {
      "cell_type": "code",
      "metadata": {
        "colab": {
          "base_uri": "https://localhost:8080/",
          "height": 419
        },
        "id": "-ZVT-BAEGrpS",
        "outputId": "f6a61773-f457-4818-b3d8-d42405ac701f"
      },
      "source": [
        "test_set\n"
      ],
      "execution_count": 114,
      "outputs": [
        {
          "output_type": "execute_result",
          "data": {
            "text/html": [
              "<div>\n",
              "<style scoped>\n",
              "    .dataframe tbody tr th:only-of-type {\n",
              "        vertical-align: middle;\n",
              "    }\n",
              "\n",
              "    .dataframe tbody tr th {\n",
              "        vertical-align: top;\n",
              "    }\n",
              "\n",
              "    .dataframe thead th {\n",
              "        text-align: right;\n",
              "    }\n",
              "</style>\n",
              "<table border=\"1\" class=\"dataframe\">\n",
              "  <thead>\n",
              "    <tr style=\"text-align: right;\">\n",
              "      <th></th>\n",
              "      <th>comment_text</th>\n",
              "      <th>Combined</th>\n",
              "      <th>predicted</th>\n",
              "    </tr>\n",
              "  </thead>\n",
              "  <tbody>\n",
              "    <tr>\n",
              "      <th>0</th>\n",
              "      <td>Explanation\\nWhy the edits made under my usern...</td>\n",
              "      <td>0</td>\n",
              "      <td>2.086163e-07</td>\n",
              "    </tr>\n",
              "    <tr>\n",
              "      <th>1</th>\n",
              "      <td>D'aww! He matches this background colour I'm s...</td>\n",
              "      <td>0</td>\n",
              "      <td>6.982684e-05</td>\n",
              "    </tr>\n",
              "    <tr>\n",
              "      <th>2</th>\n",
              "      <td>Hey man, I'm really not trying to edit war. It...</td>\n",
              "      <td>0</td>\n",
              "      <td>2.712011e-06</td>\n",
              "    </tr>\n",
              "    <tr>\n",
              "      <th>3</th>\n",
              "      <td>\"\\nMore\\nI can't make any real suggestions on ...</td>\n",
              "      <td>0</td>\n",
              "      <td>0.000000e+00</td>\n",
              "    </tr>\n",
              "    <tr>\n",
              "      <th>4</th>\n",
              "      <td>You, sir, are my hero. Any chance you remember...</td>\n",
              "      <td>0</td>\n",
              "      <td>4.172325e-07</td>\n",
              "    </tr>\n",
              "    <tr>\n",
              "      <th>...</th>\n",
              "      <td>...</td>\n",
              "      <td>...</td>\n",
              "      <td>...</td>\n",
              "    </tr>\n",
              "    <tr>\n",
              "      <th>223544</th>\n",
              "      <td>:Jerome, I see you never got around to this…! ...</td>\n",
              "      <td>0</td>\n",
              "      <td>0.000000e+00</td>\n",
              "    </tr>\n",
              "    <tr>\n",
              "      <th>223545</th>\n",
              "      <td>==Lucky bastard== \\n http://wikimediafoundatio...</td>\n",
              "      <td>0</td>\n",
              "      <td>9.621906e-01</td>\n",
              "    </tr>\n",
              "    <tr>\n",
              "      <th>223546</th>\n",
              "      <td>==shame on you all!!!== \\n\\n You want to speak...</td>\n",
              "      <td>0</td>\n",
              "      <td>9.984554e-01</td>\n",
              "    </tr>\n",
              "    <tr>\n",
              "      <th>223547</th>\n",
              "      <td>MEL GIBSON IS A NAZI BITCH WHO MAKES SHITTY MO...</td>\n",
              "      <td>1</td>\n",
              "      <td>9.999974e-01</td>\n",
              "    </tr>\n",
              "    <tr>\n",
              "      <th>223548</th>\n",
              "      <td>\" \\n\\n == Unicorn lair discovery == \\n\\n Suppo...</td>\n",
              "      <td>0</td>\n",
              "      <td>0.000000e+00</td>\n",
              "    </tr>\n",
              "  </tbody>\n",
              "</table>\n",
              "<p>223549 rows × 3 columns</p>\n",
              "</div>"
            ],
            "text/plain": [
              "                                             comment_text  ...     predicted\n",
              "0       Explanation\\nWhy the edits made under my usern...  ...  2.086163e-07\n",
              "1       D'aww! He matches this background colour I'm s...  ...  6.982684e-05\n",
              "2       Hey man, I'm really not trying to edit war. It...  ...  2.712011e-06\n",
              "3       \"\\nMore\\nI can't make any real suggestions on ...  ...  0.000000e+00\n",
              "4       You, sir, are my hero. Any chance you remember...  ...  4.172325e-07\n",
              "...                                                   ...  ...           ...\n",
              "223544  :Jerome, I see you never got around to this…! ...  ...  0.000000e+00\n",
              "223545  ==Lucky bastard== \\n http://wikimediafoundatio...  ...  9.621906e-01\n",
              "223546  ==shame on you all!!!== \\n\\n You want to speak...  ...  9.984554e-01\n",
              "223547  MEL GIBSON IS A NAZI BITCH WHO MAKES SHITTY MO...  ...  9.999974e-01\n",
              "223548  \" \\n\\n == Unicorn lair discovery == \\n\\n Suppo...  ...  0.000000e+00\n",
              "\n",
              "[223549 rows x 3 columns]"
            ]
          },
          "metadata": {
            "tags": []
          },
          "execution_count": 114
        }
      ]
    },
    {
      "cell_type": "code",
      "metadata": {
        "id": "RPt3Qn-NEYhO"
      },
      "source": [
        "test_set[\"predicted\"] = test_set[\"predicted\"].round()"
      ],
      "execution_count": 115,
      "outputs": []
    },
    {
      "cell_type": "code",
      "metadata": {
        "colab": {
          "base_uri": "https://localhost:8080/",
          "height": 419
        },
        "id": "zjBjkjPKGOPf",
        "outputId": "05248a85-7052-4fa2-b8b4-b82ad7f89762"
      },
      "source": [
        "test_set"
      ],
      "execution_count": 116,
      "outputs": [
        {
          "output_type": "execute_result",
          "data": {
            "text/html": [
              "<div>\n",
              "<style scoped>\n",
              "    .dataframe tbody tr th:only-of-type {\n",
              "        vertical-align: middle;\n",
              "    }\n",
              "\n",
              "    .dataframe tbody tr th {\n",
              "        vertical-align: top;\n",
              "    }\n",
              "\n",
              "    .dataframe thead th {\n",
              "        text-align: right;\n",
              "    }\n",
              "</style>\n",
              "<table border=\"1\" class=\"dataframe\">\n",
              "  <thead>\n",
              "    <tr style=\"text-align: right;\">\n",
              "      <th></th>\n",
              "      <th>comment_text</th>\n",
              "      <th>Combined</th>\n",
              "      <th>predicted</th>\n",
              "    </tr>\n",
              "  </thead>\n",
              "  <tbody>\n",
              "    <tr>\n",
              "      <th>0</th>\n",
              "      <td>Explanation\\nWhy the edits made under my usern...</td>\n",
              "      <td>0</td>\n",
              "      <td>0.0</td>\n",
              "    </tr>\n",
              "    <tr>\n",
              "      <th>1</th>\n",
              "      <td>D'aww! He matches this background colour I'm s...</td>\n",
              "      <td>0</td>\n",
              "      <td>0.0</td>\n",
              "    </tr>\n",
              "    <tr>\n",
              "      <th>2</th>\n",
              "      <td>Hey man, I'm really not trying to edit war. It...</td>\n",
              "      <td>0</td>\n",
              "      <td>0.0</td>\n",
              "    </tr>\n",
              "    <tr>\n",
              "      <th>3</th>\n",
              "      <td>\"\\nMore\\nI can't make any real suggestions on ...</td>\n",
              "      <td>0</td>\n",
              "      <td>0.0</td>\n",
              "    </tr>\n",
              "    <tr>\n",
              "      <th>4</th>\n",
              "      <td>You, sir, are my hero. Any chance you remember...</td>\n",
              "      <td>0</td>\n",
              "      <td>0.0</td>\n",
              "    </tr>\n",
              "    <tr>\n",
              "      <th>...</th>\n",
              "      <td>...</td>\n",
              "      <td>...</td>\n",
              "      <td>...</td>\n",
              "    </tr>\n",
              "    <tr>\n",
              "      <th>223544</th>\n",
              "      <td>:Jerome, I see you never got around to this…! ...</td>\n",
              "      <td>0</td>\n",
              "      <td>0.0</td>\n",
              "    </tr>\n",
              "    <tr>\n",
              "      <th>223545</th>\n",
              "      <td>==Lucky bastard== \\n http://wikimediafoundatio...</td>\n",
              "      <td>0</td>\n",
              "      <td>1.0</td>\n",
              "    </tr>\n",
              "    <tr>\n",
              "      <th>223546</th>\n",
              "      <td>==shame on you all!!!== \\n\\n You want to speak...</td>\n",
              "      <td>0</td>\n",
              "      <td>1.0</td>\n",
              "    </tr>\n",
              "    <tr>\n",
              "      <th>223547</th>\n",
              "      <td>MEL GIBSON IS A NAZI BITCH WHO MAKES SHITTY MO...</td>\n",
              "      <td>1</td>\n",
              "      <td>1.0</td>\n",
              "    </tr>\n",
              "    <tr>\n",
              "      <th>223548</th>\n",
              "      <td>\" \\n\\n == Unicorn lair discovery == \\n\\n Suppo...</td>\n",
              "      <td>0</td>\n",
              "      <td>0.0</td>\n",
              "    </tr>\n",
              "  </tbody>\n",
              "</table>\n",
              "<p>223549 rows × 3 columns</p>\n",
              "</div>"
            ],
            "text/plain": [
              "                                             comment_text  Combined  predicted\n",
              "0       Explanation\\nWhy the edits made under my usern...         0        0.0\n",
              "1       D'aww! He matches this background colour I'm s...         0        0.0\n",
              "2       Hey man, I'm really not trying to edit war. It...         0        0.0\n",
              "3       \"\\nMore\\nI can't make any real suggestions on ...         0        0.0\n",
              "4       You, sir, are my hero. Any chance you remember...         0        0.0\n",
              "...                                                   ...       ...        ...\n",
              "223544  :Jerome, I see you never got around to this…! ...         0        0.0\n",
              "223545  ==Lucky bastard== \\n http://wikimediafoundatio...         0        1.0\n",
              "223546  ==shame on you all!!!== \\n\\n You want to speak...         0        1.0\n",
              "223547  MEL GIBSON IS A NAZI BITCH WHO MAKES SHITTY MO...         1        1.0\n",
              "223548  \" \\n\\n == Unicorn lair discovery == \\n\\n Suppo...         0        0.0\n",
              "\n",
              "[223549 rows x 3 columns]"
            ]
          },
          "metadata": {
            "tags": []
          },
          "execution_count": 116
        }
      ]
    },
    {
      "cell_type": "markdown",
      "metadata": {
        "id": "nz-5Zcf1iRL4"
      },
      "source": [
        "## Testing Evaluation "
      ]
    },
    {
      "cell_type": "code",
      "metadata": {
        "colab": {
          "base_uri": "https://localhost:8080/"
        },
        "id": "IEkpbn2BEIRE",
        "outputId": "48963f56-a7bd-4a21-bbb0-acfde7a58e03"
      },
      "source": [
        "from sklearn.metrics import accuracy_score\n",
        "y_pred = test_set[\"predicted\"].tolist()\n",
        "y_true = test_set[\"Combined\"].tolist()\n",
        "accuracy_score(y_true, y_pred)"
      ],
      "execution_count": 117,
      "outputs": [
        {
          "output_type": "execute_result",
          "data": {
            "text/plain": [
              "0.9295769607558074"
            ]
          },
          "metadata": {
            "tags": []
          },
          "execution_count": 117
        }
      ]
    },
    {
      "cell_type": "code",
      "metadata": {
        "id": "XFgobDdDjfiH",
        "colab": {
          "base_uri": "https://localhost:8080/"
        },
        "outputId": "0a28336b-a4c7-4309-e799-f3e9e88ece2c"
      },
      "source": [
        "from sklearn.metrics import roc_curve, roc_auc_score\n",
        "test_combined_auc = roc_auc_score(y_true, y_pred)\n",
        "test_combined_auc"
      ],
      "execution_count": 118,
      "outputs": [
        {
          "output_type": "execute_result",
          "data": {
            "text/plain": [
              "0.9484797463461105"
            ]
          },
          "metadata": {
            "tags": []
          },
          "execution_count": 118
        }
      ]
    },
    {
      "cell_type": "code",
      "metadata": {
        "id": "FguxA8MOimpp",
        "colab": {
          "base_uri": "https://localhost:8080/"
        },
        "outputId": "e5093945-e5a3-4f68-fb4d-98c6bbd03416"
      },
      "source": [
        "from sklearn.metrics import precision_recall_fscore_support\n",
        "precision ,recall, fscore , _  =precision_recall_fscore_support(y_true, y_pred, average='weighted')\n",
        "print('precision:' , precision , '    recall : '  ,recall, '    fscore : ' ,fscore)"
      ],
      "execution_count": 119,
      "outputs": [
        {
          "output_type": "stream",
          "text": [
            "precision: 0.9558732266341022     recall :  0.9295769607558074     fscore :  0.9368469337879047\n"
          ],
          "name": "stdout"
        }
      ]
    },
    {
      "cell_type": "markdown",
      "metadata": {
        "id": "bd-m4J8PJdkE"
      },
      "source": [
        "# Second Testing set : \n",
        " ## - validation.csv "
      ]
    },
    {
      "cell_type": "code",
      "metadata": {
        "colab": {
          "base_uri": "https://localhost:8080/"
        },
        "id": "0F1nRalAUR9g",
        "outputId": "6b68658b-5409-4a18-bf2d-fde82dedcbf5"
      },
      "source": [
        "! unzip '/content/validation.csv.zip'"
      ],
      "execution_count": 52,
      "outputs": [
        {
          "output_type": "stream",
          "text": [
            "Archive:  /content/validation.csv.zip\n",
            "  inflating: validation.csv          \n"
          ],
          "name": "stdout"
        }
      ]
    },
    {
      "cell_type": "code",
      "metadata": {
        "id": "qOy7rB3ju5aO",
        "colab": {
          "base_uri": "https://localhost:8080/",
          "height": 204
        },
        "outputId": "1dc0a858-3b35-414d-8ba4-0402c5a3b57c"
      },
      "source": [
        "test_set = pd.read_csv('validation.csv')\n",
        "test_set.head(5)\n"
      ],
      "execution_count": 53,
      "outputs": [
        {
          "output_type": "execute_result",
          "data": {
            "text/html": [
              "<div>\n",
              "<style scoped>\n",
              "    .dataframe tbody tr th:only-of-type {\n",
              "        vertical-align: middle;\n",
              "    }\n",
              "\n",
              "    .dataframe tbody tr th {\n",
              "        vertical-align: top;\n",
              "    }\n",
              "\n",
              "    .dataframe thead th {\n",
              "        text-align: right;\n",
              "    }\n",
              "</style>\n",
              "<table border=\"1\" class=\"dataframe\">\n",
              "  <thead>\n",
              "    <tr style=\"text-align: right;\">\n",
              "      <th></th>\n",
              "      <th>id</th>\n",
              "      <th>comment_text</th>\n",
              "      <th>lang</th>\n",
              "      <th>toxic</th>\n",
              "    </tr>\n",
              "  </thead>\n",
              "  <tbody>\n",
              "    <tr>\n",
              "      <th>0</th>\n",
              "      <td>0</td>\n",
              "      <td>Este usuario ni siquiera llega al rango de    ...</td>\n",
              "      <td>es</td>\n",
              "      <td>0</td>\n",
              "    </tr>\n",
              "    <tr>\n",
              "      <th>1</th>\n",
              "      <td>1</td>\n",
              "      <td>Il testo di questa voce pare esser scopiazzato...</td>\n",
              "      <td>it</td>\n",
              "      <td>0</td>\n",
              "    </tr>\n",
              "    <tr>\n",
              "      <th>2</th>\n",
              "      <td>2</td>\n",
              "      <td>Vale. Sólo expongo mi pasado. Todo tiempo pasa...</td>\n",
              "      <td>es</td>\n",
              "      <td>1</td>\n",
              "    </tr>\n",
              "    <tr>\n",
              "      <th>3</th>\n",
              "      <td>3</td>\n",
              "      <td>Bu maddenin alt başlığı olarak  uluslararası i...</td>\n",
              "      <td>tr</td>\n",
              "      <td>0</td>\n",
              "    </tr>\n",
              "    <tr>\n",
              "      <th>4</th>\n",
              "      <td>4</td>\n",
              "      <td>Belçika nın şehirlerinin yanında ilçe ve belde...</td>\n",
              "      <td>tr</td>\n",
              "      <td>0</td>\n",
              "    </tr>\n",
              "  </tbody>\n",
              "</table>\n",
              "</div>"
            ],
            "text/plain": [
              "   id                                       comment_text lang  toxic\n",
              "0   0  Este usuario ni siquiera llega al rango de    ...   es      0\n",
              "1   1  Il testo di questa voce pare esser scopiazzato...   it      0\n",
              "2   2  Vale. Sólo expongo mi pasado. Todo tiempo pasa...   es      1\n",
              "3   3  Bu maddenin alt başlığı olarak  uluslararası i...   tr      0\n",
              "4   4  Belçika nın şehirlerinin yanında ilçe ve belde...   tr      0"
            ]
          },
          "metadata": {
            "tags": []
          },
          "execution_count": 53
        }
      ]
    },
    {
      "cell_type": "code",
      "metadata": {
        "colab": {
          "base_uri": "https://localhost:8080/",
          "height": 204
        },
        "id": "dv-_4OOBvBl_",
        "outputId": "9210b17c-0a56-4754-b244-1e66ff36afe5"
      },
      "source": [
        "test_set.drop(\"id\" , axis =1 , inplace= True)\n",
        "test_set.head(5)"
      ],
      "execution_count": 54,
      "outputs": [
        {
          "output_type": "execute_result",
          "data": {
            "text/html": [
              "<div>\n",
              "<style scoped>\n",
              "    .dataframe tbody tr th:only-of-type {\n",
              "        vertical-align: middle;\n",
              "    }\n",
              "\n",
              "    .dataframe tbody tr th {\n",
              "        vertical-align: top;\n",
              "    }\n",
              "\n",
              "    .dataframe thead th {\n",
              "        text-align: right;\n",
              "    }\n",
              "</style>\n",
              "<table border=\"1\" class=\"dataframe\">\n",
              "  <thead>\n",
              "    <tr style=\"text-align: right;\">\n",
              "      <th></th>\n",
              "      <th>comment_text</th>\n",
              "      <th>lang</th>\n",
              "      <th>toxic</th>\n",
              "    </tr>\n",
              "  </thead>\n",
              "  <tbody>\n",
              "    <tr>\n",
              "      <th>0</th>\n",
              "      <td>Este usuario ni siquiera llega al rango de    ...</td>\n",
              "      <td>es</td>\n",
              "      <td>0</td>\n",
              "    </tr>\n",
              "    <tr>\n",
              "      <th>1</th>\n",
              "      <td>Il testo di questa voce pare esser scopiazzato...</td>\n",
              "      <td>it</td>\n",
              "      <td>0</td>\n",
              "    </tr>\n",
              "    <tr>\n",
              "      <th>2</th>\n",
              "      <td>Vale. Sólo expongo mi pasado. Todo tiempo pasa...</td>\n",
              "      <td>es</td>\n",
              "      <td>1</td>\n",
              "    </tr>\n",
              "    <tr>\n",
              "      <th>3</th>\n",
              "      <td>Bu maddenin alt başlığı olarak  uluslararası i...</td>\n",
              "      <td>tr</td>\n",
              "      <td>0</td>\n",
              "    </tr>\n",
              "    <tr>\n",
              "      <th>4</th>\n",
              "      <td>Belçika nın şehirlerinin yanında ilçe ve belde...</td>\n",
              "      <td>tr</td>\n",
              "      <td>0</td>\n",
              "    </tr>\n",
              "  </tbody>\n",
              "</table>\n",
              "</div>"
            ],
            "text/plain": [
              "                                        comment_text lang  toxic\n",
              "0  Este usuario ni siquiera llega al rango de    ...   es      0\n",
              "1  Il testo di questa voce pare esser scopiazzato...   it      0\n",
              "2  Vale. Sólo expongo mi pasado. Todo tiempo pasa...   es      1\n",
              "3  Bu maddenin alt başlığı olarak  uluslararası i...   tr      0\n",
              "4  Belçika nın şehirlerinin yanında ilçe ve belde...   tr      0"
            ]
          },
          "metadata": {
            "tags": []
          },
          "execution_count": 54
        }
      ]
    },
    {
      "cell_type": "markdown",
      "metadata": {
        "id": "zQSX3b-xJyRI"
      },
      "source": [
        "## Dataset Analysis "
      ]
    },
    {
      "cell_type": "code",
      "metadata": {
        "colab": {
          "base_uri": "https://localhost:8080/",
          "height": 265
        },
        "id": "eV-xvf7wxuhg",
        "outputId": "894487c7-3977-4e2b-cb7a-b3a04e63f5f5"
      },
      "source": [
        "test_set.lang.value_counts().plot(kind = 'barh') ;\n"
      ],
      "execution_count": 55,
      "outputs": [
        {
          "output_type": "display_data",
          "data": {
            "image/png": "[encoded data removed]",
            "text/plain": [
              "<Figure size 432x288 with 1 Axes>"
            ]
          },
          "metadata": {
            "tags": [],
            "needs_background": "light"
          }
        }
      ]
    },
    {
      "cell_type": "code",
      "metadata": {
        "colab": {
          "base_uri": "https://localhost:8080/",
          "height": 248
        },
        "id": "u0Q30PPHvG2M",
        "outputId": "763ebdf2-f069-4040-ad80-bc0fdcd58260"
      },
      "source": [
        "test_set.lang.value_counts().plot(kind = 'pie' , autopct='%.2f') ;"
      ],
      "execution_count": 56,
      "outputs": [
        {
          "output_type": "display_data",
          "data": {
            "image/png": "[encoded data removed]",
            "text/plain": [
              "<Figure size 432x288 with 1 Axes>"
            ]
          },
          "metadata": {
            "tags": []
          }
        }
      ]
    },
    {
      "cell_type": "markdown",
      "metadata": {
        "id": "LP27u4P6J01B"
      },
      "source": [
        "### Spliting the test dataset : \n",
        "- In order to determine each language accuracy \n",
        " - Divide the testing dataset where each splited dataset is one language testing dataset \n",
        " - For example italian only dataet , Spanish only dataset.....etc"
      ]
    },
    {
      "cell_type": "code",
      "metadata": {
        "id": "wDwyHfcFvZ3W"
      },
      "source": [
        "compined_test_languages_df = {}\n",
        "for language, data in test_set.groupby('lang'):\n",
        "    compined_test_languages_df[f'test_set_{language}'] = data"
      ],
      "execution_count": 57,
      "outputs": []
    },
    {
      "cell_type": "code",
      "metadata": {
        "colab": {
          "base_uri": "https://localhost:8080/"
        },
        "id": "urNY7pf9wzwc",
        "outputId": "353324dc-c0a4-4e2b-b2f7-ef2ef7dab98a"
      },
      "source": [
        "compined_test_languages_df"
      ],
      "execution_count": 58,
      "outputs": [
        {
          "output_type": "execute_result",
          "data": {
            "text/plain": [
              "{'test_set_es':                                            comment_text lang  toxic\n",
              " 0     Este usuario ni siquiera llega al rango de    ...   es      0\n",
              " 2     Vale. Sólo expongo mi pasado. Todo tiempo pasa...   es      1\n",
              " 6     No es mala idea. De hecho, yo estaba pensando ...   es      0\n",
              " 9     Creo que es importante que podamos reconocer a...   es      0\n",
              " 12    No sabemos quien es el autor del pie de imagen...   es      0\n",
              " ...                                                 ...  ...    ...\n",
              " 7989  +1 para el tipo que dice que es vandalismo, ma...   es      1\n",
              " 7991  No has demostrado nada. Mientes de forma desca...   es      0\n",
              " 7994  Hola Santiago! Te he contestado en tu página d...   es      0\n",
              " 7996  El imbesil ete dela luna no se entera ni ostia...   es      1\n",
              " 7998  El mapa del reinado de Alhaken esta ligerament...   es      0\n",
              " \n",
              " [2500 rows x 3 columns],\n",
              " 'test_set_it':                                            comment_text lang  toxic\n",
              " 1     Il testo di questa voce pare esser scopiazzato...   it      0\n",
              " 10    Ciao, in sintesi Ti dico questo, trovo sbaglia...   it      0\n",
              " 16    il buon senso non lo usate voi. siete voi i ve...   it      1\n",
              " 17    In riguardo a cio  che ho pubblicato e tu hai ...   it      1\n",
              " 19    Ma che cosa stai dicendo!??? Questa è la versi...   it      1\n",
              " ...                                                 ...  ...    ...\n",
              " 7985  sbaglio a sei gia  stato caldamente invitato d...   it      0\n",
              " 7986  Scusa se ho pensato ke fossi una femmina.... d...   it      1\n",
              " 7990  Sei il primo che mi dice una cosa simile, e qu...   it      0\n",
              " 7995   Il fatto è che la pagina dei personaggi minor...   it      0\n",
              " 7999  lasciami la tua email per favore. ad ogni modo...   it      0\n",
              " \n",
              " [2500 rows x 3 columns],\n",
              " 'test_set_tr':                                            comment_text lang  toxic\n",
              " 3     Bu maddenin alt başlığı olarak  uluslararası i...   tr      0\n",
              " 4     Belçika nın şehirlerinin yanında ilçe ve belde...   tr      0\n",
              " 5     güzel, zaten kaynaklandırması zor subjektif ka...   tr      0\n",
              " 7     Kod hatalarını düzeltmişsiniz,elinize sağlık ç...   tr      0\n",
              " 8     Levent Abi nasılsın? Hayat nasıl gidiyor? Umar...   tr      0\n",
              " ...                                                 ...  ...    ...\n",
              " 7987  Merhaba, Dediğiniz durum sıkça yaşanıyor. Ben ...   tr      0\n",
              " 7988  Aynen. kübada hiç bir dönem sosyalist inşa ger...   tr      0\n",
              " 7992  Hcagri isimli kullanıcı öğrenme süreci hakkınd...   tr      0\n",
              " 7993  Öyle sanıyorum ki bahsettiğiniz Şəmsi Bədəlbəy...   tr      0\n",
              " 7997  olum sız manyakmısınz siz adam sıze sanal yıld...   tr      1\n",
              " \n",
              " [3000 rows x 3 columns]}"
            ]
          },
          "metadata": {
            "tags": []
          },
          "execution_count": 58
        }
      ]
    },
    {
      "cell_type": "code",
      "metadata": {
        "colab": {
          "base_uri": "https://localhost:8080/"
        },
        "id": "yf3k8ORTw-W-",
        "outputId": "35b282ba-800d-460a-9fe9-60a70d8f2848"
      },
      "source": [
        "compined_test_languages_df.keys()"
      ],
      "execution_count": 59,
      "outputs": [
        {
          "output_type": "execute_result",
          "data": {
            "text/plain": [
              "dict_keys(['test_set_es', 'test_set_it', 'test_set_tr'])"
            ]
          },
          "metadata": {
            "tags": []
          },
          "execution_count": 59
        }
      ]
    },
    {
      "cell_type": "code",
      "metadata": {
        "id": "QgtftRqmxFHV"
      },
      "source": [
        "for key in compined_test_languages_df.keys() : \n",
        "  compined_test_languages_df[key].drop('lang' , axis =1 , inplace = True)"
      ],
      "execution_count": 60,
      "outputs": []
    },
    {
      "cell_type": "markdown",
      "metadata": {
        "id": "iviOrKWpKdDb"
      },
      "source": [
        "## Italian test Dataset "
      ]
    },
    {
      "cell_type": "code",
      "metadata": {
        "colab": {
          "base_uri": "https://localhost:8080/",
          "height": 419
        },
        "id": "MPvlfBpkxe1J",
        "outputId": "b2b74735-df71-478d-d53b-f6f208df817c"
      },
      "source": [
        "compined_test_languages_df['test_set_it']"
      ],
      "execution_count": 61,
      "outputs": [
        {
          "output_type": "execute_result",
          "data": {
            "text/html": [
              "<div>\n",
              "<style scoped>\n",
              "    .dataframe tbody tr th:only-of-type {\n",
              "        vertical-align: middle;\n",
              "    }\n",
              "\n",
              "    .dataframe tbody tr th {\n",
              "        vertical-align: top;\n",
              "    }\n",
              "\n",
              "    .dataframe thead th {\n",
              "        text-align: right;\n",
              "    }\n",
              "</style>\n",
              "<table border=\"1\" class=\"dataframe\">\n",
              "  <thead>\n",
              "    <tr style=\"text-align: right;\">\n",
              "      <th></th>\n",
              "      <th>comment_text</th>\n",
              "      <th>toxic</th>\n",
              "    </tr>\n",
              "  </thead>\n",
              "  <tbody>\n",
              "    <tr>\n",
              "      <th>1</th>\n",
              "      <td>Il testo di questa voce pare esser scopiazzato...</td>\n",
              "      <td>0</td>\n",
              "    </tr>\n",
              "    <tr>\n",
              "      <th>10</th>\n",
              "      <td>Ciao, in sintesi Ti dico questo, trovo sbaglia...</td>\n",
              "      <td>0</td>\n",
              "    </tr>\n",
              "    <tr>\n",
              "      <th>16</th>\n",
              "      <td>il buon senso non lo usate voi. siete voi i ve...</td>\n",
              "      <td>1</td>\n",
              "    </tr>\n",
              "    <tr>\n",
              "      <th>17</th>\n",
              "      <td>In riguardo a cio  che ho pubblicato e tu hai ...</td>\n",
              "      <td>1</td>\n",
              "    </tr>\n",
              "    <tr>\n",
              "      <th>19</th>\n",
              "      <td>Ma che cosa stai dicendo!??? Questa è la versi...</td>\n",
              "      <td>1</td>\n",
              "    </tr>\n",
              "    <tr>\n",
              "      <th>...</th>\n",
              "      <td>...</td>\n",
              "      <td>...</td>\n",
              "    </tr>\n",
              "    <tr>\n",
              "      <th>7985</th>\n",
              "      <td>sbaglio a sei gia  stato caldamente invitato d...</td>\n",
              "      <td>0</td>\n",
              "    </tr>\n",
              "    <tr>\n",
              "      <th>7986</th>\n",
              "      <td>Scusa se ho pensato ke fossi una femmina.... d...</td>\n",
              "      <td>1</td>\n",
              "    </tr>\n",
              "    <tr>\n",
              "      <th>7990</th>\n",
              "      <td>Sei il primo che mi dice una cosa simile, e qu...</td>\n",
              "      <td>0</td>\n",
              "    </tr>\n",
              "    <tr>\n",
              "      <th>7995</th>\n",
              "      <td>Il fatto è che la pagina dei personaggi minor...</td>\n",
              "      <td>0</td>\n",
              "    </tr>\n",
              "    <tr>\n",
              "      <th>7999</th>\n",
              "      <td>lasciami la tua email per favore. ad ogni modo...</td>\n",
              "      <td>0</td>\n",
              "    </tr>\n",
              "  </tbody>\n",
              "</table>\n",
              "<p>2500 rows × 2 columns</p>\n",
              "</div>"
            ],
            "text/plain": [
              "                                           comment_text  toxic\n",
              "1     Il testo di questa voce pare esser scopiazzato...      0\n",
              "10    Ciao, in sintesi Ti dico questo, trovo sbaglia...      0\n",
              "16    il buon senso non lo usate voi. siete voi i ve...      1\n",
              "17    In riguardo a cio  che ho pubblicato e tu hai ...      1\n",
              "19    Ma che cosa stai dicendo!??? Questa è la versi...      1\n",
              "...                                                 ...    ...\n",
              "7985  sbaglio a sei gia  stato caldamente invitato d...      0\n",
              "7986  Scusa se ho pensato ke fossi una femmina.... d...      1\n",
              "7990  Sei il primo che mi dice una cosa simile, e qu...      0\n",
              "7995   Il fatto è che la pagina dei personaggi minor...      0\n",
              "7999  lasciami la tua email per favore. ad ogni modo...      0\n",
              "\n",
              "[2500 rows x 2 columns]"
            ]
          },
          "metadata": {
            "tags": []
          },
          "execution_count": 61
        }
      ]
    },
    {
      "cell_type": "code",
      "metadata": {
        "id": "vJWkVsYIo6_C"
      },
      "source": [
        ""
      ],
      "execution_count": 61,
      "outputs": []
    },
    {
      "cell_type": "code",
      "metadata": {
        "id": "ELyhpbFyU4x_"
      },
      "source": [
        "\n",
        "x_test = encode(compined_test_languages_df['test_set_it'].comment_text.values, tokenizer, MAX_LEN)"
      ],
      "execution_count": 81,
      "outputs": []
    },
    {
      "cell_type": "code",
      "metadata": {
        "id": "HCdDep4sU4yA"
      },
      "source": [
        "\n",
        "test_dataset = (\n",
        "      tf.data.Dataset\n",
        "      .from_tensor_slices(x_test)\n",
        "      .batch(BATCH_SIZE)\n",
        "  )\n"
      ],
      "execution_count": 82,
      "outputs": []
    },
    {
      "cell_type": "code",
      "metadata": {
        "colab": {
          "base_uri": "https://localhost:8080/"
        },
        "id": "HIUiRaAUU4yB",
        "outputId": "d58fe1c0-ba2c-4101-fc43-8335504a953d"
      },
      "source": [
        "compined_test_languages_df['test_set_it'][\"Predicted\"] = model.predict(test_dataset , verbose=1 )"
      ],
      "execution_count": 83,
      "outputs": [
        {
          "output_type": "stream",
          "text": [
            "10/10 [==============================] - 1s 61ms/step\n"
          ],
          "name": "stdout"
        }
      ]
    },
    {
      "cell_type": "code",
      "metadata": {
        "id": "ywlbM90SU4yB"
      },
      "source": [
        "compined_test_languages_df['test_set_it'][\"Predicted\"] = compined_test_languages_df['test_set_it'][\"Predicted\"].round()"
      ],
      "execution_count": 84,
      "outputs": []
    },
    {
      "cell_type": "code",
      "metadata": {
        "colab": {
          "base_uri": "https://localhost:8080/",
          "height": 419
        },
        "id": "Mr86nZWOo_-D",
        "outputId": "fe148386-9cb0-4c6f-9dfd-c49e764db050"
      },
      "source": [
        "compined_test_languages_df['test_set_it']"
      ],
      "execution_count": 85,
      "outputs": [
        {
          "output_type": "execute_result",
          "data": {
            "text/html": [
              "<div>\n",
              "<style scoped>\n",
              "    .dataframe tbody tr th:only-of-type {\n",
              "        vertical-align: middle;\n",
              "    }\n",
              "\n",
              "    .dataframe tbody tr th {\n",
              "        vertical-align: top;\n",
              "    }\n",
              "\n",
              "    .dataframe thead th {\n",
              "        text-align: right;\n",
              "    }\n",
              "</style>\n",
              "<table border=\"1\" class=\"dataframe\">\n",
              "  <thead>\n",
              "    <tr style=\"text-align: right;\">\n",
              "      <th></th>\n",
              "      <th>comment_text</th>\n",
              "      <th>toxic</th>\n",
              "      <th>Predicted</th>\n",
              "    </tr>\n",
              "  </thead>\n",
              "  <tbody>\n",
              "    <tr>\n",
              "      <th>1</th>\n",
              "      <td>Il testo di questa voce pare esser scopiazzato...</td>\n",
              "      <td>0</td>\n",
              "      <td>0.0</td>\n",
              "    </tr>\n",
              "    <tr>\n",
              "      <th>10</th>\n",
              "      <td>Ciao, in sintesi Ti dico questo, trovo sbaglia...</td>\n",
              "      <td>0</td>\n",
              "      <td>0.0</td>\n",
              "    </tr>\n",
              "    <tr>\n",
              "      <th>16</th>\n",
              "      <td>il buon senso non lo usate voi. siete voi i ve...</td>\n",
              "      <td>1</td>\n",
              "      <td>1.0</td>\n",
              "    </tr>\n",
              "    <tr>\n",
              "      <th>17</th>\n",
              "      <td>In riguardo a cio  che ho pubblicato e tu hai ...</td>\n",
              "      <td>1</td>\n",
              "      <td>1.0</td>\n",
              "    </tr>\n",
              "    <tr>\n",
              "      <th>19</th>\n",
              "      <td>Ma che cosa stai dicendo!??? Questa è la versi...</td>\n",
              "      <td>1</td>\n",
              "      <td>1.0</td>\n",
              "    </tr>\n",
              "    <tr>\n",
              "      <th>...</th>\n",
              "      <td>...</td>\n",
              "      <td>...</td>\n",
              "      <td>...</td>\n",
              "    </tr>\n",
              "    <tr>\n",
              "      <th>7985</th>\n",
              "      <td>sbaglio a sei gia  stato caldamente invitato d...</td>\n",
              "      <td>0</td>\n",
              "      <td>0.0</td>\n",
              "    </tr>\n",
              "    <tr>\n",
              "      <th>7986</th>\n",
              "      <td>Scusa se ho pensato ke fossi una femmina.... d...</td>\n",
              "      <td>1</td>\n",
              "      <td>1.0</td>\n",
              "    </tr>\n",
              "    <tr>\n",
              "      <th>7990</th>\n",
              "      <td>Sei il primo che mi dice una cosa simile, e qu...</td>\n",
              "      <td>0</td>\n",
              "      <td>0.0</td>\n",
              "    </tr>\n",
              "    <tr>\n",
              "      <th>7995</th>\n",
              "      <td>Il fatto è che la pagina dei personaggi minor...</td>\n",
              "      <td>0</td>\n",
              "      <td>0.0</td>\n",
              "    </tr>\n",
              "    <tr>\n",
              "      <th>7999</th>\n",
              "      <td>lasciami la tua email per favore. ad ogni modo...</td>\n",
              "      <td>0</td>\n",
              "      <td>0.0</td>\n",
              "    </tr>\n",
              "  </tbody>\n",
              "</table>\n",
              "<p>2500 rows × 3 columns</p>\n",
              "</div>"
            ],
            "text/plain": [
              "                                           comment_text  toxic  Predicted\n",
              "1     Il testo di questa voce pare esser scopiazzato...      0        0.0\n",
              "10    Ciao, in sintesi Ti dico questo, trovo sbaglia...      0        0.0\n",
              "16    il buon senso non lo usate voi. siete voi i ve...      1        1.0\n",
              "17    In riguardo a cio  che ho pubblicato e tu hai ...      1        1.0\n",
              "19    Ma che cosa stai dicendo!??? Questa è la versi...      1        1.0\n",
              "...                                                 ...    ...        ...\n",
              "7985  sbaglio a sei gia  stato caldamente invitato d...      0        0.0\n",
              "7986  Scusa se ho pensato ke fossi una femmina.... d...      1        1.0\n",
              "7990  Sei il primo che mi dice una cosa simile, e qu...      0        0.0\n",
              "7995   Il fatto è che la pagina dei personaggi minor...      0        0.0\n",
              "7999  lasciami la tua email per favore. ad ogni modo...      0        0.0\n",
              "\n",
              "[2500 rows x 3 columns]"
            ]
          },
          "metadata": {
            "tags": []
          },
          "execution_count": 85
        }
      ]
    },
    {
      "cell_type": "code",
      "metadata": {
        "colab": {
          "base_uri": "https://localhost:8080/"
        },
        "id": "JVp8z7HoVG_a",
        "outputId": "26f10c75-84fc-487b-a47e-6996d522c5d1"
      },
      "source": [
        "from sklearn.metrics import accuracy_score\n",
        "y_pred = compined_test_languages_df['test_set_it']['Predicted'].tolist()\n",
        "y_true = compined_test_languages_df['test_set_it']['toxic'].tolist()\n",
        "accuracy_score(y_true, y_pred)"
      ],
      "execution_count": 86,
      "outputs": [
        {
          "output_type": "execute_result",
          "data": {
            "text/plain": [
              "0.9748"
            ]
          },
          "metadata": {
            "tags": []
          },
          "execution_count": 86
        }
      ]
    },
    {
      "cell_type": "code",
      "metadata": {
        "colab": {
          "base_uri": "https://localhost:8080/"
        },
        "id": "BeeEnfws-pyz",
        "outputId": "b420a4e4-8417-42b0-8028-6f8477a06e72"
      },
      "source": [
        "from sklearn.metrics import roc_curve, roc_auc_score\n",
        "italian_combined_auc = roc_auc_score(y_true, y_pred)\n",
        "italian_combined_auc\n",
        "\n"
      ],
      "execution_count": 87,
      "outputs": [
        {
          "output_type": "execute_result",
          "data": {
            "text/plain": [
              "0.9711505556822996"
            ]
          },
          "metadata": {
            "tags": []
          },
          "execution_count": 87
        }
      ]
    },
    {
      "cell_type": "code",
      "metadata": {
        "colab": {
          "base_uri": "https://localhost:8080/"
        },
        "id": "M6aZT84M-r7g",
        "outputId": "b2ecbe4a-ee1b-4d59-d9e5-e1bb4d0f0d6a"
      },
      "source": [
        "from sklearn.metrics import precision_recall_fscore_support\n",
        "precision ,recall, fscore , _  =precision_recall_fscore_support(y_true, y_pred, average='weighted')\n",
        "print('precision:' , precision , '    recall : '  ,recall, '    fscore : ' ,fscore)"
      ],
      "execution_count": 88,
      "outputs": [
        {
          "output_type": "stream",
          "text": [
            "precision: 0.9757326630322929     recall :  0.9748     fscore :  0.9750721177591393\n"
          ],
          "name": "stdout"
        }
      ]
    },
    {
      "cell_type": "markdown",
      "metadata": {
        "id": "nt1QbpNcKncu"
      },
      "source": [
        "## Spanish test Dataset "
      ]
    },
    {
      "cell_type": "code",
      "metadata": {
        "colab": {
          "base_uri": "https://localhost:8080/",
          "height": 419
        },
        "id": "ERaKeyhDpg5V",
        "outputId": "a71982b0-0977-4d92-ed51-a18eaa662dfb"
      },
      "source": [
        "compined_test_languages_df['test_set_es']"
      ],
      "execution_count": 70,
      "outputs": [
        {
          "output_type": "execute_result",
          "data": {
            "text/html": [
              "<div>\n",
              "<style scoped>\n",
              "    .dataframe tbody tr th:only-of-type {\n",
              "        vertical-align: middle;\n",
              "    }\n",
              "\n",
              "    .dataframe tbody tr th {\n",
              "        vertical-align: top;\n",
              "    }\n",
              "\n",
              "    .dataframe thead th {\n",
              "        text-align: right;\n",
              "    }\n",
              "</style>\n",
              "<table border=\"1\" class=\"dataframe\">\n",
              "  <thead>\n",
              "    <tr style=\"text-align: right;\">\n",
              "      <th></th>\n",
              "      <th>comment_text</th>\n",
              "      <th>toxic</th>\n",
              "    </tr>\n",
              "  </thead>\n",
              "  <tbody>\n",
              "    <tr>\n",
              "      <th>0</th>\n",
              "      <td>Este usuario ni siquiera llega al rango de    ...</td>\n",
              "      <td>0</td>\n",
              "    </tr>\n",
              "    <tr>\n",
              "      <th>2</th>\n",
              "      <td>Vale. Sólo expongo mi pasado. Todo tiempo pasa...</td>\n",
              "      <td>1</td>\n",
              "    </tr>\n",
              "    <tr>\n",
              "      <th>6</th>\n",
              "      <td>No es mala idea. De hecho, yo estaba pensando ...</td>\n",
              "      <td>0</td>\n",
              "    </tr>\n",
              "    <tr>\n",
              "      <th>9</th>\n",
              "      <td>Creo que es importante que podamos reconocer a...</td>\n",
              "      <td>0</td>\n",
              "    </tr>\n",
              "    <tr>\n",
              "      <th>12</th>\n",
              "      <td>No sabemos quien es el autor del pie de imagen...</td>\n",
              "      <td>0</td>\n",
              "    </tr>\n",
              "    <tr>\n",
              "      <th>...</th>\n",
              "      <td>...</td>\n",
              "      <td>...</td>\n",
              "    </tr>\n",
              "    <tr>\n",
              "      <th>7989</th>\n",
              "      <td>+1 para el tipo que dice que es vandalismo, ma...</td>\n",
              "      <td>1</td>\n",
              "    </tr>\n",
              "    <tr>\n",
              "      <th>7991</th>\n",
              "      <td>No has demostrado nada. Mientes de forma desca...</td>\n",
              "      <td>0</td>\n",
              "    </tr>\n",
              "    <tr>\n",
              "      <th>7994</th>\n",
              "      <td>Hola Santiago! Te he contestado en tu página d...</td>\n",
              "      <td>0</td>\n",
              "    </tr>\n",
              "    <tr>\n",
              "      <th>7996</th>\n",
              "      <td>El imbesil ete dela luna no se entera ni ostia...</td>\n",
              "      <td>1</td>\n",
              "    </tr>\n",
              "    <tr>\n",
              "      <th>7998</th>\n",
              "      <td>El mapa del reinado de Alhaken esta ligerament...</td>\n",
              "      <td>0</td>\n",
              "    </tr>\n",
              "  </tbody>\n",
              "</table>\n",
              "<p>2500 rows × 2 columns</p>\n",
              "</div>"
            ],
            "text/plain": [
              "                                           comment_text  toxic\n",
              "0     Este usuario ni siquiera llega al rango de    ...      0\n",
              "2     Vale. Sólo expongo mi pasado. Todo tiempo pasa...      1\n",
              "6     No es mala idea. De hecho, yo estaba pensando ...      0\n",
              "9     Creo que es importante que podamos reconocer a...      0\n",
              "12    No sabemos quien es el autor del pie de imagen...      0\n",
              "...                                                 ...    ...\n",
              "7989  +1 para el tipo que dice que es vandalismo, ma...      1\n",
              "7991  No has demostrado nada. Mientes de forma desca...      0\n",
              "7994  Hola Santiago! Te he contestado en tu página d...      0\n",
              "7996  El imbesil ete dela luna no se entera ni ostia...      1\n",
              "7998  El mapa del reinado de Alhaken esta ligerament...      0\n",
              "\n",
              "[2500 rows x 2 columns]"
            ]
          },
          "metadata": {
            "tags": []
          },
          "execution_count": 70
        }
      ]
    },
    {
      "cell_type": "code",
      "metadata": {
        "id": "3qfwQL_qpg5X"
      },
      "source": [
        ""
      ],
      "execution_count": 70,
      "outputs": []
    },
    {
      "cell_type": "code",
      "metadata": {
        "id": "i1qy1Thqpg5X"
      },
      "source": [
        "\n",
        "x_test = encode(compined_test_languages_df['test_set_es'].comment_text.values, tokenizer, MAX_LEN)"
      ],
      "execution_count": 71,
      "outputs": []
    },
    {
      "cell_type": "code",
      "metadata": {
        "id": "GNdUz3anpg5X"
      },
      "source": [
        "\n",
        "test_dataset = (\n",
        "      tf.data.Dataset\n",
        "      .from_tensor_slices(x_test)\n",
        "      .batch(BATCH_SIZE)\n",
        "  )\n"
      ],
      "execution_count": 72,
      "outputs": []
    },
    {
      "cell_type": "code",
      "metadata": {
        "colab": {
          "base_uri": "https://localhost:8080/"
        },
        "id": "ma8n7o48pg5Y",
        "outputId": "1e375711-6d2a-4d9d-84e4-c2a03fcbae6b"
      },
      "source": [
        "compined_test_languages_df['test_set_es'][\"Predicted\"] = model.predict(test_dataset , verbose=1 )"
      ],
      "execution_count": 73,
      "outputs": [
        {
          "output_type": "stream",
          "text": [
            "10/10 [==============================] - 1s 57ms/step\n"
          ],
          "name": "stdout"
        }
      ]
    },
    {
      "cell_type": "code",
      "metadata": {
        "id": "9d0uyLPgpg5Y"
      },
      "source": [
        "compined_test_languages_df['test_set_es'][\"Predicted\"] = compined_test_languages_df['test_set_es'][\"Predicted\"].round()"
      ],
      "execution_count": 74,
      "outputs": []
    },
    {
      "cell_type": "code",
      "metadata": {
        "colab": {
          "base_uri": "https://localhost:8080/",
          "height": 419
        },
        "id": "-Ve0Y0Hzpg5Y",
        "outputId": "4d80627a-3753-4d82-b7cf-741c662cb9dc"
      },
      "source": [
        "compined_test_languages_df['test_set_es']"
      ],
      "execution_count": 75,
      "outputs": [
        {
          "output_type": "execute_result",
          "data": {
            "text/html": [
              "<div>\n",
              "<style scoped>\n",
              "    .dataframe tbody tr th:only-of-type {\n",
              "        vertical-align: middle;\n",
              "    }\n",
              "\n",
              "    .dataframe tbody tr th {\n",
              "        vertical-align: top;\n",
              "    }\n",
              "\n",
              "    .dataframe thead th {\n",
              "        text-align: right;\n",
              "    }\n",
              "</style>\n",
              "<table border=\"1\" class=\"dataframe\">\n",
              "  <thead>\n",
              "    <tr style=\"text-align: right;\">\n",
              "      <th></th>\n",
              "      <th>comment_text</th>\n",
              "      <th>toxic</th>\n",
              "      <th>Predicted</th>\n",
              "    </tr>\n",
              "  </thead>\n",
              "  <tbody>\n",
              "    <tr>\n",
              "      <th>0</th>\n",
              "      <td>Este usuario ni siquiera llega al rango de    ...</td>\n",
              "      <td>0</td>\n",
              "      <td>0.0</td>\n",
              "    </tr>\n",
              "    <tr>\n",
              "      <th>2</th>\n",
              "      <td>Vale. Sólo expongo mi pasado. Todo tiempo pasa...</td>\n",
              "      <td>1</td>\n",
              "      <td>1.0</td>\n",
              "    </tr>\n",
              "    <tr>\n",
              "      <th>6</th>\n",
              "      <td>No es mala idea. De hecho, yo estaba pensando ...</td>\n",
              "      <td>0</td>\n",
              "      <td>0.0</td>\n",
              "    </tr>\n",
              "    <tr>\n",
              "      <th>9</th>\n",
              "      <td>Creo que es importante que podamos reconocer a...</td>\n",
              "      <td>0</td>\n",
              "      <td>0.0</td>\n",
              "    </tr>\n",
              "    <tr>\n",
              "      <th>12</th>\n",
              "      <td>No sabemos quien es el autor del pie de imagen...</td>\n",
              "      <td>0</td>\n",
              "      <td>0.0</td>\n",
              "    </tr>\n",
              "    <tr>\n",
              "      <th>...</th>\n",
              "      <td>...</td>\n",
              "      <td>...</td>\n",
              "      <td>...</td>\n",
              "    </tr>\n",
              "    <tr>\n",
              "      <th>7989</th>\n",
              "      <td>+1 para el tipo que dice que es vandalismo, ma...</td>\n",
              "      <td>1</td>\n",
              "      <td>1.0</td>\n",
              "    </tr>\n",
              "    <tr>\n",
              "      <th>7991</th>\n",
              "      <td>No has demostrado nada. Mientes de forma desca...</td>\n",
              "      <td>0</td>\n",
              "      <td>0.0</td>\n",
              "    </tr>\n",
              "    <tr>\n",
              "      <th>7994</th>\n",
              "      <td>Hola Santiago! Te he contestado en tu página d...</td>\n",
              "      <td>0</td>\n",
              "      <td>0.0</td>\n",
              "    </tr>\n",
              "    <tr>\n",
              "      <th>7996</th>\n",
              "      <td>El imbesil ete dela luna no se entera ni ostia...</td>\n",
              "      <td>1</td>\n",
              "      <td>1.0</td>\n",
              "    </tr>\n",
              "    <tr>\n",
              "      <th>7998</th>\n",
              "      <td>El mapa del reinado de Alhaken esta ligerament...</td>\n",
              "      <td>0</td>\n",
              "      <td>0.0</td>\n",
              "    </tr>\n",
              "  </tbody>\n",
              "</table>\n",
              "<p>2500 rows × 3 columns</p>\n",
              "</div>"
            ],
            "text/plain": [
              "                                           comment_text  toxic  Predicted\n",
              "0     Este usuario ni siquiera llega al rango de    ...      0        0.0\n",
              "2     Vale. Sólo expongo mi pasado. Todo tiempo pasa...      1        1.0\n",
              "6     No es mala idea. De hecho, yo estaba pensando ...      0        0.0\n",
              "9     Creo que es importante que podamos reconocer a...      0        0.0\n",
              "12    No sabemos quien es el autor del pie de imagen...      0        0.0\n",
              "...                                                 ...    ...        ...\n",
              "7989  +1 para el tipo que dice que es vandalismo, ma...      1        1.0\n",
              "7991  No has demostrado nada. Mientes de forma desca...      0        0.0\n",
              "7994  Hola Santiago! Te he contestado en tu página d...      0        0.0\n",
              "7996  El imbesil ete dela luna no se entera ni ostia...      1        1.0\n",
              "7998  El mapa del reinado de Alhaken esta ligerament...      0        0.0\n",
              "\n",
              "[2500 rows x 3 columns]"
            ]
          },
          "metadata": {
            "tags": []
          },
          "execution_count": 75
        }
      ]
    },
    {
      "cell_type": "code",
      "metadata": {
        "colab": {
          "base_uri": "https://localhost:8080/"
        },
        "id": "fYW7hgePpg5Z",
        "outputId": "278a7512-66d3-4a2f-bf98-f29b4cff6315"
      },
      "source": [
        "from sklearn.metrics import accuracy_score\n",
        "y_pred = compined_test_languages_df['test_set_es']['Predicted'].tolist()\n",
        "y_true = compined_test_languages_df['test_set_es']['toxic'].tolist()\n",
        "accuracy_score(y_true, y_pred)"
      ],
      "execution_count": 76,
      "outputs": [
        {
          "output_type": "execute_result",
          "data": {
            "text/plain": [
              "0.974"
            ]
          },
          "metadata": {
            "tags": []
          },
          "execution_count": 76
        }
      ]
    },
    {
      "cell_type": "code",
      "metadata": {
        "id": "7puFIwlEAP_r"
      },
      "source": [
        "from sklearn.metrics import roc_curve, roc_auc_score\n",
        "spanish_combined_auc = roc_auc_score(y_true, y_pred)\n",
        "spanish_combined_auc\n"
      ],
      "execution_count": null,
      "outputs": []
    },
    {
      "cell_type": "code",
      "metadata": {
        "colab": {
          "base_uri": "https://localhost:8080/"
        },
        "id": "YTo9bYP9-7My",
        "outputId": "45541b24-e764-4770-cf97-dc48e9bbba5d"
      },
      "source": [
        "from sklearn.metrics import precision_recall_fscore_support\n",
        "precision ,recall, fscore , _  =precision_recall_fscore_support(y_true, y_pred, average='weighted')\n",
        "print('precision:' , precision , '    recall : '  ,recall, '    fscore : ' ,fscore)"
      ],
      "execution_count": 79,
      "outputs": [
        {
          "output_type": "stream",
          "text": [
            "precision: 0.9749092929973161     recall :  0.974     fscore :  0.9742953196508257\n"
          ],
          "name": "stdout"
        }
      ]
    },
    {
      "cell_type": "markdown",
      "metadata": {
        "id": "MALcN_SdK2Z6"
      },
      "source": [
        "## Turkish test Dataset "
      ]
    },
    {
      "cell_type": "code",
      "metadata": {
        "colab": {
          "base_uri": "https://localhost:8080/",
          "height": 419
        },
        "id": "f_5GelZGpuPV",
        "outputId": "9b6d0ba8-8043-4424-d9dd-c8c0362c7058"
      },
      "source": [
        "compined_test_languages_df['test_set_tr']"
      ],
      "execution_count": null,
      "outputs": [
        {
          "output_type": "execute_result",
          "data": {
            "text/html": [
              "<div>\n",
              "<style scoped>\n",
              "    .dataframe tbody tr th:only-of-type {\n",
              "        vertical-align: middle;\n",
              "    }\n",
              "\n",
              "    .dataframe tbody tr th {\n",
              "        vertical-align: top;\n",
              "    }\n",
              "\n",
              "    .dataframe thead th {\n",
              "        text-align: right;\n",
              "    }\n",
              "</style>\n",
              "<table border=\"1\" class=\"dataframe\">\n",
              "  <thead>\n",
              "    <tr style=\"text-align: right;\">\n",
              "      <th></th>\n",
              "      <th>comment_text</th>\n",
              "      <th>toxic</th>\n",
              "    </tr>\n",
              "  </thead>\n",
              "  <tbody>\n",
              "    <tr>\n",
              "      <th>3</th>\n",
              "      <td>Bu maddenin alt başlığı olarak  uluslararası i...</td>\n",
              "      <td>0</td>\n",
              "    </tr>\n",
              "    <tr>\n",
              "      <th>4</th>\n",
              "      <td>Belçika nın şehirlerinin yanında ilçe ve belde...</td>\n",
              "      <td>0</td>\n",
              "    </tr>\n",
              "    <tr>\n",
              "      <th>5</th>\n",
              "      <td>güzel, zaten kaynaklandırması zor subjektif ka...</td>\n",
              "      <td>0</td>\n",
              "    </tr>\n",
              "    <tr>\n",
              "      <th>7</th>\n",
              "      <td>Kod hatalarını düzeltmişsiniz,elinize sağlık ç...</td>\n",
              "      <td>0</td>\n",
              "    </tr>\n",
              "    <tr>\n",
              "      <th>8</th>\n",
              "      <td>Levent Abi nasılsın? Hayat nasıl gidiyor? Umar...</td>\n",
              "      <td>0</td>\n",
              "    </tr>\n",
              "    <tr>\n",
              "      <th>...</th>\n",
              "      <td>...</td>\n",
              "      <td>...</td>\n",
              "    </tr>\n",
              "    <tr>\n",
              "      <th>7987</th>\n",
              "      <td>Merhaba, Dediğiniz durum sıkça yaşanıyor. Ben ...</td>\n",
              "      <td>0</td>\n",
              "    </tr>\n",
              "    <tr>\n",
              "      <th>7988</th>\n",
              "      <td>Aynen. kübada hiç bir dönem sosyalist inşa ger...</td>\n",
              "      <td>0</td>\n",
              "    </tr>\n",
              "    <tr>\n",
              "      <th>7992</th>\n",
              "      <td>Hcagri isimli kullanıcı öğrenme süreci hakkınd...</td>\n",
              "      <td>0</td>\n",
              "    </tr>\n",
              "    <tr>\n",
              "      <th>7993</th>\n",
              "      <td>Öyle sanıyorum ki bahsettiğiniz Şəmsi Bədəlbəy...</td>\n",
              "      <td>0</td>\n",
              "    </tr>\n",
              "    <tr>\n",
              "      <th>7997</th>\n",
              "      <td>olum sız manyakmısınz siz adam sıze sanal yıld...</td>\n",
              "      <td>1</td>\n",
              "    </tr>\n",
              "  </tbody>\n",
              "</table>\n",
              "<p>3000 rows × 2 columns</p>\n",
              "</div>"
            ],
            "text/plain": [
              "                                           comment_text  toxic\n",
              "3     Bu maddenin alt başlığı olarak  uluslararası i...      0\n",
              "4     Belçika nın şehirlerinin yanında ilçe ve belde...      0\n",
              "5     güzel, zaten kaynaklandırması zor subjektif ka...      0\n",
              "7     Kod hatalarını düzeltmişsiniz,elinize sağlık ç...      0\n",
              "8     Levent Abi nasılsın? Hayat nasıl gidiyor? Umar...      0\n",
              "...                                                 ...    ...\n",
              "7987  Merhaba, Dediğiniz durum sıkça yaşanıyor. Ben ...      0\n",
              "7988  Aynen. kübada hiç bir dönem sosyalist inşa ger...      0\n",
              "7992  Hcagri isimli kullanıcı öğrenme süreci hakkınd...      0\n",
              "7993  Öyle sanıyorum ki bahsettiğiniz Şəmsi Bədəlbəy...      0\n",
              "7997  olum sız manyakmısınz siz adam sıze sanal yıld...      1\n",
              "\n",
              "[3000 rows x 2 columns]"
            ]
          },
          "metadata": {
            "tags": []
          },
          "execution_count": 73
        }
      ]
    },
    {
      "cell_type": "code",
      "metadata": {
        "id": "Oyr_V2p5puPX"
      },
      "source": [
        "\n",
        "x_test = encode(compined_test_languages_df['test_set_tr'].comment_text.values, tokenizer, MAX_LEN)"
      ],
      "execution_count": null,
      "outputs": []
    },
    {
      "cell_type": "code",
      "metadata": {
        "id": "n19nscvlpuPX"
      },
      "source": [
        "\n",
        "test_dataset = (\n",
        "      tf.data.Dataset\n",
        "      .from_tensor_slices(x_test)\n",
        "      .batch(BATCH_SIZE)\n",
        "  )\n"
      ],
      "execution_count": null,
      "outputs": []
    },
    {
      "cell_type": "code",
      "metadata": {
        "colab": {
          "base_uri": "https://localhost:8080/"
        },
        "id": "KrXsnolCpuPY",
        "outputId": "f0beec8c-0897-4483-94c8-996f63035d7b"
      },
      "source": [
        "compined_test_languages_df['test_set_tr'][\"Predicted\"] = model.predict(test_dataset , verbose=1 )"
      ],
      "execution_count": null,
      "outputs": [
        {
          "output_type": "stream",
          "text": [
            "12/12 [==============================] - 7s 565ms/step\n"
          ],
          "name": "stdout"
        }
      ]
    },
    {
      "cell_type": "code",
      "metadata": {
        "id": "kcsSb3-SpuPY"
      },
      "source": [
        "compined_test_languages_df['test_set_tr'][\"Predicted\"] = compined_test_languages_df['test_set_tr'][\"Predicted\"].round()"
      ],
      "execution_count": null,
      "outputs": []
    },
    {
      "cell_type": "code",
      "metadata": {
        "colab": {
          "base_uri": "https://localhost:8080/",
          "height": 419
        },
        "id": "q7hs82DBpuPY",
        "outputId": "7e0e3eda-f7b6-4dcf-970a-a4169d3423e4"
      },
      "source": [
        "compined_test_languages_df['test_set_tr']"
      ],
      "execution_count": null,
      "outputs": [
        {
          "output_type": "execute_result",
          "data": {
            "text/html": [
              "<div>\n",
              "<style scoped>\n",
              "    .dataframe tbody tr th:only-of-type {\n",
              "        vertical-align: middle;\n",
              "    }\n",
              "\n",
              "    .dataframe tbody tr th {\n",
              "        vertical-align: top;\n",
              "    }\n",
              "\n",
              "    .dataframe thead th {\n",
              "        text-align: right;\n",
              "    }\n",
              "</style>\n",
              "<table border=\"1\" class=\"dataframe\">\n",
              "  <thead>\n",
              "    <tr style=\"text-align: right;\">\n",
              "      <th></th>\n",
              "      <th>comment_text</th>\n",
              "      <th>toxic</th>\n",
              "      <th>Predicted</th>\n",
              "    </tr>\n",
              "  </thead>\n",
              "  <tbody>\n",
              "    <tr>\n",
              "      <th>3</th>\n",
              "      <td>Bu maddenin alt başlığı olarak  uluslararası i...</td>\n",
              "      <td>0</td>\n",
              "      <td>0.0</td>\n",
              "    </tr>\n",
              "    <tr>\n",
              "      <th>4</th>\n",
              "      <td>Belçika nın şehirlerinin yanında ilçe ve belde...</td>\n",
              "      <td>0</td>\n",
              "      <td>0.0</td>\n",
              "    </tr>\n",
              "    <tr>\n",
              "      <th>5</th>\n",
              "      <td>güzel, zaten kaynaklandırması zor subjektif ka...</td>\n",
              "      <td>0</td>\n",
              "      <td>0.0</td>\n",
              "    </tr>\n",
              "    <tr>\n",
              "      <th>7</th>\n",
              "      <td>Kod hatalarını düzeltmişsiniz,elinize sağlık ç...</td>\n",
              "      <td>0</td>\n",
              "      <td>0.0</td>\n",
              "    </tr>\n",
              "    <tr>\n",
              "      <th>8</th>\n",
              "      <td>Levent Abi nasılsın? Hayat nasıl gidiyor? Umar...</td>\n",
              "      <td>0</td>\n",
              "      <td>0.0</td>\n",
              "    </tr>\n",
              "    <tr>\n",
              "      <th>...</th>\n",
              "      <td>...</td>\n",
              "      <td>...</td>\n",
              "      <td>...</td>\n",
              "    </tr>\n",
              "    <tr>\n",
              "      <th>7987</th>\n",
              "      <td>Merhaba, Dediğiniz durum sıkça yaşanıyor. Ben ...</td>\n",
              "      <td>0</td>\n",
              "      <td>0.0</td>\n",
              "    </tr>\n",
              "    <tr>\n",
              "      <th>7988</th>\n",
              "      <td>Aynen. kübada hiç bir dönem sosyalist inşa ger...</td>\n",
              "      <td>0</td>\n",
              "      <td>0.0</td>\n",
              "    </tr>\n",
              "    <tr>\n",
              "      <th>7992</th>\n",
              "      <td>Hcagri isimli kullanıcı öğrenme süreci hakkınd...</td>\n",
              "      <td>0</td>\n",
              "      <td>0.0</td>\n",
              "    </tr>\n",
              "    <tr>\n",
              "      <th>7993</th>\n",
              "      <td>Öyle sanıyorum ki bahsettiğiniz Şəmsi Bədəlbəy...</td>\n",
              "      <td>0</td>\n",
              "      <td>0.0</td>\n",
              "    </tr>\n",
              "    <tr>\n",
              "      <th>7997</th>\n",
              "      <td>olum sız manyakmısınz siz adam sıze sanal yıld...</td>\n",
              "      <td>1</td>\n",
              "      <td>1.0</td>\n",
              "    </tr>\n",
              "  </tbody>\n",
              "</table>\n",
              "<p>3000 rows × 3 columns</p>\n",
              "</div>"
            ],
            "text/plain": [
              "                                           comment_text  toxic  Predicted\n",
              "3     Bu maddenin alt başlığı olarak  uluslararası i...      0        0.0\n",
              "4     Belçika nın şehirlerinin yanında ilçe ve belde...      0        0.0\n",
              "5     güzel, zaten kaynaklandırması zor subjektif ka...      0        0.0\n",
              "7     Kod hatalarını düzeltmişsiniz,elinize sağlık ç...      0        0.0\n",
              "8     Levent Abi nasılsın? Hayat nasıl gidiyor? Umar...      0        0.0\n",
              "...                                                 ...    ...        ...\n",
              "7987  Merhaba, Dediğiniz durum sıkça yaşanıyor. Ben ...      0        0.0\n",
              "7988  Aynen. kübada hiç bir dönem sosyalist inşa ger...      0        0.0\n",
              "7992  Hcagri isimli kullanıcı öğrenme süreci hakkınd...      0        0.0\n",
              "7993  Öyle sanıyorum ki bahsettiğiniz Şəmsi Bədəlbəy...      0        0.0\n",
              "7997  olum sız manyakmısınz siz adam sıze sanal yıld...      1        1.0\n",
              "\n",
              "[3000 rows x 3 columns]"
            ]
          },
          "metadata": {
            "tags": []
          },
          "execution_count": 81
        }
      ]
    },
    {
      "cell_type": "code",
      "metadata": {
        "colab": {
          "base_uri": "https://localhost:8080/"
        },
        "id": "EE1Gyp8bpuPY",
        "outputId": "f6f03fca-4173-47c8-93dc-d96068ac47fd"
      },
      "source": [
        "from sklearn.metrics import accuracy_score\n",
        "y_pred = compined_test_languages_df['test_set_tr']['Predicted'].tolist()\n",
        "y_true = compined_test_languages_df['test_set_tr']['toxic'].tolist()\n",
        "accuracy_score(y_true, y_pred)"
      ],
      "execution_count": null,
      "outputs": [
        {
          "output_type": "execute_result",
          "data": {
            "text/plain": [
              "0.9903333333333333"
            ]
          },
          "metadata": {
            "tags": []
          },
          "execution_count": 82
        }
      ]
    },
    {
      "cell_type": "code",
      "metadata": {
        "id": "0tVEt3G2qVYI"
      },
      "source": [
        "from sklearn.metrics import roc_curve, roc_auc_score\n",
        "tr_combined_auc = roc_auc_score(y_true, y_pred)\n",
        "tr_combined_auc\n"
      ],
      "execution_count": null,
      "outputs": []
    },
    {
      "cell_type": "code",
      "metadata": {
        "id": "hmmc-B4HAZWF"
      },
      "source": [
        "\n",
        "from sklearn.metrics import precision_recall_fscore_support\n",
        "precision ,recall, fscore , _  =precision_recall_fscore_support(y_true, y_pred, average='weighted')\n",
        "print('precision:' , precision , '    recall : '  ,recall, '    fscore : ' ,fscore)"
      ],
      "execution_count": null,
      "outputs": []
    },
    {
      "cell_type": "markdown",
      "metadata": {
        "id": "Lb_f7BMiBm6n"
      },
      "source": [
        "## Frensh Tweets Dataset"
      ]
    },
    {
      "cell_type": "code",
      "metadata": {
        "colab": {
          "base_uri": "https://localhost:8080/",
          "height": 204
        },
        "id": "ncOhwPn1BsR9",
        "outputId": "fd23cee0-2a65-4f19-f6ba-82243e5d27ce"
      },
      "source": [
        "test_set = pd.read_csv('/content/french_tweets-003.csv')\n",
        "test_set.head(5)\n"
      ],
      "execution_count": 120,
      "outputs": [
        {
          "output_type": "execute_result",
          "data": {
            "text/html": [
              "<div>\n",
              "<style scoped>\n",
              "    .dataframe tbody tr th:only-of-type {\n",
              "        vertical-align: middle;\n",
              "    }\n",
              "\n",
              "    .dataframe tbody tr th {\n",
              "        vertical-align: top;\n",
              "    }\n",
              "\n",
              "    .dataframe thead th {\n",
              "        text-align: right;\n",
              "    }\n",
              "</style>\n",
              "<table border=\"1\" class=\"dataframe\">\n",
              "  <thead>\n",
              "    <tr style=\"text-align: right;\">\n",
              "      <th></th>\n",
              "      <th>label</th>\n",
              "      <th>text</th>\n",
              "    </tr>\n",
              "  </thead>\n",
              "  <tbody>\n",
              "    <tr>\n",
              "      <th>0</th>\n",
              "      <td>0</td>\n",
              "      <td>Les prières vont à la famille de nick kolokith...</td>\n",
              "    </tr>\n",
              "    <tr>\n",
              "      <th>1</th>\n",
              "      <td>0</td>\n",
              "      <td>Je ne l'ai pas vue</td>\n",
              "    </tr>\n",
              "    <tr>\n",
              "      <th>2</th>\n",
              "      <td>0</td>\n",
              "      <td>Je voudrais penser que je suis une fille à têt...</td>\n",
              "    </tr>\n",
              "    <tr>\n",
              "      <th>3</th>\n",
              "      <td>0</td>\n",
              "      <td>Eh juste invité à un voyage gratuit à montreal...</td>\n",
              "    </tr>\n",
              "    <tr>\n",
              "      <th>4</th>\n",
              "      <td>0</td>\n",
              "      <td>Sur le chemin de l'accueil de Audrey. Elle ne ...</td>\n",
              "    </tr>\n",
              "  </tbody>\n",
              "</table>\n",
              "</div>"
            ],
            "text/plain": [
              "   label                                               text\n",
              "0      0  Les prières vont à la famille de nick kolokith...\n",
              "1      0                                 Je ne l'ai pas vue\n",
              "2      0  Je voudrais penser que je suis une fille à têt...\n",
              "3      0  Eh juste invité à un voyage gratuit à montreal...\n",
              "4      0  Sur le chemin de l'accueil de Audrey. Elle ne ..."
            ]
          },
          "metadata": {
            "tags": []
          },
          "execution_count": 120
        }
      ]
    },
    {
      "cell_type": "markdown",
      "metadata": {
        "id": "9-cyBhQ_Dj6f"
      },
      "source": [
        "##Data Analysis\n"
      ]
    },
    {
      "cell_type": "code",
      "metadata": {
        "colab": {
          "base_uri": "https://localhost:8080/",
          "height": 282
        },
        "id": "MhKll17WDnmW",
        "outputId": "8bdb9956-81bc-4043-925e-d3e344345ccb"
      },
      "source": [
        "test_set['label'].value_counts().plot(kind = 'barh')"
      ],
      "execution_count": 124,
      "outputs": [
        {
          "output_type": "execute_result",
          "data": {
            "text/plain": [
              "<matplotlib.axes._subplots.AxesSubplot at 0x7f45e12f6438>"
            ]
          },
          "metadata": {
            "tags": []
          },
          "execution_count": 124
        },
        {
          "output_type": "display_data",
          "data": {
            "image/png": "[encoded data removed]",
            "text/plain": [
              "<Figure size 432x288 with 1 Axes>"
            ]
          },
          "metadata": {
            "tags": [],
            "needs_background": "light"
          }
        }
      ]
    },
    {
      "cell_type": "code",
      "metadata": {
        "colab": {
          "base_uri": "https://localhost:8080/",
          "height": 265
        },
        "id": "hP5oD4iMDnQy",
        "outputId": "d191b4f5-4206-497a-e527-f3bd00b091f8"
      },
      "source": [
        "test_set['label'].value_counts().plot(kind = 'pie')\n"
      ],
      "execution_count": 125,
      "outputs": [
        {
          "output_type": "execute_result",
          "data": {
            "text/plain": [
              "<matplotlib.axes._subplots.AxesSubplot at 0x7f45e4dc7c18>"
            ]
          },
          "metadata": {
            "tags": []
          },
          "execution_count": 125
        },
        {
          "output_type": "display_data",
          "data": {
            "image/png": "[encoded data removed]",
            "text/plain": [
              "<Figure size 432x288 with 1 Axes>"
            ]
          },
          "metadata": {
            "tags": []
          }
        }
      ]
    },
    {
      "cell_type": "markdown",
      "metadata": {
        "id": "CoUr1yYyEA0e"
      },
      "source": [
        "## Testing Dataset\n"
      ]
    },
    {
      "cell_type": "code",
      "metadata": {
        "id": "HfsJSeoXEANK"
      },
      "source": [
        "\n",
        "x_test = encode(test_set.text.values, tokenizer, MAX_LEN)\n",
        "\n"
      ],
      "execution_count": 133,
      "outputs": []
    },
    {
      "cell_type": "code",
      "metadata": {
        "id": "mPb-FP56EIrz"
      },
      "source": [
        "test_dataset = (\n",
        "      tf.data.Dataset\n",
        "      .from_tensor_slices(x_test)\n",
        "      .batch(BATCH_SIZE)\n",
        "  )"
      ],
      "execution_count": 134,
      "outputs": []
    },
    {
      "cell_type": "code",
      "metadata": {
        "colab": {
          "base_uri": "https://localhost:8080/"
        },
        "id": "9vQs5pJ3EKW6",
        "outputId": "3e045dee-9596-4865-fc63-0fd320f84bb6"
      },
      "source": [
        " pr = model.predict(test_dataset , verbose=1 )\n",
        " "
      ],
      "execution_count": 135,
      "outputs": [
        {
          "output_type": "stream",
          "text": [
            "782/782 [==============================] - 45s 56ms/step\n"
          ],
          "name": "stdout"
        }
      ]
    },
    {
      "cell_type": "code",
      "metadata": {
        "id": "HQ6f2ApREJ_9"
      },
      "source": [
        "test_set[\"Prediction\"] =pr"
      ],
      "execution_count": 136,
      "outputs": []
    },
    {
      "cell_type": "code",
      "metadata": {
        "id": "X_xv2JagE_rT"
      },
      "source": [
        "test_set[\"Prediction\"] = test_set[\"Prediction\"].round()"
      ],
      "execution_count": 138,
      "outputs": []
    },
    {
      "cell_type": "code",
      "metadata": {
        "colab": {
          "base_uri": "https://localhost:8080/",
          "height": 419
        },
        "id": "IP5EsnuSEZJl",
        "outputId": "2af60ba9-712c-43b7-f61a-46b7f271bfdb"
      },
      "source": [
        "test_set"
      ],
      "execution_count": 137,
      "outputs": [
        {
          "output_type": "execute_result",
          "data": {
            "text/html": [
              "<div>\n",
              "<style scoped>\n",
              "    .dataframe tbody tr th:only-of-type {\n",
              "        vertical-align: middle;\n",
              "    }\n",
              "\n",
              "    .dataframe tbody tr th {\n",
              "        vertical-align: top;\n",
              "    }\n",
              "\n",
              "    .dataframe thead th {\n",
              "        text-align: right;\n",
              "    }\n",
              "</style>\n",
              "<table border=\"1\" class=\"dataframe\">\n",
              "  <thead>\n",
              "    <tr style=\"text-align: right;\">\n",
              "      <th></th>\n",
              "      <th>label</th>\n",
              "      <th>text</th>\n",
              "      <th>Prediction</th>\n",
              "    </tr>\n",
              "  </thead>\n",
              "  <tbody>\n",
              "    <tr>\n",
              "      <th>0</th>\n",
              "      <td>0</td>\n",
              "      <td>Les prières vont à la famille de nick kolokith...</td>\n",
              "      <td>0.009535</td>\n",
              "    </tr>\n",
              "    <tr>\n",
              "      <th>1</th>\n",
              "      <td>0</td>\n",
              "      <td>Je ne l'ai pas vue</td>\n",
              "      <td>0.001911</td>\n",
              "    </tr>\n",
              "    <tr>\n",
              "      <th>2</th>\n",
              "      <td>0</td>\n",
              "      <td>Je voudrais penser que je suis une fille à têt...</td>\n",
              "      <td>0.000394</td>\n",
              "    </tr>\n",
              "    <tr>\n",
              "      <th>3</th>\n",
              "      <td>0</td>\n",
              "      <td>Eh juste invité à un voyage gratuit à montreal...</td>\n",
              "      <td>0.000020</td>\n",
              "    </tr>\n",
              "    <tr>\n",
              "      <th>4</th>\n",
              "      <td>0</td>\n",
              "      <td>Sur le chemin de l'accueil de Audrey. Elle ne ...</td>\n",
              "      <td>0.002753</td>\n",
              "    </tr>\n",
              "    <tr>\n",
              "      <th>...</th>\n",
              "      <td>...</td>\n",
              "      <td>...</td>\n",
              "      <td>...</td>\n",
              "    </tr>\n",
              "    <tr>\n",
              "      <th>199982</th>\n",
              "      <td>1</td>\n",
              "      <td>Est toujours une compagnie de musique pr ... m...</td>\n",
              "      <td>0.000007</td>\n",
              "    </tr>\n",
              "    <tr>\n",
              "      <th>199983</th>\n",
              "      <td>1</td>\n",
              "      <td>Mcfly arrive au diner !! (: S'il vous plaît!!</td>\n",
              "      <td>0.308232</td>\n",
              "    </tr>\n",
              "    <tr>\n",
              "      <th>199984</th>\n",
              "      <td>1</td>\n",
              "      <td>thanks man, prend un mojito a ma sant</td>\n",
              "      <td>0.451267</td>\n",
              "    </tr>\n",
              "    <tr>\n",
              "      <th>199985</th>\n",
              "      <td>1</td>\n",
              "      <td>Vous devez</td>\n",
              "      <td>0.026844</td>\n",
              "    </tr>\n",
              "    <tr>\n",
              "      <th>199986</th>\n",
              "      <td>1</td>\n",
              "      <td>Petit-déjeuner au lit tout en faisant des dess...</td>\n",
              "      <td>0.008508</td>\n",
              "    </tr>\n",
              "  </tbody>\n",
              "</table>\n",
              "<p>199987 rows × 3 columns</p>\n",
              "</div>"
            ],
            "text/plain": [
              "        label                                               text  Prediction\n",
              "0           0  Les prières vont à la famille de nick kolokith...    0.009535\n",
              "1           0                                 Je ne l'ai pas vue    0.001911\n",
              "2           0  Je voudrais penser que je suis une fille à têt...    0.000394\n",
              "3           0  Eh juste invité à un voyage gratuit à montreal...    0.000020\n",
              "4           0  Sur le chemin de l'accueil de Audrey. Elle ne ...    0.002753\n",
              "...       ...                                                ...         ...\n",
              "199982      1  Est toujours une compagnie de musique pr ... m...    0.000007\n",
              "199983      1      Mcfly arrive au diner !! (: S'il vous plaît!!    0.308232\n",
              "199984      1             thanks man, prend un mojito a ma sant     0.451267\n",
              "199985      1                                         Vous devez    0.026844\n",
              "199986      1  Petit-déjeuner au lit tout en faisant des dess...    0.008508\n",
              "\n",
              "[199987 rows x 3 columns]"
            ]
          },
          "metadata": {
            "tags": []
          },
          "execution_count": 137
        }
      ]
    },
    {
      "cell_type": "markdown",
      "metadata": {
        "id": "OjvmGcayFClO"
      },
      "source": [
        "## Model Evaluation"
      ]
    },
    {
      "cell_type": "code",
      "metadata": {
        "colab": {
          "base_uri": "https://localhost:8080/"
        },
        "id": "okArceLwFSmr",
        "outputId": "750a7043-01a3-4c57-d2ee-b5316899c5cd"
      },
      "source": [
        "from sklearn.metrics import accuracy_score\n",
        "y_pred = test_set[\"Prediction\"].tolist()\n",
        "y_true = test_set[\"label\"].tolist()\n",
        "accuracy_score(y_true, y_pred)"
      ],
      "execution_count": 139,
      "outputs": [
        {
          "output_type": "execute_result",
          "data": {
            "text/plain": [
              "0.7004455289593824"
            ]
          },
          "metadata": {
            "tags": []
          },
          "execution_count": 139
        }
      ]
    },
    {
      "cell_type": "code",
      "metadata": {
        "colab": {
          "base_uri": "https://localhost:8080/"
        },
        "id": "ixs-4JSaFSms",
        "outputId": "9a705930-c51f-472e-c850-1282806e9bcc"
      },
      "source": [
        "from sklearn.metrics import roc_curve, roc_auc_score\n",
        "test_combined_auc = roc_auc_score(y_true, y_pred)\n",
        "test_combined_auc"
      ],
      "execution_count": 140,
      "outputs": [
        {
          "output_type": "execute_result",
          "data": {
            "text/plain": [
              "0.4691237092652327"
            ]
          },
          "metadata": {
            "tags": []
          },
          "execution_count": 140
        }
      ]
    },
    {
      "cell_type": "code",
      "metadata": {
        "colab": {
          "base_uri": "https://localhost:8080/"
        },
        "id": "X_FRFMdvFSms",
        "outputId": "3b5911fa-f0a0-4f19-cc77-f5ece9fcfde1"
      },
      "source": [
        "from sklearn.metrics import precision_recall_fscore_support\n",
        "precision ,recall, fscore , _  =precision_recall_fscore_support(y_true, y_pred, average='weighted')\n",
        "print('precision:' , precision , '    recall : '  ,recall, '    fscore : ' ,fscore)"
      ],
      "execution_count": 141,
      "outputs": [
        {
          "output_type": "stream",
          "text": [
            "precision: 0.7431198309270877     recall :  0.7004455289593824     fscore :  0.7204411921395187\n"
          ],
          "name": "stdout"
        }
      ]
    },
    {
      "cell_type": "markdown",
      "metadata": {
        "id": "9lrlPDmdFg8e"
      },
      "source": [
        "## German Dataset"
      ]
    },
    {
      "cell_type": "code",
      "metadata": {
        "colab": {
          "base_uri": "https://localhost:8080/",
          "height": 204
        },
        "id": "ThkE1En1Fjhl",
        "outputId": "7d22e181-7f8a-4e9f-9de5-104ed1474384"
      },
      "source": [
        "test_set = pd.read_excel('/content/germeval-hate speech.xlsx')\n",
        "test_set.head(5)\n"
      ],
      "execution_count": 142,
      "outputs": [
        {
          "output_type": "execute_result",
          "data": {
            "text/html": [
              "<div>\n",
              "<style scoped>\n",
              "    .dataframe tbody tr th:only-of-type {\n",
              "        vertical-align: middle;\n",
              "    }\n",
              "\n",
              "    .dataframe tbody tr th {\n",
              "        vertical-align: top;\n",
              "    }\n",
              "\n",
              "    .dataframe thead th {\n",
              "        text-align: right;\n",
              "    }\n",
              "</style>\n",
              "<table border=\"1\" class=\"dataframe\">\n",
              "  <thead>\n",
              "    <tr style=\"text-align: right;\">\n",
              "      <th></th>\n",
              "      <th>tweet</th>\n",
              "      <th>label</th>\n",
              "    </tr>\n",
              "  </thead>\n",
              "  <tbody>\n",
              "    <tr>\n",
              "      <th>0</th>\n",
              "      <td>@Martin28a Sie haben ja auch Recht. Unser Twee...</td>\n",
              "      <td>0</td>\n",
              "    </tr>\n",
              "    <tr>\n",
              "      <th>1</th>\n",
              "      <td>@ahrens_theo frج¦hlicher gruجظ aus der schج¦ns...</td>\n",
              "      <td>0</td>\n",
              "    </tr>\n",
              "    <tr>\n",
              "      <th>2</th>\n",
              "      <td>@dushanwegner Amis hج_tten alles und jeden gew...</td>\n",
              "      <td>0</td>\n",
              "    </tr>\n",
              "    <tr>\n",
              "      <th>3</th>\n",
              "      <td>@spdde kein verlج_جظlicher Verhandlungspartner...</td>\n",
              "      <td>1</td>\n",
              "    </tr>\n",
              "    <tr>\n",
              "      <th>4</th>\n",
              "      <td>@Dirki_M Ja, aber wo widersprechen die Zahlen ...</td>\n",
              "      <td>0</td>\n",
              "    </tr>\n",
              "  </tbody>\n",
              "</table>\n",
              "</div>"
            ],
            "text/plain": [
              "                                               tweet  label\n",
              "0  @Martin28a Sie haben ja auch Recht. Unser Twee...      0\n",
              "1  @ahrens_theo frج¦hlicher gruجظ aus der schج¦ns...      0\n",
              "2  @dushanwegner Amis hج_tten alles und jeden gew...      0\n",
              "3  @spdde kein verlج_جظlicher Verhandlungspartner...      1\n",
              "4  @Dirki_M Ja, aber wo widersprechen die Zahlen ...      0"
            ]
          },
          "metadata": {
            "tags": []
          },
          "execution_count": 142
        }
      ]
    },
    {
      "cell_type": "markdown",
      "metadata": {
        "id": "OFg3kNuFFu2l"
      },
      "source": [
        "## Data Analysis"
      ]
    },
    {
      "cell_type": "code",
      "metadata": {
        "colab": {
          "base_uri": "https://localhost:8080/",
          "height": 282
        },
        "id": "TmnWMKeQFrtA",
        "outputId": "12af207a-129e-4760-bf62-cf893a57599b"
      },
      "source": [
        "test_set['label'].value_counts().plot(kind = 'barh')\n"
      ],
      "execution_count": 143,
      "outputs": [
        {
          "output_type": "execute_result",
          "data": {
            "text/plain": [
              "<matplotlib.axes._subplots.AxesSubplot at 0x7f45e4b587f0>"
            ]
          },
          "metadata": {
            "tags": []
          },
          "execution_count": 143
        },
        {
          "output_type": "display_data",
          "data": {
            "image/png": "[encoded data removed]",
            "text/plain": [
              "<Figure size 432x288 with 1 Axes>"
            ]
          },
          "metadata": {
            "tags": [],
            "needs_background": "light"
          }
        }
      ]
    },
    {
      "cell_type": "code",
      "metadata": {
        "colab": {
          "base_uri": "https://localhost:8080/",
          "height": 265
        },
        "id": "cb8xMJW7FrdY",
        "outputId": "bb9dc4fc-f53b-48a4-d6aa-ef78c64a69cb"
      },
      "source": [
        "test_set['label'].value_counts().plot(kind = 'pie')\n"
      ],
      "execution_count": 144,
      "outputs": [
        {
          "output_type": "execute_result",
          "data": {
            "text/plain": [
              "<matplotlib.axes._subplots.AxesSubplot at 0x7f45e4d8c7b8>"
            ]
          },
          "metadata": {
            "tags": []
          },
          "execution_count": 144
        },
        {
          "output_type": "display_data",
          "data": {
            "image/png": "[encoded data removed]",
            "text/plain": [
              "<Figure size 432x288 with 1 Axes>"
            ]
          },
          "metadata": {
            "tags": []
          }
        }
      ]
    },
    {
      "cell_type": "markdown",
      "metadata": {
        "id": "mq2lJlJaF7en"
      },
      "source": [
        "## Testing Dataset"
      ]
    },
    {
      "cell_type": "code",
      "metadata": {
        "id": "r5zzmMbaFq1F"
      },
      "source": [
        ""
      ],
      "execution_count": null,
      "outputs": []
    },
    {
      "cell_type": "code",
      "metadata": {
        "id": "I2g7wGo4GFx8"
      },
      "source": [
        "\n",
        "x_test = encode(test_set.tweet.values, tokenizer, MAX_LEN)\n",
        "\n"
      ],
      "execution_count": 145,
      "outputs": []
    },
    {
      "cell_type": "code",
      "metadata": {
        "id": "FNhGQzLeGFx9"
      },
      "source": [
        "test_dataset = (\n",
        "      tf.data.Dataset\n",
        "      .from_tensor_slices(x_test)\n",
        "      .batch(BATCH_SIZE)\n",
        "  )"
      ],
      "execution_count": 146,
      "outputs": []
    },
    {
      "cell_type": "code",
      "metadata": {
        "colab": {
          "base_uri": "https://localhost:8080/"
        },
        "id": "aIRszgwDGFx-",
        "outputId": "1d693e7b-42ea-4c15-b026-24f7cf304139"
      },
      "source": [
        " pr = model.predict(test_dataset , verbose=1 )\n",
        " "
      ],
      "execution_count": 147,
      "outputs": [
        {
          "output_type": "stream",
          "text": [
            "20/20 [==============================] - 5s 214ms/step\n"
          ],
          "name": "stdout"
        }
      ]
    },
    {
      "cell_type": "code",
      "metadata": {
        "id": "Vqw5CMeJGFx-"
      },
      "source": [
        "test_set[\"Prediction\"] =pr"
      ],
      "execution_count": 148,
      "outputs": []
    },
    {
      "cell_type": "code",
      "metadata": {
        "id": "4C3fgFjHGFx-"
      },
      "source": [
        "test_set[\"Prediction\"] = test_set[\"Prediction\"].round()"
      ],
      "execution_count": 149,
      "outputs": []
    },
    {
      "cell_type": "code",
      "metadata": {
        "colab": {
          "base_uri": "https://localhost:8080/",
          "height": 419
        },
        "id": "k9_Nl9HqGFx_",
        "outputId": "49033c53-bc5c-4cb9-cd1a-d8e224a514dc"
      },
      "source": [
        "test_set"
      ],
      "execution_count": 150,
      "outputs": [
        {
          "output_type": "execute_result",
          "data": {
            "text/html": [
              "<div>\n",
              "<style scoped>\n",
              "    .dataframe tbody tr th:only-of-type {\n",
              "        vertical-align: middle;\n",
              "    }\n",
              "\n",
              "    .dataframe tbody tr th {\n",
              "        vertical-align: top;\n",
              "    }\n",
              "\n",
              "    .dataframe thead th {\n",
              "        text-align: right;\n",
              "    }\n",
              "</style>\n",
              "<table border=\"1\" class=\"dataframe\">\n",
              "  <thead>\n",
              "    <tr style=\"text-align: right;\">\n",
              "      <th></th>\n",
              "      <th>tweet</th>\n",
              "      <th>label</th>\n",
              "      <th>Prediction</th>\n",
              "    </tr>\n",
              "  </thead>\n",
              "  <tbody>\n",
              "    <tr>\n",
              "      <th>0</th>\n",
              "      <td>@Martin28a Sie haben ja auch Recht. Unser Twee...</td>\n",
              "      <td>0</td>\n",
              "      <td>0.0</td>\n",
              "    </tr>\n",
              "    <tr>\n",
              "      <th>1</th>\n",
              "      <td>@ahrens_theo frج¦hlicher gruجظ aus der schج¦ns...</td>\n",
              "      <td>0</td>\n",
              "      <td>1.0</td>\n",
              "    </tr>\n",
              "    <tr>\n",
              "      <th>2</th>\n",
              "      <td>@dushanwegner Amis hج_tten alles und jeden gew...</td>\n",
              "      <td>0</td>\n",
              "      <td>0.0</td>\n",
              "    </tr>\n",
              "    <tr>\n",
              "      <th>3</th>\n",
              "      <td>@spdde kein verlج_جظlicher Verhandlungspartner...</td>\n",
              "      <td>1</td>\n",
              "      <td>0.0</td>\n",
              "    </tr>\n",
              "    <tr>\n",
              "      <th>4</th>\n",
              "      <td>@Dirki_M Ja, aber wo widersprechen die Zahlen ...</td>\n",
              "      <td>0</td>\n",
              "      <td>0.0</td>\n",
              "    </tr>\n",
              "    <tr>\n",
              "      <th>...</th>\n",
              "      <td>...</td>\n",
              "      <td>...</td>\n",
              "      <td>...</td>\n",
              "    </tr>\n",
              "    <tr>\n",
              "      <th>5003</th>\n",
              "      <td>Gegens. Zul. zu Patenamt &amp;amp; gegenseitige An...</td>\n",
              "      <td>0</td>\n",
              "      <td>0.0</td>\n",
              "    </tr>\n",
              "    <tr>\n",
              "      <th>5004</th>\n",
              "      <td>@GlasenappHenrik Zu Merkel fج_llt mir nur ein,...</td>\n",
              "      <td>1</td>\n",
              "      <td>0.0</td>\n",
              "    </tr>\n",
              "    <tr>\n",
              "      <th>5005</th>\n",
              "      <td>@KokoLores20 @krippmarie Ein richtiges Zeichen...</td>\n",
              "      <td>1</td>\n",
              "      <td>0.0</td>\n",
              "    </tr>\n",
              "    <tr>\n",
              "      <th>5006</th>\n",
              "      <td>@Hartes_Geld ,Honecker‰غ÷Merkel macht uns zur ...</td>\n",
              "      <td>1</td>\n",
              "      <td>1.0</td>\n",
              "    </tr>\n",
              "    <tr>\n",
              "      <th>5007</th>\n",
              "      <td>Warum wurden die G20-Chaoten nicht sofort auf ...</td>\n",
              "      <td>0</td>\n",
              "      <td>0.0</td>\n",
              "    </tr>\n",
              "  </tbody>\n",
              "</table>\n",
              "<p>5008 rows × 3 columns</p>\n",
              "</div>"
            ],
            "text/plain": [
              "                                                  tweet  label  Prediction\n",
              "0     @Martin28a Sie haben ja auch Recht. Unser Twee...      0         0.0\n",
              "1     @ahrens_theo frج¦hlicher gruجظ aus der schج¦ns...      0         1.0\n",
              "2     @dushanwegner Amis hج_tten alles und jeden gew...      0         0.0\n",
              "3     @spdde kein verlج_جظlicher Verhandlungspartner...      1         0.0\n",
              "4     @Dirki_M Ja, aber wo widersprechen die Zahlen ...      0         0.0\n",
              "...                                                 ...    ...         ...\n",
              "5003  Gegens. Zul. zu Patenamt &amp; gegenseitige An...      0         0.0\n",
              "5004  @GlasenappHenrik Zu Merkel fج_llt mir nur ein,...      1         0.0\n",
              "5005  @KokoLores20 @krippmarie Ein richtiges Zeichen...      1         0.0\n",
              "5006  @Hartes_Geld ,Honecker‰غ÷Merkel macht uns zur ...      1         1.0\n",
              "5007  Warum wurden die G20-Chaoten nicht sofort auf ...      0         0.0\n",
              "\n",
              "[5008 rows x 3 columns]"
            ]
          },
          "metadata": {
            "tags": []
          },
          "execution_count": 150
        }
      ]
    },
    {
      "cell_type": "markdown",
      "metadata": {
        "id": "hJNlYbB8GNgR"
      },
      "source": [
        "## Testing Dataset "
      ]
    },
    {
      "cell_type": "code",
      "metadata": {
        "id": "y9dNA8_tGBj_"
      },
      "source": [
        ""
      ],
      "execution_count": null,
      "outputs": []
    },
    {
      "cell_type": "code",
      "metadata": {
        "colab": {
          "base_uri": "https://localhost:8080/"
        },
        "id": "kPDMCpYpGUtn",
        "outputId": "9cd1c550-52fb-47bc-8865-9646c710c927"
      },
      "source": [
        "from sklearn.metrics import accuracy_score\n",
        "y_pred = test_set[\"Prediction\"].tolist()\n",
        "y_true = test_set[\"label\"].tolist()\n",
        "accuracy_score(y_true, y_pred)"
      ],
      "execution_count": 151,
      "outputs": [
        {
          "output_type": "execute_result",
          "data": {
            "text/plain": [
              "0.6974840255591054"
            ]
          },
          "metadata": {
            "tags": []
          },
          "execution_count": 151
        }
      ]
    },
    {
      "cell_type": "code",
      "metadata": {
        "colab": {
          "base_uri": "https://localhost:8080/"
        },
        "id": "XhiIvNTDGUto",
        "outputId": "2072d535-7bcc-4ea1-9217-f4c10ba1ce15"
      },
      "source": [
        "from sklearn.metrics import roc_curve, roc_auc_score\n",
        "test_combined_auc = roc_auc_score(y_true, y_pred)\n",
        "test_combined_auc"
      ],
      "execution_count": 152,
      "outputs": [
        {
          "output_type": "execute_result",
          "data": {
            "text/plain": [
              "0.621426226231942"
            ]
          },
          "metadata": {
            "tags": []
          },
          "execution_count": 152
        }
      ]
    },
    {
      "cell_type": "code",
      "metadata": {
        "colab": {
          "base_uri": "https://localhost:8080/"
        },
        "id": "9BZsXpG2GUtp",
        "outputId": "f9f58d83-3f65-4936-fc09-29713e14b8c0"
      },
      "source": [
        "from sklearn.metrics import precision_recall_fscore_support\n",
        "precision ,recall, fscore , _  =precision_recall_fscore_support(y_true, y_pred, average='weighted')\n",
        "print('precision:' , precision , '    recall : '  ,recall, '    fscore : ' ,fscore)"
      ],
      "execution_count": 156,
      "outputs": [
        {
          "output_type": "stream",
          "text": [
            "precision: 0.6802029476659047     recall :  0.6974840255591054     fscore :  0.6795719502592449\n"
          ],
          "name": "stdout"
        }
      ]
    },
    {
      "cell_type": "markdown",
      "metadata": {
        "id": "OYsqeaWULfxc"
      },
      "source": [
        "### Testing Single Value"
      ]
    },
    {
      "cell_type": "code",
      "metadata": {
        "id": "98Q81I8UYQ98"
      },
      "source": [
        "test_scentence = np.array([\"Some toxic and rude text here\"])"
      ],
      "execution_count": null,
      "outputs": []
    },
    {
      "cell_type": "code",
      "metadata": {
        "id": "YeKlmJRiRaRu"
      },
      "source": [
        "\n",
        "x_test = encode(test_scentence, tokenizer, MAX_LEN)"
      ],
      "execution_count": null,
      "outputs": []
    },
    {
      "cell_type": "code",
      "metadata": {
        "id": "HfjVvaJsV_7y"
      },
      "source": [
        "\n",
        "test_dataset = (\n",
        "      tf.data.Dataset\n",
        "      .from_tensor_slices(x_test)\n",
        "      .batch(BATCH_SIZE)\n",
        "  )\n"
      ],
      "execution_count": null,
      "outputs": []
    },
    {
      "cell_type": "code",
      "metadata": {
        "id": "cqmWUfM3W41M",
        "colab": {
          "base_uri": "https://localhost:8080/"
        },
        "outputId": "fa9b49ff-a756-4d1b-c57d-f89d844e4f64"
      },
      "source": [
        "model.predict(test_dataset , verbose=1 )"
      ],
      "execution_count": null,
      "outputs": [
        {
          "output_type": "stream",
          "text": [
            "1/1 [==============================] - 2s 2s/step\n"
          ],
          "name": "stdout"
        },
        {
          "output_type": "execute_result",
          "data": {
            "text/plain": [
              "array([[0.9897592]], dtype=float32)"
            ]
          },
          "metadata": {
            "tags": []
          },
          "execution_count": 86
        }
      ]
    },
    {
      "cell_type": "code",
      "metadata": {
        "id": "SMJZkFckUooO"
      },
      "source": [
        ""
      ],
      "execution_count": null,
      "outputs": []
    }
  ]
}